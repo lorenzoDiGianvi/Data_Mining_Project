{
 "cells": [
  {
   "cell_type": "code",
   "execution_count": 1,
   "metadata": {},
   "outputs": [],
   "source": [
    "# to show an image automatically within the browser without using show()\n",
    "%matplotlib inline \n",
    "\n",
    "import math\n",
    "import numpy as np # for working with arrays\n",
    "import pandas as pd # for working with tables\n",
    "import scipy.stats as stats\n",
    "import matplotlib.pyplot as plt # for visualization (creating plots)\n",
    "\n",
    "import statistics as sts # statistic module for variance"
   ]
  },
  {
   "cell_type": "code",
   "execution_count": 2,
   "metadata": {},
   "outputs": [],
   "source": [
    "from sklearn.metrics import *\n",
    "from sklearn.cluster import KMeans\n",
    "from sklearn.cluster import DBSCAN\n",
    "from sklearn.cluster import AgglomerativeClustering\n",
    "from sklearn.neighbors import kneighbors_graph"
   ]
  },
  {
   "cell_type": "code",
   "execution_count": 3,
   "metadata": {},
   "outputs": [],
   "source": [
    "from sklearn.preprocessing import StandardScaler, MinMaxScaler, RobustScaler"
   ]
  },
  {
   "cell_type": "code",
   "execution_count": 4,
   "metadata": {},
   "outputs": [],
   "source": [
    "df = pd.read_csv('Train_newColumns.csv')"
   ]
  },
  {
   "cell_type": "code",
   "execution_count": 5,
   "metadata": {},
   "outputs": [],
   "source": [
    "#droppo le variabili numeriche \n",
    "dfnew = df.drop(columns=['Attrition','JobRole','EducationField','BusinessTravel','Department','EnvironmentSatisfaction','Education' ,'Gender','JobInvolvement','JobSatisfaction','MaritalStatus','OverTime','RelationshipSatisfaction','StockOptionLevel', 'WorkLifeBalance' ])"
   ]
  },
  {
   "cell_type": "code",
   "execution_count": 6,
   "metadata": {},
   "outputs": [],
   "source": [
    "#MI - ST - YAC\n",
    "df5 = dfnew.drop(columns=['Age','DistanceFromHome','NumCompaniesWorked','PercentSalaryHike','TrainingTimesLastYear','YearsWithCurrManager','TotalWorkingYears'])"
   ]
  },
  {
   "cell_type": "code",
   "execution_count": 7,
   "metadata": {},
   "outputs": [
    {
     "name": "stdout",
     "output_type": "stream",
     "text": [
      "<class 'pandas.core.frame.DataFrame'>\n",
      "RangeIndex: 1013 entries, 0 to 1012\n",
      "Data columns (total 3 columns):\n",
      " #   Column          Non-Null Count  Dtype\n",
      "---  ------          --------------  -----\n",
      " 0   MonthlyIncome   1013 non-null   int64\n",
      " 1   YearsAtCompany  1013 non-null   int64\n",
      " 2   Stagnation      1013 non-null   int64\n",
      "dtypes: int64(3)\n",
      "memory usage: 23.9 KB\n"
     ]
    }
   ],
   "source": [
    "df5.info()"
   ]
  },
  {
   "cell_type": "code",
   "execution_count": 8,
   "metadata": {},
   "outputs": [],
   "source": [
    "#il MinMaxScaler fa una normalizzazione nel range 0 e 1\n",
    "scaler = StandardScaler()\n",
    "#il metodo qui sotto fa un fit e poi trasforma\n",
    "df_zscore = scaler.fit_transform(df5.values) #x = dataset normalizzato"
   ]
  },
  {
   "cell_type": "code",
   "execution_count": 9,
   "metadata": {},
   "outputs": [
    {
     "data": {
      "text/plain": [
       "DBSCAN(eps=0.22, min_samples=30)"
      ]
     },
     "execution_count": 9,
     "metadata": {},
     "output_type": "execute_result"
    }
   ],
   "source": [
    "# il fit parte dal dataset normalizzato X\n",
    "#eps distanza massima tra due punti\n",
    "dbscan = DBSCAN(eps=0.22, min_samples=30)\n",
    "dbscan.fit(df_zscore)"
   ]
  },
  {
   "cell_type": "code",
   "execution_count": 78,
   "metadata": {},
   "outputs": [
    {
     "data": {
      "text/plain": [
       "(array([-1,  0,  1,  2,  3,  4,  5]),\n",
       " array([536, 193,  57,  53,  74,  45,  55]))"
      ]
     },
     "execution_count": 78,
     "metadata": {},
     "output_type": "execute_result"
    }
   ],
   "source": [
    "np.unique(dbscan.labels_, return_counts=True)"
   ]
  },
  {
   "cell_type": "code",
   "execution_count": 10,
   "metadata": {},
   "outputs": [],
   "source": [
    "from scipy.spatial.distance import pdist, squareform"
   ]
  },
  {
   "cell_type": "code",
   "execution_count": 80,
   "metadata": {},
   "outputs": [
    {
     "name": "stdout",
     "output_type": "stream",
     "text": [
      "[0.72896471 0.42305599 0.41175934 ... 0.63931751 0.73296719 0.22959876]\n",
      "\n",
      "[[0.         0.72896471 0.42305599 ... 0.88754573 1.32955606 1.27655149]\n",
      " [0.72896471 0.         0.78540899 ... 0.30983733 0.94577328 1.01711353]\n",
      " [0.42305599 0.78540899 0.         ... 1.03441076 1.57203134 1.54548621]\n",
      " ...\n",
      " [0.88754573 0.30983733 1.03441076 ... 0.         0.63931751 0.73296719]\n",
      " [1.32955606 0.94577328 1.57203134 ... 0.63931751 0.         0.22959876]\n",
      " [1.27655149 1.01711353 1.54548621 ... 0.73296719 0.22959876 0.        ]]\n"
     ]
    }
   ],
   "source": [
    "#vettore \n",
    "dist = pdist(df_zscore, 'euclidean') #pair wise distance tra tutti i punti, (X)\n",
    "print (dist)\n",
    "#trasformiamo il vettore in una matrice\n",
    "dist = squareform(dist) #distance matrix given the vector dist\n",
    "print()\n",
    "print(dist)"
   ]
  },
  {
   "cell_type": "code",
   "execution_count": 65,
   "metadata": {},
   "outputs": [],
   "source": [
    "k = 6\n",
    "kth_distances = list()\n",
    "#selezionamo la distanza dai 5 vicini\n",
    "for d in dist:\n",
    "    #selezioniamo la distanza\n",
    "    index_kth_distance = np.argsort(d)[k]\n",
    "    kth_distances.append(d[index_kth_distance])"
   ]
  },
  {
   "cell_type": "code",
   "execution_count": 66,
   "metadata": {},
   "outputs": [
    {
     "data": {
      "image/png": "[encoded data removed]",
      "text/plain": [
       "<Figure size 432x288 with 1 Axes>"
      ]
     },
     "metadata": {
      "needs_background": "light"
     },
     "output_type": "display_data"
    }
   ],
   "source": [
    "#nel range da 0 alla distanza, distanza sorted\n",
    "#per il parametro epsilon quando scegliamo 5 esempi scegliamo i valori attorno a 0.22\n",
    "plt.plot(range(0, len(kth_distances)), sorted(kth_distances))\n",
    "plt.ylabel('dist from %sth neighbor'% k, fontsize=18)\n",
    "plt.xlabel('', fontsize=18)\n",
    "plt.tick_params(axis='both', which='major', labelsize=22)\n",
    "plt.show()"
   ]
  },
  {
   "cell_type": "code",
   "execution_count": 47,
   "metadata": {},
   "outputs": [
    {
     "data": {
      "text/plain": [
       "array([-1,  3, -1,  2,  3, -1, 14, -1,  2, -1, 10, 15,  2,  1,  2,  0, -1,\n",
       "        1,  3,  3,  2,  3, 10,  2,  3, -1, 10, -1,  0,  8,  3,  2,  3,  3,\n",
       "       -1,  0, -1, 15,  5,  1,  3,  0,  3,  3,  3,  2, -1,  2,  0,  2,  6,\n",
       "       -1,  3, 15, -1,  2,  6,  3, -1, -1, -1,  1,  5,  1,  3,  3,  3,  2,\n",
       "       12,  3,  0,  4,  6, 11,  3,  3, -1, 12, -1,  2,  2,  2, 10,  3, 11,\n",
       "        2, 10,  3,  2,  3, -1,  3,  3,  2,  3,  1,  6, 11, 12, -1])"
      ]
     },
     "execution_count": 47,
     "metadata": {},
     "output_type": "execute_result"
    }
   ],
   "source": [
    "dbscan.labels_[100:200] #se abbiamo -1 = noise"
   ]
  },
  {
   "cell_type": "code",
   "execution_count": null,
   "metadata": {},
   "outputs": [],
   "source": []
  },
  {
   "cell_type": "code",
   "execution_count": 68,
   "metadata": {},
   "outputs": [
    {
     "data": {
      "image/png": "[encoded data removed]",
      "text/plain": [
       "<Figure size 432x288 with 1 Axes>"
      ]
     },
     "metadata": {
      "needs_background": "light"
     },
     "output_type": "display_data"
    }
   ],
   "source": [
    "plt.scatter(df_zscore[:,0], df_zscore[:,2], s = 20, c = dbscan.labels_)\n",
    "plt.tick_params(axis='both', labelsize=20)\n",
    "plt.show()"
   ]
  },
  {
   "cell_type": "code",
   "execution_count": 13,
   "metadata": {},
   "outputs": [
    {
     "name": "stdout",
     "output_type": "stream",
     "text": [
      "Silhouette 0.0060717292022843955\n"
     ]
    }
   ],
   "source": [
    "\n",
    "print('Silhouette %s' % silhouette_score(df_zscore, dbscan.labels_))"
   ]
  },
  {
   "cell_type": "code",
   "execution_count": 73,
   "metadata": {},
   "outputs": [],
   "source": [
    "df['DBscanCluster'] = dbscan.labels_"
   ]
  },
  {
   "cell_type": "code",
   "execution_count": 74,
   "metadata": {},
   "outputs": [
    {
     "name": "stdout",
     "output_type": "stream",
     "text": [
      "<class 'pandas.core.frame.DataFrame'>\n",
      "RangeIndex: 1013 entries, 0 to 1012\n",
      "Data columns (total 26 columns):\n",
      " #   Column                    Non-Null Count  Dtype \n",
      "---  ------                    --------------  ----- \n",
      " 0   Age                       1013 non-null   int64 \n",
      " 1   Attrition                 1013 non-null   int64 \n",
      " 2   BusinessTravel            1013 non-null   object\n",
      " 3   Department                1013 non-null   object\n",
      " 4   DistanceFromHome          1013 non-null   int64 \n",
      " 5   Education                 1013 non-null   int64 \n",
      " 6   EducationField            1013 non-null   object\n",
      " 7   EnvironmentSatisfaction   1013 non-null   int64 \n",
      " 8   Gender                    1013 non-null   int64 \n",
      " 9   JobInvolvement            1013 non-null   int64 \n",
      " 10  JobRole                   1013 non-null   object\n",
      " 11  JobSatisfaction           1013 non-null   int64 \n",
      " 12  MaritalStatus             1013 non-null   object\n",
      " 13  MonthlyIncome             1013 non-null   int64 \n",
      " 14  NumCompaniesWorked        1013 non-null   int64 \n",
      " 15  OverTime                  1013 non-null   int64 \n",
      " 16  PercentSalaryHike         1013 non-null   int64 \n",
      " 17  RelationshipSatisfaction  1013 non-null   int64 \n",
      " 18  StockOptionLevel          1013 non-null   int64 \n",
      " 19  TotalWorkingYears         1013 non-null   int64 \n",
      " 20  TrainingTimesLastYear     1013 non-null   int64 \n",
      " 21  WorkLifeBalance           1013 non-null   int64 \n",
      " 22  YearsAtCompany            1013 non-null   int64 \n",
      " 23  YearsWithCurrManager      1013 non-null   int64 \n",
      " 24  Stagnation                1013 non-null   int64 \n",
      " 25  DBscanCluster             1013 non-null   int64 \n",
      "dtypes: int64(21), object(5)\n",
      "memory usage: 205.9+ KB\n"
     ]
    }
   ],
   "source": [
    "df.info()"
   ]
  },
  {
   "cell_type": "code",
   "execution_count": 81,
   "metadata": {},
   "outputs": [],
   "source": [
    "c = df.groupby(['DBscanCluster']).mean()"
   ]
  },
  {
   "cell_type": "code",
   "execution_count": 82,
   "metadata": {},
   "outputs": [],
   "source": [
    "c.to_csv('tabella_con_dbscanCluster.csv', index=False)"
   ]
  },
  {
   "cell_type": "code",
   "execution_count": 83,
   "metadata": {},
   "outputs": [],
   "source": [
    "df.to_csv('con_col_dbscanCluster.csv', index= False)"
   ]
  },
  {
   "cell_type": "code",
   "execution_count": null,
   "metadata": {},
   "outputs": [],
   "source": []
  }
 ],
 "metadata": {
  "kernelspec": {
   "display_name": "Python 3",
   "language": "python",
   "name": "python3"
  },
  "language_info": {
   "codemirror_mode": {
    "name": "ipython",
    "version": 3
   },
   "file_extension": ".py",
   "mimetype": "text/x-python",
   "name": "python",
   "nbconvert_exporter": "python",
   "pygments_lexer": "ipython3",
   "version": "3.8.5"
  }
 },
 "nbformat": 4,
 "nbformat_minor": 4
}
