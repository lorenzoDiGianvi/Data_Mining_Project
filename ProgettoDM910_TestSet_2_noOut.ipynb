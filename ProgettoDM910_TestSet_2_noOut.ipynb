{
 "cells": [
  {
   "cell_type": "markdown",
   "metadata": {},
   "source": [
    "## DATASET senza outliers e senza errori semantici\n",
    "Abbiamo\n",
    "- Binarizzato tutte le variabili ad eccezione di Attrition"
   ]
  },
  {
   "cell_type": "code",
   "execution_count": 1,
   "metadata": {},
   "outputs": [],
   "source": [
    "# to show an image automatically within the browser without using show()\n",
    "%matplotlib inline \n",
    "\n",
    "import math\n",
    "import numpy as np # for working with arrays\n",
    "import pandas as pd # for working with tables\n",
    "import scipy.stats as stats\n",
    "import matplotlib.pyplot as plt # for visualization (creating plots)"
   ]
  },
  {
   "cell_type": "code",
   "execution_count": 2,
   "metadata": {},
   "outputs": [],
   "source": [
    "# mettiamo il dataframe dentro la variabile df\n",
    "df = pd.read_csv('Test_HR_Employee_Attrition.csv')"
   ]
  },
  {
   "cell_type": "code",
   "execution_count": 3,
   "metadata": {
    "scrolled": false
   },
   "outputs": [
    {
     "name": "stdout",
     "output_type": "stream",
     "text": [
      "<class 'pandas.core.frame.DataFrame'>\n",
      "RangeIndex: 294 entries, 0 to 293\n",
      "Data columns (total 33 columns):\n",
      " #   Column                    Non-Null Count  Dtype  \n",
      "---  ------                    --------------  -----  \n",
      " 0   Age                       258 non-null    float64\n",
      " 1   Attrition                 294 non-null    object \n",
      " 2   BusinessTravel            270 non-null    object \n",
      " 3   DailyRate                 294 non-null    int64  \n",
      " 4   Department                294 non-null    object \n",
      " 5   DistanceFromHome          294 non-null    int64  \n",
      " 6   Education                 294 non-null    int64  \n",
      " 7   EducationField            294 non-null    object \n",
      " 8   EnvironmentSatisfaction   294 non-null    int64  \n",
      " 9   Gender                    278 non-null    object \n",
      " 10  HourlyRate                294 non-null    int64  \n",
      " 11  JobInvolvement            294 non-null    int64  \n",
      " 12  JobLevel                  294 non-null    int64  \n",
      " 13  JobRole                   294 non-null    object \n",
      " 14  JobSatisfaction           294 non-null    int64  \n",
      " 15  MaritalStatus             294 non-null    object \n",
      " 16  MonthlyIncome             227 non-null    float64\n",
      " 17  MonthlyRate               294 non-null    int64  \n",
      " 18  NumCompaniesWorked        294 non-null    int64  \n",
      " 19  Over18                    198 non-null    object \n",
      " 20  OverTime                  294 non-null    object \n",
      " 21  PercentSalaryHike         294 non-null    int64  \n",
      " 22  PerformanceRating         260 non-null    float64\n",
      " 23  RelationshipSatisfaction  294 non-null    int64  \n",
      " 24  StandardHours             147 non-null    float64\n",
      " 25  StockOptionLevel          294 non-null    int64  \n",
      " 26  TotalWorkingYears         294 non-null    int64  \n",
      " 27  TrainingTimesLastYear     235 non-null    float64\n",
      " 28  WorkLifeBalance           294 non-null    int64  \n",
      " 29  YearsAtCompany            280 non-null    float64\n",
      " 30  YearsInCurrentRole        294 non-null    int64  \n",
      " 31  YearsSinceLastPromotion   294 non-null    int64  \n",
      " 32  YearsWithCurrManager      294 non-null    int64  \n",
      "dtypes: float64(6), int64(18), object(9)\n",
      "memory usage: 75.9+ KB\n"
     ]
    }
   ],
   "source": [
    "df.info()"
   ]
  },
  {
   "cell_type": "code",
   "execution_count": 4,
   "metadata": {},
   "outputs": [
    {
     "data": {
      "text/plain": [
       "Age                          36\n",
       "Attrition                     0\n",
       "BusinessTravel               24\n",
       "DailyRate                     0\n",
       "Department                    0\n",
       "DistanceFromHome              0\n",
       "Education                     0\n",
       "EducationField                0\n",
       "EnvironmentSatisfaction       0\n",
       "Gender                       16\n",
       "HourlyRate                    0\n",
       "JobInvolvement                0\n",
       "JobLevel                      0\n",
       "JobRole                       0\n",
       "JobSatisfaction               0\n",
       "MaritalStatus                 0\n",
       "MonthlyIncome                67\n",
       "MonthlyRate                   0\n",
       "NumCompaniesWorked            0\n",
       "Over18                       96\n",
       "OverTime                      0\n",
       "PercentSalaryHike             0\n",
       "PerformanceRating            34\n",
       "RelationshipSatisfaction      0\n",
       "StandardHours               147\n",
       "StockOptionLevel              0\n",
       "TotalWorkingYears             0\n",
       "TrainingTimesLastYear        59\n",
       "WorkLifeBalance               0\n",
       "YearsAtCompany               14\n",
       "YearsInCurrentRole            0\n",
       "YearsSinceLastPromotion       0\n",
       "YearsWithCurrManager          0\n",
       "dtype: int64"
      ]
     },
     "execution_count": 4,
     "metadata": {},
     "output_type": "execute_result"
    }
   ],
   "source": [
    "# quanti valori mancanti ci sono per ogni colonna?\n",
    "df.isnull().sum()"
   ]
  },
  {
   "cell_type": "code",
   "execution_count": 5,
   "metadata": {},
   "outputs": [
    {
     "data": {
      "text/html": [
       "<div>\n",
       "<style scoped>\n",
       "    .dataframe tbody tr th:only-of-type {\n",
       "        vertical-align: middle;\n",
       "    }\n",
       "\n",
       "    .dataframe tbody tr th {\n",
       "        vertical-align: top;\n",
       "    }\n",
       "\n",
       "    .dataframe thead th {\n",
       "        text-align: right;\n",
       "    }\n",
       "</style>\n",
       "<table border=\"1\" class=\"dataframe\">\n",
       "  <thead>\n",
       "    <tr style=\"text-align: right;\">\n",
       "      <th></th>\n",
       "      <th>Age</th>\n",
       "      <th>DailyRate</th>\n",
       "      <th>DistanceFromHome</th>\n",
       "      <th>Education</th>\n",
       "      <th>EnvironmentSatisfaction</th>\n",
       "      <th>HourlyRate</th>\n",
       "      <th>JobInvolvement</th>\n",
       "      <th>JobLevel</th>\n",
       "      <th>JobSatisfaction</th>\n",
       "      <th>MonthlyIncome</th>\n",
       "      <th>...</th>\n",
       "      <th>RelationshipSatisfaction</th>\n",
       "      <th>StandardHours</th>\n",
       "      <th>StockOptionLevel</th>\n",
       "      <th>TotalWorkingYears</th>\n",
       "      <th>TrainingTimesLastYear</th>\n",
       "      <th>WorkLifeBalance</th>\n",
       "      <th>YearsAtCompany</th>\n",
       "      <th>YearsInCurrentRole</th>\n",
       "      <th>YearsSinceLastPromotion</th>\n",
       "      <th>YearsWithCurrManager</th>\n",
       "    </tr>\n",
       "  </thead>\n",
       "  <tbody>\n",
       "    <tr>\n",
       "      <th>Age</th>\n",
       "      <td>1.000000</td>\n",
       "      <td>-0.050883</td>\n",
       "      <td>0.041333</td>\n",
       "      <td>0.016237</td>\n",
       "      <td>0.007694</td>\n",
       "      <td>-0.005546</td>\n",
       "      <td>-0.018802</td>\n",
       "      <td>-0.015713</td>\n",
       "      <td>-0.070178</td>\n",
       "      <td>0.599610</td>\n",
       "      <td>...</td>\n",
       "      <td>0.007608</td>\n",
       "      <td>NaN</td>\n",
       "      <td>0.068957</td>\n",
       "      <td>-0.020463</td>\n",
       "      <td>-0.022409</td>\n",
       "      <td>0.046623</td>\n",
       "      <td>0.264033</td>\n",
       "      <td>-0.014739</td>\n",
       "      <td>0.001512</td>\n",
       "      <td>-0.025627</td>\n",
       "    </tr>\n",
       "    <tr>\n",
       "      <th>DailyRate</th>\n",
       "      <td>-0.050883</td>\n",
       "      <td>1.000000</td>\n",
       "      <td>-0.085510</td>\n",
       "      <td>-0.023623</td>\n",
       "      <td>-0.099819</td>\n",
       "      <td>0.086804</td>\n",
       "      <td>0.031158</td>\n",
       "      <td>0.051584</td>\n",
       "      <td>-0.025681</td>\n",
       "      <td>0.056841</td>\n",
       "      <td>...</td>\n",
       "      <td>0.030283</td>\n",
       "      <td>NaN</td>\n",
       "      <td>0.050244</td>\n",
       "      <td>0.012506</td>\n",
       "      <td>-0.002550</td>\n",
       "      <td>-0.003025</td>\n",
       "      <td>0.011632</td>\n",
       "      <td>0.033694</td>\n",
       "      <td>-0.034150</td>\n",
       "      <td>-0.075487</td>\n",
       "    </tr>\n",
       "    <tr>\n",
       "      <th>DistanceFromHome</th>\n",
       "      <td>0.041333</td>\n",
       "      <td>-0.085510</td>\n",
       "      <td>1.000000</td>\n",
       "      <td>0.020364</td>\n",
       "      <td>-0.082358</td>\n",
       "      <td>0.006145</td>\n",
       "      <td>0.085385</td>\n",
       "      <td>-0.044624</td>\n",
       "      <td>-0.035249</td>\n",
       "      <td>0.002016</td>\n",
       "      <td>...</td>\n",
       "      <td>-0.022620</td>\n",
       "      <td>NaN</td>\n",
       "      <td>-0.065619</td>\n",
       "      <td>-0.009385</td>\n",
       "      <td>0.051397</td>\n",
       "      <td>-0.025151</td>\n",
       "      <td>-0.062184</td>\n",
       "      <td>0.037397</td>\n",
       "      <td>0.029293</td>\n",
       "      <td>0.046152</td>\n",
       "    </tr>\n",
       "    <tr>\n",
       "      <th>Education</th>\n",
       "      <td>0.016237</td>\n",
       "      <td>-0.023623</td>\n",
       "      <td>0.020364</td>\n",
       "      <td>1.000000</td>\n",
       "      <td>0.073383</td>\n",
       "      <td>0.063112</td>\n",
       "      <td>0.057966</td>\n",
       "      <td>0.135128</td>\n",
       "      <td>0.074762</td>\n",
       "      <td>-0.007773</td>\n",
       "      <td>...</td>\n",
       "      <td>-0.069158</td>\n",
       "      <td>NaN</td>\n",
       "      <td>0.077352</td>\n",
       "      <td>0.161699</td>\n",
       "      <td>0.030506</td>\n",
       "      <td>-0.056934</td>\n",
       "      <td>0.064226</td>\n",
       "      <td>0.082967</td>\n",
       "      <td>0.132988</td>\n",
       "      <td>0.076276</td>\n",
       "    </tr>\n",
       "    <tr>\n",
       "      <th>EnvironmentSatisfaction</th>\n",
       "      <td>0.007694</td>\n",
       "      <td>-0.099819</td>\n",
       "      <td>-0.082358</td>\n",
       "      <td>0.073383</td>\n",
       "      <td>1.000000</td>\n",
       "      <td>-0.071132</td>\n",
       "      <td>-0.008588</td>\n",
       "      <td>-0.123126</td>\n",
       "      <td>0.026437</td>\n",
       "      <td>0.118768</td>\n",
       "      <td>...</td>\n",
       "      <td>-0.031469</td>\n",
       "      <td>NaN</td>\n",
       "      <td>-0.065538</td>\n",
       "      <td>-0.130561</td>\n",
       "      <td>0.053270</td>\n",
       "      <td>-0.001430</td>\n",
       "      <td>0.036188</td>\n",
       "      <td>-0.034149</td>\n",
       "      <td>-0.058702</td>\n",
       "      <td>-0.086837</td>\n",
       "    </tr>\n",
       "    <tr>\n",
       "      <th>HourlyRate</th>\n",
       "      <td>-0.005546</td>\n",
       "      <td>0.086804</td>\n",
       "      <td>0.006145</td>\n",
       "      <td>0.063112</td>\n",
       "      <td>-0.071132</td>\n",
       "      <td>1.000000</td>\n",
       "      <td>0.080843</td>\n",
       "      <td>0.038063</td>\n",
       "      <td>0.006727</td>\n",
       "      <td>-0.000248</td>\n",
       "      <td>...</td>\n",
       "      <td>-0.007236</td>\n",
       "      <td>NaN</td>\n",
       "      <td>0.148801</td>\n",
       "      <td>0.068170</td>\n",
       "      <td>-0.011123</td>\n",
       "      <td>0.039950</td>\n",
       "      <td>-0.009958</td>\n",
       "      <td>-0.004787</td>\n",
       "      <td>0.020604</td>\n",
       "      <td>0.003192</td>\n",
       "    </tr>\n",
       "    <tr>\n",
       "      <th>JobInvolvement</th>\n",
       "      <td>-0.018802</td>\n",
       "      <td>0.031158</td>\n",
       "      <td>0.085385</td>\n",
       "      <td>0.057966</td>\n",
       "      <td>-0.008588</td>\n",
       "      <td>0.080843</td>\n",
       "      <td>1.000000</td>\n",
       "      <td>0.028701</td>\n",
       "      <td>-0.001487</td>\n",
       "      <td>0.075722</td>\n",
       "      <td>...</td>\n",
       "      <td>-0.053914</td>\n",
       "      <td>NaN</td>\n",
       "      <td>-0.063571</td>\n",
       "      <td>0.067611</td>\n",
       "      <td>0.051382</td>\n",
       "      <td>0.037059</td>\n",
       "      <td>-0.041823</td>\n",
       "      <td>0.036764</td>\n",
       "      <td>0.008285</td>\n",
       "      <td>0.041226</td>\n",
       "    </tr>\n",
       "    <tr>\n",
       "      <th>JobLevel</th>\n",
       "      <td>-0.015713</td>\n",
       "      <td>0.051584</td>\n",
       "      <td>-0.044624</td>\n",
       "      <td>0.135128</td>\n",
       "      <td>-0.123126</td>\n",
       "      <td>0.038063</td>\n",
       "      <td>0.028701</td>\n",
       "      <td>1.000000</td>\n",
       "      <td>0.001255</td>\n",
       "      <td>-0.002193</td>\n",
       "      <td>...</td>\n",
       "      <td>0.128613</td>\n",
       "      <td>NaN</td>\n",
       "      <td>0.042979</td>\n",
       "      <td>0.806010</td>\n",
       "      <td>0.005795</td>\n",
       "      <td>0.055385</td>\n",
       "      <td>0.150630</td>\n",
       "      <td>0.346354</td>\n",
       "      <td>0.372920</td>\n",
       "      <td>0.322504</td>\n",
       "    </tr>\n",
       "    <tr>\n",
       "      <th>JobSatisfaction</th>\n",
       "      <td>-0.070178</td>\n",
       "      <td>-0.025681</td>\n",
       "      <td>-0.035249</td>\n",
       "      <td>0.074762</td>\n",
       "      <td>0.026437</td>\n",
       "      <td>0.006727</td>\n",
       "      <td>-0.001487</td>\n",
       "      <td>0.001255</td>\n",
       "      <td>1.000000</td>\n",
       "      <td>-0.091783</td>\n",
       "      <td>...</td>\n",
       "      <td>0.032319</td>\n",
       "      <td>NaN</td>\n",
       "      <td>0.094052</td>\n",
       "      <td>-0.014736</td>\n",
       "      <td>0.129749</td>\n",
       "      <td>0.027933</td>\n",
       "      <td>-0.016082</td>\n",
       "      <td>-0.029334</td>\n",
       "      <td>0.039949</td>\n",
       "      <td>-0.008994</td>\n",
       "    </tr>\n",
       "    <tr>\n",
       "      <th>MonthlyIncome</th>\n",
       "      <td>0.599610</td>\n",
       "      <td>0.056841</td>\n",
       "      <td>0.002016</td>\n",
       "      <td>-0.007773</td>\n",
       "      <td>0.118768</td>\n",
       "      <td>-0.000248</td>\n",
       "      <td>0.075722</td>\n",
       "      <td>-0.002193</td>\n",
       "      <td>-0.091783</td>\n",
       "      <td>1.000000</td>\n",
       "      <td>...</td>\n",
       "      <td>-0.044848</td>\n",
       "      <td>NaN</td>\n",
       "      <td>-0.000568</td>\n",
       "      <td>0.000028</td>\n",
       "      <td>0.035376</td>\n",
       "      <td>0.073899</td>\n",
       "      <td>0.412817</td>\n",
       "      <td>0.017813</td>\n",
       "      <td>0.031094</td>\n",
       "      <td>0.030738</td>\n",
       "    </tr>\n",
       "    <tr>\n",
       "      <th>MonthlyRate</th>\n",
       "      <td>0.108948</td>\n",
       "      <td>-0.034422</td>\n",
       "      <td>0.105029</td>\n",
       "      <td>-0.051323</td>\n",
       "      <td>0.015030</td>\n",
       "      <td>-0.039343</td>\n",
       "      <td>-0.028347</td>\n",
       "      <td>-0.031492</td>\n",
       "      <td>-0.051731</td>\n",
       "      <td>-0.014169</td>\n",
       "      <td>...</td>\n",
       "      <td>-0.105149</td>\n",
       "      <td>NaN</td>\n",
       "      <td>0.022576</td>\n",
       "      <td>-0.021316</td>\n",
       "      <td>-0.015082</td>\n",
       "      <td>0.025335</td>\n",
       "      <td>-0.063305</td>\n",
       "      <td>-0.009496</td>\n",
       "      <td>-0.090432</td>\n",
       "      <td>-0.073330</td>\n",
       "    </tr>\n",
       "    <tr>\n",
       "      <th>NumCompaniesWorked</th>\n",
       "      <td>-0.039316</td>\n",
       "      <td>0.013395</td>\n",
       "      <td>-0.078550</td>\n",
       "      <td>0.057382</td>\n",
       "      <td>0.010907</td>\n",
       "      <td>-0.004856</td>\n",
       "      <td>0.009574</td>\n",
       "      <td>0.140295</td>\n",
       "      <td>-0.029595</td>\n",
       "      <td>-0.044539</td>\n",
       "      <td>...</td>\n",
       "      <td>0.046076</td>\n",
       "      <td>NaN</td>\n",
       "      <td>0.086972</td>\n",
       "      <td>0.182024</td>\n",
       "      <td>0.050724</td>\n",
       "      <td>-0.003802</td>\n",
       "      <td>0.062427</td>\n",
       "      <td>-0.159310</td>\n",
       "      <td>-0.021011</td>\n",
       "      <td>-0.167787</td>\n",
       "    </tr>\n",
       "    <tr>\n",
       "      <th>PercentSalaryHike</th>\n",
       "      <td>0.015108</td>\n",
       "      <td>-0.112309</td>\n",
       "      <td>0.224062</td>\n",
       "      <td>-0.001473</td>\n",
       "      <td>-0.008469</td>\n",
       "      <td>-0.033942</td>\n",
       "      <td>-0.061788</td>\n",
       "      <td>-0.070246</td>\n",
       "      <td>0.059077</td>\n",
       "      <td>-0.034921</td>\n",
       "      <td>...</td>\n",
       "      <td>-0.138622</td>\n",
       "      <td>NaN</td>\n",
       "      <td>-0.093055</td>\n",
       "      <td>-0.055646</td>\n",
       "      <td>0.101345</td>\n",
       "      <td>0.018896</td>\n",
       "      <td>0.000353</td>\n",
       "      <td>0.102844</td>\n",
       "      <td>0.026966</td>\n",
       "      <td>0.097753</td>\n",
       "    </tr>\n",
       "    <tr>\n",
       "      <th>PerformanceRating</th>\n",
       "      <td>-0.006219</td>\n",
       "      <td>0.078274</td>\n",
       "      <td>-0.130865</td>\n",
       "      <td>-0.022255</td>\n",
       "      <td>-0.049356</td>\n",
       "      <td>-0.048442</td>\n",
       "      <td>-0.015900</td>\n",
       "      <td>-0.012564</td>\n",
       "      <td>0.039328</td>\n",
       "      <td>0.016706</td>\n",
       "      <td>...</td>\n",
       "      <td>0.070312</td>\n",
       "      <td>NaN</td>\n",
       "      <td>0.017406</td>\n",
       "      <td>0.015504</td>\n",
       "      <td>0.047242</td>\n",
       "      <td>-0.004580</td>\n",
       "      <td>-0.009379</td>\n",
       "      <td>-0.092834</td>\n",
       "      <td>0.065166</td>\n",
       "      <td>-0.019179</td>\n",
       "    </tr>\n",
       "    <tr>\n",
       "      <th>RelationshipSatisfaction</th>\n",
       "      <td>0.007608</td>\n",
       "      <td>0.030283</td>\n",
       "      <td>-0.022620</td>\n",
       "      <td>-0.069158</td>\n",
       "      <td>-0.031469</td>\n",
       "      <td>-0.007236</td>\n",
       "      <td>-0.053914</td>\n",
       "      <td>0.128613</td>\n",
       "      <td>0.032319</td>\n",
       "      <td>-0.044848</td>\n",
       "      <td>...</td>\n",
       "      <td>1.000000</td>\n",
       "      <td>NaN</td>\n",
       "      <td>0.038823</td>\n",
       "      <td>0.130274</td>\n",
       "      <td>0.012012</td>\n",
       "      <td>-0.060526</td>\n",
       "      <td>0.030462</td>\n",
       "      <td>0.029124</td>\n",
       "      <td>0.118136</td>\n",
       "      <td>0.067416</td>\n",
       "    </tr>\n",
       "    <tr>\n",
       "      <th>StandardHours</th>\n",
       "      <td>NaN</td>\n",
       "      <td>NaN</td>\n",
       "      <td>NaN</td>\n",
       "      <td>NaN</td>\n",
       "      <td>NaN</td>\n",
       "      <td>NaN</td>\n",
       "      <td>NaN</td>\n",
       "      <td>NaN</td>\n",
       "      <td>NaN</td>\n",
       "      <td>NaN</td>\n",
       "      <td>...</td>\n",
       "      <td>NaN</td>\n",
       "      <td>NaN</td>\n",
       "      <td>NaN</td>\n",
       "      <td>NaN</td>\n",
       "      <td>NaN</td>\n",
       "      <td>NaN</td>\n",
       "      <td>NaN</td>\n",
       "      <td>NaN</td>\n",
       "      <td>NaN</td>\n",
       "      <td>NaN</td>\n",
       "    </tr>\n",
       "    <tr>\n",
       "      <th>StockOptionLevel</th>\n",
       "      <td>0.068957</td>\n",
       "      <td>0.050244</td>\n",
       "      <td>-0.065619</td>\n",
       "      <td>0.077352</td>\n",
       "      <td>-0.065538</td>\n",
       "      <td>0.148801</td>\n",
       "      <td>-0.063571</td>\n",
       "      <td>0.042979</td>\n",
       "      <td>0.094052</td>\n",
       "      <td>-0.000568</td>\n",
       "      <td>...</td>\n",
       "      <td>0.038823</td>\n",
       "      <td>NaN</td>\n",
       "      <td>1.000000</td>\n",
       "      <td>0.018036</td>\n",
       "      <td>-0.108772</td>\n",
       "      <td>0.003137</td>\n",
       "      <td>0.000962</td>\n",
       "      <td>0.033323</td>\n",
       "      <td>-0.052262</td>\n",
       "      <td>-0.007179</td>\n",
       "    </tr>\n",
       "    <tr>\n",
       "      <th>TotalWorkingYears</th>\n",
       "      <td>-0.020463</td>\n",
       "      <td>0.012506</td>\n",
       "      <td>-0.009385</td>\n",
       "      <td>0.161699</td>\n",
       "      <td>-0.130561</td>\n",
       "      <td>0.068170</td>\n",
       "      <td>0.067611</td>\n",
       "      <td>0.806010</td>\n",
       "      <td>-0.014736</td>\n",
       "      <td>0.000028</td>\n",
       "      <td>...</td>\n",
       "      <td>0.130274</td>\n",
       "      <td>NaN</td>\n",
       "      <td>0.018036</td>\n",
       "      <td>1.000000</td>\n",
       "      <td>0.019902</td>\n",
       "      <td>0.065014</td>\n",
       "      <td>0.119133</td>\n",
       "      <td>0.395237</td>\n",
       "      <td>0.407622</td>\n",
       "      <td>0.355176</td>\n",
       "    </tr>\n",
       "    <tr>\n",
       "      <th>TrainingTimesLastYear</th>\n",
       "      <td>-0.022409</td>\n",
       "      <td>-0.002550</td>\n",
       "      <td>0.051397</td>\n",
       "      <td>0.030506</td>\n",
       "      <td>0.053270</td>\n",
       "      <td>-0.011123</td>\n",
       "      <td>0.051382</td>\n",
       "      <td>0.005795</td>\n",
       "      <td>0.129749</td>\n",
       "      <td>0.035376</td>\n",
       "      <td>...</td>\n",
       "      <td>0.012012</td>\n",
       "      <td>NaN</td>\n",
       "      <td>-0.108772</td>\n",
       "      <td>0.019902</td>\n",
       "      <td>1.000000</td>\n",
       "      <td>-0.059633</td>\n",
       "      <td>0.085104</td>\n",
       "      <td>0.020390</td>\n",
       "      <td>0.060694</td>\n",
       "      <td>-0.095966</td>\n",
       "    </tr>\n",
       "    <tr>\n",
       "      <th>WorkLifeBalance</th>\n",
       "      <td>0.046623</td>\n",
       "      <td>-0.003025</td>\n",
       "      <td>-0.025151</td>\n",
       "      <td>-0.056934</td>\n",
       "      <td>-0.001430</td>\n",
       "      <td>0.039950</td>\n",
       "      <td>0.037059</td>\n",
       "      <td>0.055385</td>\n",
       "      <td>0.027933</td>\n",
       "      <td>0.073899</td>\n",
       "      <td>...</td>\n",
       "      <td>-0.060526</td>\n",
       "      <td>NaN</td>\n",
       "      <td>0.003137</td>\n",
       "      <td>0.065014</td>\n",
       "      <td>-0.059633</td>\n",
       "      <td>1.000000</td>\n",
       "      <td>0.040431</td>\n",
       "      <td>0.065543</td>\n",
       "      <td>0.008863</td>\n",
       "      <td>0.006731</td>\n",
       "    </tr>\n",
       "    <tr>\n",
       "      <th>YearsAtCompany</th>\n",
       "      <td>0.264033</td>\n",
       "      <td>0.011632</td>\n",
       "      <td>-0.062184</td>\n",
       "      <td>0.064226</td>\n",
       "      <td>0.036188</td>\n",
       "      <td>-0.009958</td>\n",
       "      <td>-0.041823</td>\n",
       "      <td>0.150630</td>\n",
       "      <td>-0.016082</td>\n",
       "      <td>0.412817</td>\n",
       "      <td>...</td>\n",
       "      <td>0.030462</td>\n",
       "      <td>NaN</td>\n",
       "      <td>0.000962</td>\n",
       "      <td>0.119133</td>\n",
       "      <td>0.085104</td>\n",
       "      <td>0.040431</td>\n",
       "      <td>1.000000</td>\n",
       "      <td>0.050595</td>\n",
       "      <td>0.076483</td>\n",
       "      <td>0.096775</td>\n",
       "    </tr>\n",
       "    <tr>\n",
       "      <th>YearsInCurrentRole</th>\n",
       "      <td>-0.014739</td>\n",
       "      <td>0.033694</td>\n",
       "      <td>0.037397</td>\n",
       "      <td>0.082967</td>\n",
       "      <td>-0.034149</td>\n",
       "      <td>-0.004787</td>\n",
       "      <td>0.036764</td>\n",
       "      <td>0.346354</td>\n",
       "      <td>-0.029334</td>\n",
       "      <td>0.017813</td>\n",
       "      <td>...</td>\n",
       "      <td>0.029124</td>\n",
       "      <td>NaN</td>\n",
       "      <td>0.033323</td>\n",
       "      <td>0.395237</td>\n",
       "      <td>0.020390</td>\n",
       "      <td>0.065543</td>\n",
       "      <td>0.050595</td>\n",
       "      <td>1.000000</td>\n",
       "      <td>0.476330</td>\n",
       "      <td>0.730147</td>\n",
       "    </tr>\n",
       "    <tr>\n",
       "      <th>YearsSinceLastPromotion</th>\n",
       "      <td>0.001512</td>\n",
       "      <td>-0.034150</td>\n",
       "      <td>0.029293</td>\n",
       "      <td>0.132988</td>\n",
       "      <td>-0.058702</td>\n",
       "      <td>0.020604</td>\n",
       "      <td>0.008285</td>\n",
       "      <td>0.372920</td>\n",
       "      <td>0.039949</td>\n",
       "      <td>0.031094</td>\n",
       "      <td>...</td>\n",
       "      <td>0.118136</td>\n",
       "      <td>NaN</td>\n",
       "      <td>-0.052262</td>\n",
       "      <td>0.407622</td>\n",
       "      <td>0.060694</td>\n",
       "      <td>0.008863</td>\n",
       "      <td>0.076483</td>\n",
       "      <td>0.476330</td>\n",
       "      <td>1.000000</td>\n",
       "      <td>0.490401</td>\n",
       "    </tr>\n",
       "    <tr>\n",
       "      <th>YearsWithCurrManager</th>\n",
       "      <td>-0.025627</td>\n",
       "      <td>-0.075487</td>\n",
       "      <td>0.046152</td>\n",
       "      <td>0.076276</td>\n",
       "      <td>-0.086837</td>\n",
       "      <td>0.003192</td>\n",
       "      <td>0.041226</td>\n",
       "      <td>0.322504</td>\n",
       "      <td>-0.008994</td>\n",
       "      <td>0.030738</td>\n",
       "      <td>...</td>\n",
       "      <td>0.067416</td>\n",
       "      <td>NaN</td>\n",
       "      <td>-0.007179</td>\n",
       "      <td>0.355176</td>\n",
       "      <td>-0.095966</td>\n",
       "      <td>0.006731</td>\n",
       "      <td>0.096775</td>\n",
       "      <td>0.730147</td>\n",
       "      <td>0.490401</td>\n",
       "      <td>1.000000</td>\n",
       "    </tr>\n",
       "  </tbody>\n",
       "</table>\n",
       "<p>24 rows × 24 columns</p>\n",
       "</div>"
      ],
      "text/plain": [
       "                               Age  DailyRate  DistanceFromHome  Education  \\\n",
       "Age                       1.000000  -0.050883          0.041333   0.016237   \n",
       "DailyRate                -0.050883   1.000000         -0.085510  -0.023623   \n",
       "DistanceFromHome          0.041333  -0.085510          1.000000   0.020364   \n",
       "Education                 0.016237  -0.023623          0.020364   1.000000   \n",
       "EnvironmentSatisfaction   0.007694  -0.099819         -0.082358   0.073383   \n",
       "HourlyRate               -0.005546   0.086804          0.006145   0.063112   \n",
       "JobInvolvement           -0.018802   0.031158          0.085385   0.057966   \n",
       "JobLevel                 -0.015713   0.051584         -0.044624   0.135128   \n",
       "JobSatisfaction          -0.070178  -0.025681         -0.035249   0.074762   \n",
       "MonthlyIncome             0.599610   0.056841          0.002016  -0.007773   \n",
       "MonthlyRate               0.108948  -0.034422          0.105029  -0.051323   \n",
       "NumCompaniesWorked       -0.039316   0.013395         -0.078550   0.057382   \n",
       "PercentSalaryHike         0.015108  -0.112309          0.224062  -0.001473   \n",
       "PerformanceRating        -0.006219   0.078274         -0.130865  -0.022255   \n",
       "RelationshipSatisfaction  0.007608   0.030283         -0.022620  -0.069158   \n",
       "StandardHours                  NaN        NaN               NaN        NaN   \n",
       "StockOptionLevel          0.068957   0.050244         -0.065619   0.077352   \n",
       "TotalWorkingYears        -0.020463   0.012506         -0.009385   0.161699   \n",
       "TrainingTimesLastYear    -0.022409  -0.002550          0.051397   0.030506   \n",
       "WorkLifeBalance           0.046623  -0.003025         -0.025151  -0.056934   \n",
       "YearsAtCompany            0.264033   0.011632         -0.062184   0.064226   \n",
       "YearsInCurrentRole       -0.014739   0.033694          0.037397   0.082967   \n",
       "YearsSinceLastPromotion   0.001512  -0.034150          0.029293   0.132988   \n",
       "YearsWithCurrManager     -0.025627  -0.075487          0.046152   0.076276   \n",
       "\n",
       "                          EnvironmentSatisfaction  HourlyRate  JobInvolvement  \\\n",
       "Age                                      0.007694   -0.005546       -0.018802   \n",
       "DailyRate                               -0.099819    0.086804        0.031158   \n",
       "DistanceFromHome                        -0.082358    0.006145        0.085385   \n",
       "Education                                0.073383    0.063112        0.057966   \n",
       "EnvironmentSatisfaction                  1.000000   -0.071132       -0.008588   \n",
       "HourlyRate                              -0.071132    1.000000        0.080843   \n",
       "JobInvolvement                          -0.008588    0.080843        1.000000   \n",
       "JobLevel                                -0.123126    0.038063        0.028701   \n",
       "JobSatisfaction                          0.026437    0.006727       -0.001487   \n",
       "MonthlyIncome                            0.118768   -0.000248        0.075722   \n",
       "MonthlyRate                              0.015030   -0.039343       -0.028347   \n",
       "NumCompaniesWorked                       0.010907   -0.004856        0.009574   \n",
       "PercentSalaryHike                       -0.008469   -0.033942       -0.061788   \n",
       "PerformanceRating                       -0.049356   -0.048442       -0.015900   \n",
       "RelationshipSatisfaction                -0.031469   -0.007236       -0.053914   \n",
       "StandardHours                                 NaN         NaN             NaN   \n",
       "StockOptionLevel                        -0.065538    0.148801       -0.063571   \n",
       "TotalWorkingYears                       -0.130561    0.068170        0.067611   \n",
       "TrainingTimesLastYear                    0.053270   -0.011123        0.051382   \n",
       "WorkLifeBalance                         -0.001430    0.039950        0.037059   \n",
       "YearsAtCompany                           0.036188   -0.009958       -0.041823   \n",
       "YearsInCurrentRole                      -0.034149   -0.004787        0.036764   \n",
       "YearsSinceLastPromotion                 -0.058702    0.020604        0.008285   \n",
       "YearsWithCurrManager                    -0.086837    0.003192        0.041226   \n",
       "\n",
       "                          JobLevel  JobSatisfaction  MonthlyIncome  ...  \\\n",
       "Age                      -0.015713        -0.070178       0.599610  ...   \n",
       "DailyRate                 0.051584        -0.025681       0.056841  ...   \n",
       "DistanceFromHome         -0.044624        -0.035249       0.002016  ...   \n",
       "Education                 0.135128         0.074762      -0.007773  ...   \n",
       "EnvironmentSatisfaction  -0.123126         0.026437       0.118768  ...   \n",
       "HourlyRate                0.038063         0.006727      -0.000248  ...   \n",
       "JobInvolvement            0.028701        -0.001487       0.075722  ...   \n",
       "JobLevel                  1.000000         0.001255      -0.002193  ...   \n",
       "JobSatisfaction           0.001255         1.000000      -0.091783  ...   \n",
       "MonthlyIncome            -0.002193        -0.091783       1.000000  ...   \n",
       "MonthlyRate              -0.031492        -0.051731      -0.014169  ...   \n",
       "NumCompaniesWorked        0.140295        -0.029595      -0.044539  ...   \n",
       "PercentSalaryHike        -0.070246         0.059077      -0.034921  ...   \n",
       "PerformanceRating        -0.012564         0.039328       0.016706  ...   \n",
       "RelationshipSatisfaction  0.128613         0.032319      -0.044848  ...   \n",
       "StandardHours                  NaN              NaN            NaN  ...   \n",
       "StockOptionLevel          0.042979         0.094052      -0.000568  ...   \n",
       "TotalWorkingYears         0.806010        -0.014736       0.000028  ...   \n",
       "TrainingTimesLastYear     0.005795         0.129749       0.035376  ...   \n",
       "WorkLifeBalance           0.055385         0.027933       0.073899  ...   \n",
       "YearsAtCompany            0.150630        -0.016082       0.412817  ...   \n",
       "YearsInCurrentRole        0.346354        -0.029334       0.017813  ...   \n",
       "YearsSinceLastPromotion   0.372920         0.039949       0.031094  ...   \n",
       "YearsWithCurrManager      0.322504        -0.008994       0.030738  ...   \n",
       "\n",
       "                          RelationshipSatisfaction  StandardHours  \\\n",
       "Age                                       0.007608            NaN   \n",
       "DailyRate                                 0.030283            NaN   \n",
       "DistanceFromHome                         -0.022620            NaN   \n",
       "Education                                -0.069158            NaN   \n",
       "EnvironmentSatisfaction                  -0.031469            NaN   \n",
       "HourlyRate                               -0.007236            NaN   \n",
       "JobInvolvement                           -0.053914            NaN   \n",
       "JobLevel                                  0.128613            NaN   \n",
       "JobSatisfaction                           0.032319            NaN   \n",
       "MonthlyIncome                            -0.044848            NaN   \n",
       "MonthlyRate                              -0.105149            NaN   \n",
       "NumCompaniesWorked                        0.046076            NaN   \n",
       "PercentSalaryHike                        -0.138622            NaN   \n",
       "PerformanceRating                         0.070312            NaN   \n",
       "RelationshipSatisfaction                  1.000000            NaN   \n",
       "StandardHours                                  NaN            NaN   \n",
       "StockOptionLevel                          0.038823            NaN   \n",
       "TotalWorkingYears                         0.130274            NaN   \n",
       "TrainingTimesLastYear                     0.012012            NaN   \n",
       "WorkLifeBalance                          -0.060526            NaN   \n",
       "YearsAtCompany                            0.030462            NaN   \n",
       "YearsInCurrentRole                        0.029124            NaN   \n",
       "YearsSinceLastPromotion                   0.118136            NaN   \n",
       "YearsWithCurrManager                      0.067416            NaN   \n",
       "\n",
       "                          StockOptionLevel  TotalWorkingYears  \\\n",
       "Age                               0.068957          -0.020463   \n",
       "DailyRate                         0.050244           0.012506   \n",
       "DistanceFromHome                 -0.065619          -0.009385   \n",
       "Education                         0.077352           0.161699   \n",
       "EnvironmentSatisfaction          -0.065538          -0.130561   \n",
       "HourlyRate                        0.148801           0.068170   \n",
       "JobInvolvement                   -0.063571           0.067611   \n",
       "JobLevel                          0.042979           0.806010   \n",
       "JobSatisfaction                   0.094052          -0.014736   \n",
       "MonthlyIncome                    -0.000568           0.000028   \n",
       "MonthlyRate                       0.022576          -0.021316   \n",
       "NumCompaniesWorked                0.086972           0.182024   \n",
       "PercentSalaryHike                -0.093055          -0.055646   \n",
       "PerformanceRating                 0.017406           0.015504   \n",
       "RelationshipSatisfaction          0.038823           0.130274   \n",
       "StandardHours                          NaN                NaN   \n",
       "StockOptionLevel                  1.000000           0.018036   \n",
       "TotalWorkingYears                 0.018036           1.000000   \n",
       "TrainingTimesLastYear            -0.108772           0.019902   \n",
       "WorkLifeBalance                   0.003137           0.065014   \n",
       "YearsAtCompany                    0.000962           0.119133   \n",
       "YearsInCurrentRole                0.033323           0.395237   \n",
       "YearsSinceLastPromotion          -0.052262           0.407622   \n",
       "YearsWithCurrManager             -0.007179           0.355176   \n",
       "\n",
       "                          TrainingTimesLastYear  WorkLifeBalance  \\\n",
       "Age                                   -0.022409         0.046623   \n",
       "DailyRate                             -0.002550        -0.003025   \n",
       "DistanceFromHome                       0.051397        -0.025151   \n",
       "Education                              0.030506        -0.056934   \n",
       "EnvironmentSatisfaction                0.053270        -0.001430   \n",
       "HourlyRate                            -0.011123         0.039950   \n",
       "JobInvolvement                         0.051382         0.037059   \n",
       "JobLevel                               0.005795         0.055385   \n",
       "JobSatisfaction                        0.129749         0.027933   \n",
       "MonthlyIncome                          0.035376         0.073899   \n",
       "MonthlyRate                           -0.015082         0.025335   \n",
       "NumCompaniesWorked                     0.050724        -0.003802   \n",
       "PercentSalaryHike                      0.101345         0.018896   \n",
       "PerformanceRating                      0.047242        -0.004580   \n",
       "RelationshipSatisfaction               0.012012        -0.060526   \n",
       "StandardHours                               NaN              NaN   \n",
       "StockOptionLevel                      -0.108772         0.003137   \n",
       "TotalWorkingYears                      0.019902         0.065014   \n",
       "TrainingTimesLastYear                  1.000000        -0.059633   \n",
       "WorkLifeBalance                       -0.059633         1.000000   \n",
       "YearsAtCompany                         0.085104         0.040431   \n",
       "YearsInCurrentRole                     0.020390         0.065543   \n",
       "YearsSinceLastPromotion                0.060694         0.008863   \n",
       "YearsWithCurrManager                  -0.095966         0.006731   \n",
       "\n",
       "                          YearsAtCompany  YearsInCurrentRole  \\\n",
       "Age                             0.264033           -0.014739   \n",
       "DailyRate                       0.011632            0.033694   \n",
       "DistanceFromHome               -0.062184            0.037397   \n",
       "Education                       0.064226            0.082967   \n",
       "EnvironmentSatisfaction         0.036188           -0.034149   \n",
       "HourlyRate                     -0.009958           -0.004787   \n",
       "JobInvolvement                 -0.041823            0.036764   \n",
       "JobLevel                        0.150630            0.346354   \n",
       "JobSatisfaction                -0.016082           -0.029334   \n",
       "MonthlyIncome                   0.412817            0.017813   \n",
       "MonthlyRate                    -0.063305           -0.009496   \n",
       "NumCompaniesWorked              0.062427           -0.159310   \n",
       "PercentSalaryHike               0.000353            0.102844   \n",
       "PerformanceRating              -0.009379           -0.092834   \n",
       "RelationshipSatisfaction        0.030462            0.029124   \n",
       "StandardHours                        NaN                 NaN   \n",
       "StockOptionLevel                0.000962            0.033323   \n",
       "TotalWorkingYears               0.119133            0.395237   \n",
       "TrainingTimesLastYear           0.085104            0.020390   \n",
       "WorkLifeBalance                 0.040431            0.065543   \n",
       "YearsAtCompany                  1.000000            0.050595   \n",
       "YearsInCurrentRole              0.050595            1.000000   \n",
       "YearsSinceLastPromotion         0.076483            0.476330   \n",
       "YearsWithCurrManager            0.096775            0.730147   \n",
       "\n",
       "                          YearsSinceLastPromotion  YearsWithCurrManager  \n",
       "Age                                      0.001512             -0.025627  \n",
       "DailyRate                               -0.034150             -0.075487  \n",
       "DistanceFromHome                         0.029293              0.046152  \n",
       "Education                                0.132988              0.076276  \n",
       "EnvironmentSatisfaction                 -0.058702             -0.086837  \n",
       "HourlyRate                               0.020604              0.003192  \n",
       "JobInvolvement                           0.008285              0.041226  \n",
       "JobLevel                                 0.372920              0.322504  \n",
       "JobSatisfaction                          0.039949             -0.008994  \n",
       "MonthlyIncome                            0.031094              0.030738  \n",
       "MonthlyRate                             -0.090432             -0.073330  \n",
       "NumCompaniesWorked                      -0.021011             -0.167787  \n",
       "PercentSalaryHike                        0.026966              0.097753  \n",
       "PerformanceRating                        0.065166             -0.019179  \n",
       "RelationshipSatisfaction                 0.118136              0.067416  \n",
       "StandardHours                                 NaN                   NaN  \n",
       "StockOptionLevel                        -0.052262             -0.007179  \n",
       "TotalWorkingYears                        0.407622              0.355176  \n",
       "TrainingTimesLastYear                    0.060694             -0.095966  \n",
       "WorkLifeBalance                          0.008863              0.006731  \n",
       "YearsAtCompany                           0.076483              0.096775  \n",
       "YearsInCurrentRole                       0.476330              0.730147  \n",
       "YearsSinceLastPromotion                  1.000000              0.490401  \n",
       "YearsWithCurrManager                     0.490401              1.000000  \n",
       "\n",
       "[24 rows x 24 columns]"
      ]
     },
     "execution_count": 5,
     "metadata": {},
     "output_type": "execute_result"
    }
   ],
   "source": [
    "df.corr()"
   ]
  },
  {
   "cell_type": "markdown",
   "metadata": {},
   "source": [
    "# outliers"
   ]
  },
  {
   "cell_type": "markdown",
   "metadata": {},
   "source": [
    "Abbiamo osservato i boxplot e abbiamo deciso che, bene o male, le distribuzioni di test e train sono le stesse. Pertanto manteniamo le stesse soglie per il calcolo degli outliers"
   ]
  },
  {
   "cell_type": "code",
   "execution_count": 4,
   "metadata": {
    "scrolled": true
   },
   "outputs": [
    {
     "data": {
      "image/png": "[encoded data removed]",
      "text/plain": [
       "<Figure size 432x288 with 1 Axes>"
      ]
     },
     "metadata": {
      "needs_background": "light"
     },
     "output_type": "display_data"
    }
   ],
   "source": [
    "boxplot = df.boxplot(column=['Age'])"
   ]
  },
  {
   "cell_type": "code",
   "execution_count": 13,
   "metadata": {},
   "outputs": [
    {
     "data": {
      "text/plain": [
       "1"
      ]
     },
     "execution_count": 13,
     "metadata": {},
     "output_type": "execute_result"
    }
   ],
   "source": [
    "i=0\n",
    "for record in df['Age']:\n",
    "    if record > 58:\n",
    "        i+=1\n",
    "i"
   ]
  },
  {
   "cell_type": "code",
   "execution_count": 5,
   "metadata": {
    "scrolled": true
   },
   "outputs": [
    {
     "data": {
      "image/png": "[encoded data removed]",
      "text/plain": [
       "<Figure size 432x288 with 1 Axes>"
      ]
     },
     "metadata": {
      "needs_background": "light"
     },
     "output_type": "display_data"
    }
   ],
   "source": [
    "boxplot = df.boxplot(column=['MonthlyIncome'])"
   ]
  },
  {
   "cell_type": "code",
   "execution_count": 14,
   "metadata": {},
   "outputs": [
    {
     "data": {
      "text/plain": [
       "18"
      ]
     },
     "execution_count": 14,
     "metadata": {},
     "output_type": "execute_result"
    }
   ],
   "source": [
    "i=0\n",
    "for record in df['MonthlyIncome']:\n",
    "    if record > 17000:\n",
    "        i+=1\n",
    "i"
   ]
  },
  {
   "cell_type": "code",
   "execution_count": 6,
   "metadata": {
    "scrolled": false
   },
   "outputs": [
    {
     "data": {
      "image/png": "[encoded data removed]",
      "text/plain": [
       "<Figure size 432x288 with 1 Axes>"
      ]
     },
     "metadata": {
      "needs_background": "light"
     },
     "output_type": "display_data"
    }
   ],
   "source": [
    "boxplot = df.boxplot(column=['NumCompaniesWorked'])"
   ]
  },
  {
   "cell_type": "code",
   "execution_count": 15,
   "metadata": {},
   "outputs": [
    {
     "data": {
      "text/plain": [
       "12"
      ]
     },
     "execution_count": 15,
     "metadata": {},
     "output_type": "execute_result"
    }
   ],
   "source": [
    "i=0\n",
    "for record in df['NumCompaniesWorked']:\n",
    "    if record > 8:\n",
    "        i+=1\n",
    "i"
   ]
  },
  {
   "cell_type": "code",
   "execution_count": 7,
   "metadata": {
    "scrolled": false
   },
   "outputs": [
    {
     "data": {
      "image/png": "[encoded data removed]",
      "text/plain": [
       "<Figure size 432x288 with 1 Axes>"
      ]
     },
     "metadata": {
      "needs_background": "light"
     },
     "output_type": "display_data"
    }
   ],
   "source": [
    "boxplot = df.boxplot(column=['TotalWorkingYears'])"
   ]
  },
  {
   "cell_type": "code",
   "execution_count": 16,
   "metadata": {},
   "outputs": [
    {
     "data": {
      "text/plain": [
       "14"
      ]
     },
     "execution_count": 16,
     "metadata": {},
     "output_type": "execute_result"
    }
   ],
   "source": [
    "i=0\n",
    "for record in df['TotalWorkingYears']:\n",
    "    if record > 28:\n",
    "        i+=1\n",
    "i"
   ]
  },
  {
   "cell_type": "code",
   "execution_count": 8,
   "metadata": {
    "scrolled": false
   },
   "outputs": [
    {
     "data": {
      "image/png": "[encoded data removed]",
      "text/plain": [
       "<Figure size 432x288 with 1 Axes>"
      ]
     },
     "metadata": {
      "needs_background": "light"
     },
     "output_type": "display_data"
    }
   ],
   "source": [
    "boxplot = df.boxplot(column=['TrainingTimesLastYear'])"
   ]
  },
  {
   "cell_type": "code",
   "execution_count": 17,
   "metadata": {},
   "outputs": [
    {
     "data": {
      "text/plain": [
       "36"
      ]
     },
     "execution_count": 17,
     "metadata": {},
     "output_type": "execute_result"
    }
   ],
   "source": [
    "i=0\n",
    "for record in df['TrainingTimesLastYear']:\n",
    "    if record >= 5:\n",
    "        i+=1\n",
    "i"
   ]
  },
  {
   "cell_type": "code",
   "execution_count": 9,
   "metadata": {
    "scrolled": false
   },
   "outputs": [
    {
     "data": {
      "image/png": "[encoded data removed]",
      "text/plain": [
       "<Figure size 432x288 with 1 Axes>"
      ]
     },
     "metadata": {
      "needs_background": "light"
     },
     "output_type": "display_data"
    }
   ],
   "source": [
    "boxplot = df.boxplot(column=['YearsAtCompany'])"
   ]
  },
  {
   "cell_type": "code",
   "execution_count": 18,
   "metadata": {},
   "outputs": [
    {
     "data": {
      "text/plain": [
       "23"
      ]
     },
     "execution_count": 18,
     "metadata": {},
     "output_type": "execute_result"
    }
   ],
   "source": [
    "i=0\n",
    "for record in df['YearsAtCompany']:\n",
    "    if record >= 18:\n",
    "        i+=1\n",
    "i"
   ]
  },
  {
   "cell_type": "code",
   "execution_count": 10,
   "metadata": {
    "scrolled": false
   },
   "outputs": [
    {
     "data": {
      "image/png": "[encoded data removed]",
      "text/plain": [
       "<Figure size 432x288 with 1 Axes>"
      ]
     },
     "metadata": {
      "needs_background": "light"
     },
     "output_type": "display_data"
    }
   ],
   "source": [
    "boxplot = df.boxplot(column=['YearsSinceLastPromotion'])"
   ]
  },
  {
   "cell_type": "code",
   "execution_count": 19,
   "metadata": {},
   "outputs": [
    {
     "data": {
      "text/plain": [
       "22"
      ]
     },
     "execution_count": 19,
     "metadata": {},
     "output_type": "execute_result"
    }
   ],
   "source": [
    "i=0\n",
    "for record in df['YearsSinceLastPromotion']:\n",
    "    if record > 7:\n",
    "        i+=1\n",
    "i"
   ]
  },
  {
   "cell_type": "code",
   "execution_count": 11,
   "metadata": {
    "scrolled": false
   },
   "outputs": [
    {
     "data": {
      "image/png": "[encoded data removed]",
      "text/plain": [
       "<Figure size 432x288 with 1 Axes>"
      ]
     },
     "metadata": {
      "needs_background": "light"
     },
     "output_type": "display_data"
    }
   ],
   "source": [
    "boxplot = df.boxplot(column=['YearsWithCurrManager'])"
   ]
  },
  {
   "cell_type": "code",
   "execution_count": 20,
   "metadata": {},
   "outputs": [
    {
     "data": {
      "text/plain": [
       "3"
      ]
     },
     "execution_count": 20,
     "metadata": {},
     "output_type": "execute_result"
    }
   ],
   "source": [
    "i=0\n",
    "for record in df['YearsWithCurrManager']:\n",
    "    if record > 13:\n",
    "        i+=1\n",
    "i"
   ]
  },
  {
   "cell_type": "code",
   "execution_count": 12,
   "metadata": {
    "scrolled": false
   },
   "outputs": [
    {
     "data": {
      "image/png": "[encoded data removed]",
      "text/plain": [
       "<Figure size 432x288 with 1 Axes>"
      ]
     },
     "metadata": {
      "needs_background": "light"
     },
     "output_type": "display_data"
    }
   ],
   "source": [
    "boxplot = df.boxplot(column=['YearsWithCurrManager'])"
   ]
  },
  {
   "cell_type": "code",
   "execution_count": 21,
   "metadata": {},
   "outputs": [
    {
     "data": {
      "text/plain": [
       "4"
      ]
     },
     "execution_count": 21,
     "metadata": {},
     "output_type": "execute_result"
    }
   ],
   "source": [
    "i=0\n",
    "for record in df['YearsInCurrentRole']:\n",
    "    if record > 14:\n",
    "        i+=1\n",
    "i"
   ]
  },
  {
   "cell_type": "markdown",
   "metadata": {},
   "source": [
    "Abbiamo eliminato gli outliers manualmente usando excel."
   ]
  },
  {
   "cell_type": "code",
   "execution_count": 26,
   "metadata": {},
   "outputs": [],
   "source": [
    "df = pd.read_csv('Test_NoOutliers.csv', sep = \";\")"
   ]
  },
  {
   "cell_type": "markdown",
   "metadata": {},
   "source": [
    "### Missing values"
   ]
  },
  {
   "cell_type": "code",
   "execution_count": 27,
   "metadata": {},
   "outputs": [],
   "source": [
    "# AGE: sostituiamo con la media\n",
    "df[\"Age\"].fillna(df[\"Age\"].mean(), inplace=True)"
   ]
  },
  {
   "cell_type": "code",
   "execution_count": 28,
   "metadata": {},
   "outputs": [],
   "source": [
    "# BUSINESS TRAVEL: sostituiamo con il valore più frequente (moda = Travel_Rarely)\n",
    "i = 0\n",
    "for record in df['BusinessTravel']:\n",
    "    if not pd.notnull(record):\n",
    "        df.at[i, 'BusinessTravel'] = \"Travel_Rarely\"\n",
    "    i += 1"
   ]
  },
  {
   "cell_type": "code",
   "execution_count": 29,
   "metadata": {
    "scrolled": true
   },
   "outputs": [],
   "source": [
    "# GENDER: sostituiamo i valori mancanti con ND (Not Defined)\n",
    "i = 0\n",
    "for record in df['Gender']:\n",
    "    if not pd.notnull(record):\n",
    "        df.at[i, 'Gender'] = \"ND\"\n",
    "    i += 1"
   ]
  },
  {
   "cell_type": "code",
   "execution_count": 30,
   "metadata": {},
   "outputs": [],
   "source": [
    "# TRAINING TIME LAST YEARS: abbiamo raggruppato per Departement e riempito i missing values con la moda (valore più frequente) di ogni gruppo\n",
    "i = 0\n",
    "for record in df['TrainingTimesLastYear']:\n",
    "    if not pd.notnull(record):\n",
    "        if df.at[i, 'Department'] == \"Human Resources\":\n",
    "            df.at[i, 'TrainingTimesLastYear'] = 3.0\n",
    "        elif df.at[i, 'Department'] == \"Research & Development\":\n",
    "            df.at[i, 'TrainingTimesLastYear'] = 2.0\n",
    "        elif df.at[i, 'Department'] == \"Sales\":\n",
    "            df.at[i, 'TrainingTimesLastYear'] = 2.0\n",
    "    i += 1"
   ]
  },
  {
   "cell_type": "code",
   "execution_count": 31,
   "metadata": {},
   "outputs": [],
   "source": [
    "# YEARS AT COMPANY: abbiamo creato 5 gruppi a seconda di Age e sostituiamo con la media di ogni gruppo\n",
    "i = 0\n",
    "for record in df['YearsAtCompany']:\n",
    "    if not pd.notnull(record):\n",
    "        if df.at[i,'Age'] < 21:\n",
    "            df.at[i, 'YearsAtCompany']= 1\n",
    "        elif df.at[i,'Age'] < 31:\n",
    "            df.at[i, 'YearsAtCompany']= 3\n",
    "        elif df.at[i,'Age'] < 41:\n",
    "            df.at[i, 'YearsAtCompany']= 10\n",
    "        elif df.at[i,'Age'] < 51:\n",
    "            df.at[i, 'YearsAtCompany']= 8\n",
    "        elif df.at[i,'Age'] < 61:\n",
    "            df.at[i, 'YearsAtCompany']= 10\n",
    "    i += 1"
   ]
  },
  {
   "cell_type": "code",
   "execution_count": 32,
   "metadata": {},
   "outputs": [],
   "source": [
    "# MONTHLY INCOME: abbiamo fatto regressione con YearsAtCompany\n",
    "i=0\n",
    "X = df.values # mettiamo i valori in un numphy array per recuperarli più agevolmente\n",
    "for record in df['MonthlyIncome']:\n",
    "    if not pd.notnull(record):\n",
    "        record = 391.4 * X[i, 29] + 3763.8\n",
    "        df.at[i, 'MonthlyIncome'] = record\n",
    "    i += 1"
   ]
  },
  {
   "cell_type": "code",
   "execution_count": 33,
   "metadata": {},
   "outputs": [
    {
     "data": {
      "text/plain": [
       "Age                          0\n",
       "Attrition                    0\n",
       "BusinessTravel               0\n",
       "DailyRate                    0\n",
       "Department                   0\n",
       "DistanceFromHome             0\n",
       "Education                    0\n",
       "EducationField               0\n",
       "EnvironmentSatisfaction      0\n",
       "Gender                       0\n",
       "HourlyRate                   0\n",
       "JobInvolvement               0\n",
       "JobLevel                     0\n",
       "JobRole                      0\n",
       "JobSatisfaction              0\n",
       "MaritalStatus                0\n",
       "MonthlyIncome                0\n",
       "MonthlyRate                  0\n",
       "NumCompaniesWorked           0\n",
       "Over18                      64\n",
       "OverTime                     0\n",
       "PercentSalaryHike            0\n",
       "PerformanceRating           22\n",
       "RelationshipSatisfaction     0\n",
       "StandardHours               99\n",
       "StockOptionLevel             0\n",
       "TotalWorkingYears            0\n",
       "TrainingTimesLastYear        0\n",
       "WorkLifeBalance              0\n",
       "YearsAtCompany               0\n",
       "YearsInCurrentRole           0\n",
       "YearsSinceLastPromotion      0\n",
       "YearsWithCurrManager         0\n",
       "dtype: int64"
      ]
     },
     "execution_count": 33,
     "metadata": {},
     "output_type": "execute_result"
    }
   ],
   "source": [
    "# vediamo se ci sono ancora missing values\n",
    "df.isnull().sum()"
   ]
  },
  {
   "cell_type": "markdown",
   "metadata": {},
   "source": [
    "### Sistemiamo  i formati"
   ]
  },
  {
   "cell_type": "code",
   "execution_count": 34,
   "metadata": {},
   "outputs": [],
   "source": [
    "df['Age']= df['Age'].astype('int32')"
   ]
  },
  {
   "cell_type": "code",
   "execution_count": 35,
   "metadata": {
    "scrolled": true
   },
   "outputs": [],
   "source": [
    "df['MonthlyIncome'] = df['MonthlyIncome'].astype('int32')"
   ]
  },
  {
   "cell_type": "code",
   "execution_count": 36,
   "metadata": {},
   "outputs": [],
   "source": [
    "df['JobLevel'] = df['JobLevel'].astype('int32')"
   ]
  },
  {
   "cell_type": "code",
   "execution_count": 37,
   "metadata": {},
   "outputs": [],
   "source": [
    "df['DailyRate'] = df['DailyRate'].astype('int32')"
   ]
  },
  {
   "cell_type": "code",
   "execution_count": 38,
   "metadata": {},
   "outputs": [],
   "source": [
    "df['DistanceFromHome'] = df['DistanceFromHome'].astype('int32')"
   ]
  },
  {
   "cell_type": "code",
   "execution_count": 39,
   "metadata": {},
   "outputs": [],
   "source": [
    "df['Education'] = df['Education'].astype('int32')"
   ]
  },
  {
   "cell_type": "code",
   "execution_count": 40,
   "metadata": {},
   "outputs": [],
   "source": [
    "df['EnvironmentSatisfaction'] = df['EnvironmentSatisfaction'].astype('int32')"
   ]
  },
  {
   "cell_type": "code",
   "execution_count": 41,
   "metadata": {},
   "outputs": [],
   "source": [
    "df['HourlyRate'] = df['HourlyRate'].astype('int32')"
   ]
  },
  {
   "cell_type": "code",
   "execution_count": 42,
   "metadata": {},
   "outputs": [],
   "source": [
    "df['JobInvolvement'] = df['JobInvolvement'].astype('int32')"
   ]
  },
  {
   "cell_type": "code",
   "execution_count": 43,
   "metadata": {},
   "outputs": [],
   "source": [
    "df['JobLevel'] = df['JobLevel'].astype('int32')"
   ]
  },
  {
   "cell_type": "code",
   "execution_count": 44,
   "metadata": {},
   "outputs": [],
   "source": [
    "df['JobSatisfaction'] = df['JobSatisfaction'].astype('int32')"
   ]
  },
  {
   "cell_type": "code",
   "execution_count": 45,
   "metadata": {},
   "outputs": [],
   "source": [
    "df['MonthlyRate'] = df['MonthlyRate'].astype('int32')"
   ]
  },
  {
   "cell_type": "code",
   "execution_count": 46,
   "metadata": {},
   "outputs": [],
   "source": [
    "df['NumCompaniesWorked'] = df['NumCompaniesWorked'].astype('int32')"
   ]
  },
  {
   "cell_type": "code",
   "execution_count": 47,
   "metadata": {},
   "outputs": [],
   "source": [
    "df['PercentSalaryHike'] = df['PercentSalaryHike'].astype('int32')"
   ]
  },
  {
   "cell_type": "code",
   "execution_count": 48,
   "metadata": {},
   "outputs": [],
   "source": [
    "df['RelationshipSatisfaction'] = df['RelationshipSatisfaction'].astype('int32')"
   ]
  },
  {
   "cell_type": "code",
   "execution_count": 49,
   "metadata": {},
   "outputs": [],
   "source": [
    "df['StockOptionLevel'] = df['StockOptionLevel'].astype('int32')"
   ]
  },
  {
   "cell_type": "code",
   "execution_count": 50,
   "metadata": {},
   "outputs": [],
   "source": [
    "df['TotalWorkingYears'] = df['TotalWorkingYears'].astype('int32')"
   ]
  },
  {
   "cell_type": "code",
   "execution_count": 51,
   "metadata": {},
   "outputs": [],
   "source": [
    "df['WorkLifeBalance'] = df['WorkLifeBalance'].astype('int32')"
   ]
  },
  {
   "cell_type": "code",
   "execution_count": 52,
   "metadata": {},
   "outputs": [],
   "source": [
    "df['YearsInCurrentRole'] = df['YearsInCurrentRole'].astype('int32')"
   ]
  },
  {
   "cell_type": "code",
   "execution_count": 53,
   "metadata": {},
   "outputs": [],
   "source": [
    "df['YearsSinceLastPromotion'] = df['YearsSinceLastPromotion'].astype('int32')"
   ]
  },
  {
   "cell_type": "code",
   "execution_count": 54,
   "metadata": {},
   "outputs": [],
   "source": [
    "df['YearsWithCurrManager'] = df['YearsWithCurrManager'].astype('int32')"
   ]
  },
  {
   "cell_type": "code",
   "execution_count": 55,
   "metadata": {},
   "outputs": [],
   "source": [
    "df['TrainingTimesLastYear'] = df['TrainingTimesLastYear'].astype('int32')"
   ]
  },
  {
   "cell_type": "code",
   "execution_count": 56,
   "metadata": {},
   "outputs": [],
   "source": [
    "df['YearsAtCompany'] = df['YearsAtCompany'].astype('int32')"
   ]
  },
  {
   "cell_type": "code",
   "execution_count": 57,
   "metadata": {},
   "outputs": [
    {
     "name": "stdout",
     "output_type": "stream",
     "text": [
      "<class 'pandas.core.frame.DataFrame'>\n",
      "RangeIndex: 200 entries, 0 to 199\n",
      "Data columns (total 33 columns):\n",
      " #   Column                    Non-Null Count  Dtype  \n",
      "---  ------                    --------------  -----  \n",
      " 0   Age                       200 non-null    int32  \n",
      " 1   Attrition                 200 non-null    object \n",
      " 2   BusinessTravel            200 non-null    object \n",
      " 3   DailyRate                 200 non-null    int32  \n",
      " 4   Department                200 non-null    object \n",
      " 5   DistanceFromHome          200 non-null    int32  \n",
      " 6   Education                 200 non-null    int32  \n",
      " 7   EducationField            200 non-null    object \n",
      " 8   EnvironmentSatisfaction   200 non-null    int32  \n",
      " 9   Gender                    200 non-null    object \n",
      " 10  HourlyRate                200 non-null    int32  \n",
      " 11  JobInvolvement            200 non-null    int32  \n",
      " 12  JobLevel                  200 non-null    int32  \n",
      " 13  JobRole                   200 non-null    object \n",
      " 14  JobSatisfaction           200 non-null    int32  \n",
      " 15  MaritalStatus             200 non-null    object \n",
      " 16  MonthlyIncome             200 non-null    int32  \n",
      " 17  MonthlyRate               200 non-null    int32  \n",
      " 18  NumCompaniesWorked        200 non-null    int32  \n",
      " 19  Over18                    136 non-null    object \n",
      " 20  OverTime                  200 non-null    object \n",
      " 21  PercentSalaryHike         200 non-null    int32  \n",
      " 22  PerformanceRating         178 non-null    float64\n",
      " 23  RelationshipSatisfaction  200 non-null    int32  \n",
      " 24  StandardHours             101 non-null    float64\n",
      " 25  StockOptionLevel          200 non-null    int32  \n",
      " 26  TotalWorkingYears         200 non-null    int32  \n",
      " 27  TrainingTimesLastYear     200 non-null    int32  \n",
      " 28  WorkLifeBalance           200 non-null    int32  \n",
      " 29  YearsAtCompany            200 non-null    int32  \n",
      " 30  YearsInCurrentRole        200 non-null    int32  \n",
      " 31  YearsSinceLastPromotion   200 non-null    int32  \n",
      " 32  YearsWithCurrManager      200 non-null    int32  \n",
      "dtypes: float64(2), int32(22), object(9)\n",
      "memory usage: 34.5+ KB\n"
     ]
    }
   ],
   "source": [
    "df.info()"
   ]
  },
  {
   "cell_type": "markdown",
   "metadata": {},
   "source": [
    "## Data Transformation"
   ]
  },
  {
   "cell_type": "markdown",
   "metadata": {},
   "source": [
    "#### Sistemiamo i valori ND del Gender precedentemente modificati"
   ]
  },
  {
   "cell_type": "code",
   "execution_count": 58,
   "metadata": {},
   "outputs": [],
   "source": [
    "i =0\n",
    "contand=0\n",
    "for nd in df['Gender']:\n",
    "    if nd == 'ND':\n",
    "        contand+=1\n",
    "        if contand < 32:\n",
    "            nd = df.at[i,'Gender']='Male'\n",
    "        elif contand >=32:\n",
    "            nd = df.at[i,'Gender']='Female'\n",
    "    i+=1"
   ]
  },
  {
   "cell_type": "code",
   "execution_count": 59,
   "metadata": {
    "collapsed": true
   },
   "outputs": [
    {
     "name": "stdout",
     "output_type": "stream",
     "text": [
      "ok\n",
      "ok\n",
      "ok\n",
      "ok\n",
      "ok\n",
      "ok\n",
      "ok\n",
      "ok\n",
      "ok\n",
      "ok\n",
      "ok\n",
      "ok\n",
      "ok\n",
      "ok\n",
      "ok\n",
      "ok\n",
      "ok\n",
      "ok\n",
      "ok\n",
      "ok\n",
      "ok\n",
      "ok\n",
      "ok\n",
      "ok\n",
      "ok\n",
      "ok\n",
      "ok\n",
      "ok\n",
      "ok\n",
      "ok\n",
      "ok\n",
      "ok\n",
      "ok\n",
      "ok\n",
      "ok\n",
      "ok\n",
      "ok\n",
      "ok\n",
      "ok\n",
      "ok\n",
      "ok\n",
      "ok\n",
      "ok\n",
      "ok\n",
      "ok\n",
      "ok\n",
      "ok\n",
      "ok\n",
      "ok\n",
      "ok\n",
      "ok\n",
      "ok\n",
      "ok\n",
      "ok\n",
      "ok\n",
      "ok\n",
      "ok\n",
      "ok\n",
      "ok\n",
      "ok\n",
      "ok\n",
      "ok\n",
      "ok\n",
      "ok\n",
      "ok\n",
      "ok\n",
      "ok\n",
      "ok\n",
      "ok\n",
      "ok\n",
      "ok\n",
      "ok\n",
      "ok\n",
      "ok\n",
      "ok\n",
      "ok\n",
      "ok\n",
      "ok\n",
      "ok\n",
      "ok\n",
      "ok\n",
      "ok\n",
      "ok\n",
      "ok\n",
      "ok\n",
      "ok\n",
      "ok\n",
      "ok\n",
      "ok\n",
      "ok\n",
      "ok\n",
      "ok\n",
      "ok\n",
      "ok\n",
      "ok\n",
      "ok\n",
      "ok\n",
      "ok\n",
      "ok\n",
      "ok\n",
      "ok\n",
      "ok\n",
      "ok\n",
      "ok\n",
      "ok\n",
      "ok\n",
      "ok\n",
      "ok\n",
      "ok\n",
      "ok\n",
      "ok\n",
      "ok\n",
      "ok\n",
      "ok\n",
      "ok\n",
      "ok\n",
      "ok\n",
      "ok\n",
      "ok\n",
      "ok\n",
      "ok\n",
      "ok\n",
      "ok\n",
      "ok\n",
      "ok\n",
      "ok\n",
      "ok\n",
      "ok\n",
      "ok\n",
      "ok\n",
      "ok\n",
      "ok\n",
      "ok\n",
      "ok\n",
      "ok\n",
      "ok\n",
      "ok\n",
      "ok\n",
      "ok\n",
      "ok\n",
      "ok\n",
      "ok\n",
      "ok\n",
      "ok\n",
      "ok\n",
      "ok\n",
      "ok\n",
      "ok\n",
      "ok\n",
      "ok\n",
      "ok\n",
      "ok\n",
      "ok\n",
      "ok\n",
      "ok\n",
      "ok\n",
      "ok\n",
      "ok\n",
      "ok\n",
      "ok\n",
      "ok\n",
      "ok\n",
      "ok\n",
      "ok\n",
      "ok\n",
      "ok\n",
      "ok\n",
      "ok\n",
      "ok\n",
      "ok\n",
      "ok\n",
      "ok\n",
      "ok\n",
      "ok\n",
      "ok\n",
      "ok\n",
      "ok\n",
      "ok\n",
      "ok\n",
      "ok\n",
      "ok\n",
      "ok\n",
      "ok\n",
      "ok\n",
      "ok\n",
      "ok\n",
      "ok\n",
      "ok\n",
      "ok\n",
      "ok\n",
      "ok\n",
      "ok\n",
      "ok\n",
      "ok\n",
      "ok\n",
      "ok\n",
      "ok\n",
      "ok\n",
      "ok\n",
      "ok\n"
     ]
    }
   ],
   "source": [
    "for record in df['Gender']:\n",
    "    if record =='ND':\n",
    "        print('errore')\n",
    "    else:\n",
    "        print('ok')"
   ]
  },
  {
   "cell_type": "markdown",
   "metadata": {},
   "source": [
    "## BINARIZZAZIONE"
   ]
  },
  {
   "cell_type": "code",
   "execution_count": 60,
   "metadata": {},
   "outputs": [
    {
     "data": {
      "text/plain": [
       "0      0\n",
       "1      0\n",
       "2      0\n",
       "3      0\n",
       "4      1\n",
       "      ..\n",
       "195    1\n",
       "196    0\n",
       "197    0\n",
       "198    0\n",
       "199    1\n",
       "Name: Gender, Length: 200, dtype: object"
      ]
     },
     "execution_count": 60,
     "metadata": {},
     "output_type": "execute_result"
    }
   ],
   "source": [
    "# 0 uomini\n",
    "# 1 donne\n",
    "i = 0\n",
    "for record in df['Gender']:\n",
    "    if record == \"Male\":\n",
    "        df.at[i, 'Gender'] = \"0\"\n",
    "    elif record == \"Female\":\n",
    "        df.at[i, 'Gender'] = \"1\"\n",
    "    i += 1\n",
    "\n",
    "df['Gender']"
   ]
  },
  {
   "cell_type": "code",
   "execution_count": 61,
   "metadata": {},
   "outputs": [],
   "source": [
    "# trasformiamo il dtype perchè dopo binarizzazione\n",
    "# dtype = object e ci darebbe errori per fare \n",
    "# correlazione con altre variabli numeriche\n",
    "df['Gender'] = df['Gender'].astype('int32')"
   ]
  },
  {
   "cell_type": "code",
   "execution_count": 62,
   "metadata": {
    "scrolled": true
   },
   "outputs": [
    {
     "data": {
      "text/plain": [
       "0      1\n",
       "1      0\n",
       "2      0\n",
       "3      0\n",
       "4      1\n",
       "      ..\n",
       "195    0\n",
       "196    0\n",
       "197    0\n",
       "198    1\n",
       "199    0\n",
       "Name: OverTime, Length: 200, dtype: object"
      ]
     },
     "execution_count": 62,
     "metadata": {},
     "output_type": "execute_result"
    }
   ],
   "source": [
    "# 0 no\n",
    "# 1 yes\n",
    "i = 0\n",
    "for record in df['OverTime']:\n",
    "    if record == \"No\":\n",
    "        df.at[i, 'OverTime'] = \"0\"\n",
    "    elif record == \"Yes\":\n",
    "        df.at[i, 'OverTime'] = \"1\"\n",
    "    i += 1\n",
    "\n",
    "df['OverTime']"
   ]
  },
  {
   "cell_type": "code",
   "execution_count": 63,
   "metadata": {},
   "outputs": [],
   "source": [
    "# trasformiamo il dtype perchè dopo binarizzazione\n",
    "# dtype = object e ci darebbe errori per fare \n",
    "# correlazione con altre variabli numeriche\n",
    "df['OverTime'] = df['OverTime'].astype('int32')"
   ]
  },
  {
   "cell_type": "markdown",
   "metadata": {},
   "source": [
    "# Correzione errori semantici"
   ]
  },
  {
   "cell_type": "code",
   "execution_count": 65,
   "metadata": {},
   "outputs": [],
   "source": [
    "i = 0\n",
    "for record in df['Age']:\n",
    "    if record < (df.at[i, 'TotalWorkingYears'] + 18):\n",
    "        df.at[i, 'TotalWorkingYears'] = record - 18\n",
    "    i += 1\n",
    "\n",
    "# ------------------------------------------------------------------------------------\n",
    "i = 0\n",
    "for record in df['YearsAtCompany']:\n",
    "    if record > df.at[i, 'TotalWorkingYears'] and df.at[i, 'NumCompaniesWorked'] == 0:\n",
    "        sostituzione = df.at[i, 'TotalWorkingYears']\n",
    "        df.at[i, 'YearsAtCompany'] = sostituzione\n",
    "    i += 1\n",
    "\n",
    "i = 0\n",
    "for record in df['YearsAtCompany']:\n",
    "    if record > df.at[i, 'TotalWorkingYears'] and df.at[i, 'NumCompaniesWorked'] != 0:\n",
    "        sostituzione = df.at[i, 'TotalWorkingYears']\n",
    "        df.at[i, 'YearsAtCompany'] = sostituzione\n",
    "        df.at[i, 'NumCompaniesWorked'] = 0\n",
    "    i += 1\n",
    "# ------------------------------------------------------------------------------------    \n",
    "i = 0\n",
    "for record in df['YearsWithCurrManager']:\n",
    "    if record > df.at[i, 'YearsAtCompany']:\n",
    "        sostituzione = df.at[i, 'YearsAtCompany']\n",
    "        df.at[i, 'YearsWithCurrManager'] = sostituzione\n",
    "    i += 1\n",
    "    \n",
    "i = 0\n",
    "for record in df['YearsSinceLastPromotion']:\n",
    "    if record > df.at[i, 'YearsAtCompany']:\n",
    "        sostituzione = df.at[i, 'YearsAtCompany']\n",
    "        df.at[i, 'YearsSinceLastPromotion'] = sostituzione\n",
    "    i += 1\n",
    "    \n",
    "i = 0\n",
    "for record in df['YearsInCurrentRole']:\n",
    "    if record > df.at[i, 'YearsAtCompany']:\n",
    "        sostituzione = df.at[i, 'YearsAtCompany']\n",
    "        df.at[i, 'YearsInCurrentRole'] = sostituzione\n",
    "    i += 1"
   ]
  },
  {
   "cell_type": "markdown",
   "metadata": {},
   "source": [
    "# Aggiunta di Stagnation"
   ]
  },
  {
   "cell_type": "code",
   "execution_count": 66,
   "metadata": {},
   "outputs": [],
   "source": [
    "# Stagnation\n",
    "array_stagnation = []\n",
    "i = 0\n",
    "for record in df['YearsSinceLastPromotion']:\n",
    "    stagnation = record * df.at[i, 'YearsInCurrentRole']\n",
    "    array_stagnation.append(stagnation)\n",
    "    i += 1\n",
    "    \n",
    "mdf_df = df.assign(Stagnation = array_stagnation)"
   ]
  },
  {
   "cell_type": "markdown",
   "metadata": {},
   "source": [
    "# Eliminazione variabili ridondanti"
   ]
  },
  {
   "cell_type": "code",
   "execution_count": 67,
   "metadata": {},
   "outputs": [],
   "source": [
    "mdf_df = mdf_df.drop(columns =['DailyRate', 'MonthlyRate', 'HourlyRate','Over18', 'StandardHours', 'PerformanceRating', 'YearsInCurrentRole', 'YearsSinceLastPromotion', 'JobLevel'])"
   ]
  },
  {
   "cell_type": "code",
   "execution_count": 68,
   "metadata": {},
   "outputs": [
    {
     "name": "stdout",
     "output_type": "stream",
     "text": [
      "<class 'pandas.core.frame.DataFrame'>\n",
      "RangeIndex: 200 entries, 0 to 199\n",
      "Data columns (total 25 columns):\n",
      " #   Column                    Non-Null Count  Dtype \n",
      "---  ------                    --------------  ----- \n",
      " 0   Age                       200 non-null    int32 \n",
      " 1   Attrition                 200 non-null    object\n",
      " 2   BusinessTravel            200 non-null    object\n",
      " 3   Department                200 non-null    object\n",
      " 4   DistanceFromHome          200 non-null    int32 \n",
      " 5   Education                 200 non-null    int32 \n",
      " 6   EducationField            200 non-null    object\n",
      " 7   EnvironmentSatisfaction   200 non-null    int32 \n",
      " 8   Gender                    200 non-null    int32 \n",
      " 9   JobInvolvement            200 non-null    int32 \n",
      " 10  JobRole                   200 non-null    object\n",
      " 11  JobSatisfaction           200 non-null    int32 \n",
      " 12  MaritalStatus             200 non-null    object\n",
      " 13  MonthlyIncome             200 non-null    int32 \n",
      " 14  NumCompaniesWorked        200 non-null    int32 \n",
      " 15  OverTime                  200 non-null    int32 \n",
      " 16  PercentSalaryHike         200 non-null    int32 \n",
      " 17  RelationshipSatisfaction  200 non-null    int32 \n",
      " 18  StockOptionLevel          200 non-null    int32 \n",
      " 19  TotalWorkingYears         200 non-null    int32 \n",
      " 20  TrainingTimesLastYear     200 non-null    int32 \n",
      " 21  WorkLifeBalance           200 non-null    int32 \n",
      " 22  YearsAtCompany            200 non-null    int32 \n",
      " 23  YearsWithCurrManager      200 non-null    int32 \n",
      " 24  Stagnation                200 non-null    int64 \n",
      "dtypes: int32(18), int64(1), object(6)\n",
      "memory usage: 25.1+ KB\n"
     ]
    }
   ],
   "source": [
    "mdf_df.info()"
   ]
  },
  {
   "cell_type": "code",
   "execution_count": 69,
   "metadata": {},
   "outputs": [],
   "source": [
    "# salviamo df in un nuovo csv\n",
    "mdf_df.to_csv('Test_pulito2_senzaOut.csv', index=False) "
   ]
  },
  {
   "cell_type": "code",
   "execution_count": 64,
   "metadata": {},
   "outputs": [],
   "source": []
  },
  {
   "cell_type": "code",
   "execution_count": null,
   "metadata": {},
   "outputs": [],
   "source": []
  }
 ],
 "metadata": {
  "kernelspec": {
   "display_name": "Python 3",
   "language": "python",
   "name": "python3"
  },
  "language_info": {
   "codemirror_mode": {
    "name": "ipython",
    "version": 3
   },
   "file_extension": ".py",
   "mimetype": "text/x-python",
   "name": "python",
   "nbconvert_exporter": "python",
   "pygments_lexer": "ipython3",
   "version": "3.8.2"
  }
 },
 "nbformat": 4,
 "nbformat_minor": 4
}
