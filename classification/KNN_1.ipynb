{
 "cells": [
  {
   "cell_type": "code",
   "execution_count": 1,
   "metadata": {},
   "outputs": [],
   "source": [
    "%matplotlib inline\n",
    "\n",
    "import numpy as np\n",
    "import pandas as pd\n",
    "import matplotlib.pyplot as plt\n",
    "\n",
    "from sklearn.metrics import confusion_matrix\n",
    "from sklearn.metrics import accuracy_score, f1_score, classification_report\n",
    "\n",
    "from sklearn.model_selection import train_test_split\n",
    "from sklearn.preprocessing import LabelEncoder\n",
    "\n",
    "from sklearn.model_selection import GridSearchCV\n",
    "from sklearn.model_selection import RandomizedSearchCV"
   ]
  },
  {
   "cell_type": "code",
   "execution_count": 2,
   "metadata": {},
   "outputs": [],
   "source": [
    "df = pd.read_csv('Train_Attrition_Cat.csv', sep=\";\")\n",
    "test_set = pd.read_csv('Test_pulito.csv')"
   ]
  },
  {
   "cell_type": "code",
   "execution_count": 10,
   "metadata": {},
   "outputs": [
    {
     "name": "stdout",
     "output_type": "stream",
     "text": [
      "<class 'pandas.core.frame.DataFrame'>\n",
      "RangeIndex: 1013 entries, 0 to 1012\n",
      "Data columns (total 25 columns):\n",
      " #   Column                    Non-Null Count  Dtype \n",
      "---  ------                    --------------  ----- \n",
      " 0   Age                       1013 non-null   int64 \n",
      " 1   Attrition                 1013 non-null   object\n",
      " 2   BusinessTravel            1013 non-null   object\n",
      " 3   Department                1013 non-null   object\n",
      " 4   DistanceFromHome          1013 non-null   int64 \n",
      " 5   Education                 1013 non-null   int64 \n",
      " 6   EducationField            1013 non-null   object\n",
      " 7   EnvironmentSatisfaction   1013 non-null   int64 \n",
      " 8   Gender                    1013 non-null   int64 \n",
      " 9   JobInvolvement            1013 non-null   int64 \n",
      " 10  JobRole                   1013 non-null   object\n",
      " 11  JobSatisfaction           1013 non-null   int64 \n",
      " 12  MaritalStatus             1013 non-null   object\n",
      " 13  MonthlyIncome             1013 non-null   int64 \n",
      " 14  NumCompaniesWorked        1013 non-null   int64 \n",
      " 15  OverTime                  1013 non-null   int64 \n",
      " 16  PercentSalaryHike         1013 non-null   int64 \n",
      " 17  RelationshipSatisfaction  1013 non-null   int64 \n",
      " 18  StockOptionLevel          1013 non-null   int64 \n",
      " 19  TotalWorkingYears         1013 non-null   int64 \n",
      " 20  TrainingTimesLastYear     1013 non-null   int64 \n",
      " 21  WorkLifeBalance           1013 non-null   int64 \n",
      " 22  YearsAtCompany            1013 non-null   int64 \n",
      " 23  YearsWithCurrManager      1013 non-null   int64 \n",
      " 24  Stagnation                1013 non-null   int64 \n",
      "dtypes: int64(19), object(6)\n",
      "memory usage: 198.0+ KB\n"
     ]
    }
   ],
   "source": [
    "df.info()"
   ]
  },
  {
   "cell_type": "code",
   "execution_count": 28,
   "metadata": {},
   "outputs": [],
   "source": [
    "label_encoders = dict()\n",
    "column2encode = ['Attrition','BusinessTravel','Department','EducationField','MaritalStatus','JobRole']\n",
    "\n",
    "for col in column2encode:\n",
    "    le = LabelEncoder()\n",
    "    df[col] = le.fit_transform(df[col])\n",
    "    label_encoders[col] = le\n",
    "    \n",
    "for col in column2encode:\n",
    "    le = LabelEncoder()\n",
    "    test_set[col] = le.fit_transform(test_set[col])\n",
    "    label_encoders[col] = le"
   ]
  },
  {
   "cell_type": "code",
   "execution_count": null,
   "metadata": {},
   "outputs": [],
   "source": []
  },
  {
   "cell_type": "code",
   "execution_count": 30,
   "metadata": {},
   "outputs": [],
   "source": [
    "attributes = [col for col in df.columns if col != 'Attrition']\n",
    "X_train = df[attributes].values\n",
    "#il target class\n",
    "y_train = df['Attrition']"
   ]
  },
  {
   "cell_type": "code",
   "execution_count": 31,
   "metadata": {},
   "outputs": [],
   "source": [
    "attributes = [col for col in test_set.columns if col != 'Attrition']\n",
    "X_test = test_set[attributes].values\n",
    "y_test = test_set['Attrition']"
   ]
  },
  {
   "cell_type": "code",
   "execution_count": 20,
   "metadata": {},
   "outputs": [],
   "source": [
    "from sklearn.neighbors import KNeighborsClassifier\n",
    "from sklearn.model_selection import cross_val_score"
   ]
  },
  {
   "cell_type": "code",
   "execution_count": 27,
   "metadata": {},
   "outputs": [
    {
     "name": "stdout",
     "output_type": "stream",
     "text": [
      "Accuracy: 0.7245 (+/- 0.07)\n",
      "F1-score: 0.5056 (+/- 0.07)\n"
     ]
    }
   ],
   "source": [
    "clf = KNeighborsClassifier(n_neighbors=1)\n",
    "\n",
    "scores = cross_val_score(clf, X, y, cv=10)\n",
    "print('Accuracy: %0.4f (+/- %0.2f)' % (scores.mean(), scores.std() * 2))\n",
    "\n",
    "scores = cross_val_score(clf, X, y, cv=10, scoring='f1_macro')\n",
    "print('F1-score: %0.4f (+/- %0.2f)' % (scores.mean(), scores.std() * 2))"
   ]
  },
  {
   "cell_type": "code",
   "execution_count": null,
   "metadata": {},
   "outputs": [],
   "source": []
  },
  {
   "cell_type": "code",
   "execution_count": null,
   "metadata": {},
   "outputs": [],
   "source": []
  },
  {
   "cell_type": "code",
   "execution_count": null,
   "metadata": {},
   "outputs": [],
   "source": [
    "#pos_label=1 is not a valid label: array(['No', 'Yes'], dtype='<U3')\n"
   ]
  },
  {
   "cell_type": "code",
   "execution_count": 32,
   "metadata": {},
   "outputs": [
    {
     "name": "stdout",
     "output_type": "stream",
     "text": [
      "# Tuning hyper-parameters for ----> recall\n",
      "\n",
      "Best parameters set found on development set:\n",
      "\n",
      "{'n_neighbors': 1, 'weights': 'uniform'}\n",
      "\n",
      "Grid scores on development set:\n",
      "\n",
      "0.206 (+/-0.053) for {'n_neighbors': 1, 'weights': 'uniform'}\n",
      "0.206 (+/-0.053) for {'n_neighbors': 1, 'weights': 'distance'}\n",
      "0.018 (+/-0.029) for {'n_neighbors': 4, 'weights': 'uniform'}\n",
      "0.088 (+/-0.037) for {'n_neighbors': 4, 'weights': 'distance'}\n",
      "0.018 (+/-0.029) for {'n_neighbors': 7, 'weights': 'uniform'}\n",
      "0.041 (+/-0.047) for {'n_neighbors': 7, 'weights': 'distance'}\n",
      "0.006 (+/-0.024) for {'n_neighbors': 10, 'weights': 'uniform'}\n",
      "0.029 (+/-0.000) for {'n_neighbors': 10, 'weights': 'distance'}\n",
      "0.006 (+/-0.024) for {'n_neighbors': 13, 'weights': 'uniform'}\n",
      "0.012 (+/-0.029) for {'n_neighbors': 13, 'weights': 'distance'}\n",
      "0.000 (+/-0.000) for {'n_neighbors': 16, 'weights': 'uniform'}\n",
      "0.012 (+/-0.029) for {'n_neighbors': 16, 'weights': 'distance'}\n",
      "0.000 (+/-0.000) for {'n_neighbors': 19, 'weights': 'uniform'}\n",
      "0.012 (+/-0.029) for {'n_neighbors': 19, 'weights': 'distance'}\n",
      "0.000 (+/-0.000) for {'n_neighbors': 22, 'weights': 'uniform'}\n",
      "0.006 (+/-0.024) for {'n_neighbors': 22, 'weights': 'distance'}\n",
      "0.000 (+/-0.000) for {'n_neighbors': 25, 'weights': 'uniform'}\n",
      "0.006 (+/-0.024) for {'n_neighbors': 25, 'weights': 'distance'}\n",
      "0.000 (+/-0.000) for {'n_neighbors': 28, 'weights': 'uniform'}\n",
      "0.006 (+/-0.024) for {'n_neighbors': 28, 'weights': 'distance'}\n",
      "\n",
      "Detailed classification report:\n",
      "\n",
      "The model is trained on the full development set.\n",
      "The scores are computed on the full evaluation set.\n",
      "\n",
      "              precision    recall  f1-score   support\n",
      "\n",
      "           0       0.85      0.87      0.86       249\n",
      "           1       0.16      0.13      0.14        45\n",
      "\n",
      "    accuracy                           0.76       294\n",
      "   macro avg       0.50      0.50      0.50       294\n",
      "weighted avg       0.74      0.76      0.75       294\n",
      "\n",
      "\n",
      "# Tuning hyper-parameters for ----> f1\n",
      "\n",
      "Best parameters set found on development set:\n",
      "\n",
      "{'n_neighbors': 1, 'weights': 'uniform'}\n",
      "\n",
      "Grid scores on development set:\n",
      "\n",
      "0.525 (+/-0.050) for {'n_neighbors': 1, 'weights': 'uniform'}\n",
      "0.525 (+/-0.050) for {'n_neighbors': 1, 'weights': 'distance'}\n",
      "0.463 (+/-0.020) for {'n_neighbors': 4, 'weights': 'uniform'}\n",
      "0.498 (+/-0.036) for {'n_neighbors': 4, 'weights': 'distance'}\n",
      "0.466 (+/-0.030) for {'n_neighbors': 7, 'weights': 'uniform'}\n",
      "0.480 (+/-0.046) for {'n_neighbors': 7, 'weights': 'distance'}\n",
      "0.460 (+/-0.025) for {'n_neighbors': 10, 'weights': 'uniform'}\n",
      "0.473 (+/-0.011) for {'n_neighbors': 10, 'weights': 'distance'}\n",
      "0.460 (+/-0.025) for {'n_neighbors': 13, 'weights': 'uniform'}\n",
      "0.460 (+/-0.029) for {'n_neighbors': 13, 'weights': 'distance'}\n",
      "0.454 (+/-0.000) for {'n_neighbors': 16, 'weights': 'uniform'}\n",
      "0.460 (+/-0.029) for {'n_neighbors': 16, 'weights': 'distance'}\n",
      "0.454 (+/-0.000) for {'n_neighbors': 19, 'weights': 'uniform'}\n",
      "0.461 (+/-0.029) for {'n_neighbors': 19, 'weights': 'distance'}\n",
      "0.454 (+/-0.000) for {'n_neighbors': 22, 'weights': 'uniform'}\n",
      "0.455 (+/-0.020) for {'n_neighbors': 22, 'weights': 'distance'}\n",
      "0.454 (+/-0.000) for {'n_neighbors': 25, 'weights': 'uniform'}\n",
      "0.456 (+/-0.020) for {'n_neighbors': 25, 'weights': 'distance'}\n",
      "0.454 (+/-0.000) for {'n_neighbors': 28, 'weights': 'uniform'}\n",
      "0.456 (+/-0.019) for {'n_neighbors': 28, 'weights': 'distance'}\n",
      "\n",
      "Detailed classification report:\n",
      "\n",
      "The model is trained on the full development set.\n",
      "The scores are computed on the full evaluation set.\n",
      "\n",
      "              precision    recall  f1-score   support\n",
      "\n",
      "           0       0.85      0.87      0.86       249\n",
      "           1       0.16      0.13      0.14        45\n",
      "\n",
      "    accuracy                           0.76       294\n",
      "   macro avg       0.50      0.50      0.50       294\n",
      "weighted avg       0.74      0.76      0.75       294\n",
      "\n",
      "\n"
     ]
    }
   ],
   "source": [
    "\n",
    "# Split the dataset in two equal parts\n",
    "#X_train, X_test, y_train, y_test = train_test_split(X, y, test_size=0.4, random_state=0)\n",
    "\n",
    "# Set the parameters by cross-validation\n",
    "tuned_parameters = {\n",
    "    'n_neighbors': list(range(1, 31, 3)),\n",
    "    'weights': ['uniform', 'distance'],\n",
    "}\n",
    "\n",
    "#scores = ['precision', 'recall', 'f1']\n",
    "scores = ['recall', 'f1']\n",
    "\n",
    "for score in scores:\n",
    "    print(\"# Tuning hyper-parameters for ----> %s\" % score)\n",
    "    print()\n",
    "    \n",
    "    obj = KNeighborsClassifier()   \n",
    "    \n",
    "    if (score == \"recall\"):\n",
    "      clf = GridSearchCV(obj, tuned_parameters, cv=5, scoring=score)\n",
    "    else:\n",
    "      clf = GridSearchCV(obj, tuned_parameters, cv=5, scoring='%s_macro' % score)\n",
    "\n",
    "    clf.fit(X_train, y_train)\n",
    "\n",
    "    print(\"Best parameters set found on development set:\")\n",
    "    print()\n",
    "    print(clf.best_params_)\n",
    "    print()\n",
    "    print(\"Grid scores on development set:\")\n",
    "    print()\n",
    "    means = clf.cv_results_['mean_test_score']\n",
    "    stds = clf.cv_results_['std_test_score']\n",
    "    for mean, std, params in zip(means, stds, clf.cv_results_['params']):\n",
    "        print(\"%0.3f (+/-%0.03f) for %r\"\n",
    "              % (mean, std * 2, params))\n",
    "    print()\n",
    "\n",
    "    print(\"Detailed classification report:\")\n",
    "    print()\n",
    "    print(\"The model is trained on the full development set.\")\n",
    "    print(\"The scores are computed on the full evaluation set.\")\n",
    "    print()\n",
    "    y_true, y_pred = y_test, clf.predict(X_test)\n",
    "    print(classification_report(y_true, y_pred))\n",
    "    print()"
   ]
  },
  {
   "cell_type": "code",
   "execution_count": 35,
   "metadata": {},
   "outputs": [],
   "source": [
    "def report(results, n_top=3):\n",
    "    for i in range(1, n_top + 1):\n",
    "        candidates = np.flatnonzero(results['rank_test_score'] == i)\n",
    "        for candidate in candidates:\n",
    "            print(\"Model with rank: {0}\".format(i))\n",
    "            print(\"Mean validation score: {0:.3f} (std: {1:.3f})\".format(\n",
    "                  results['mean_test_score'][candidate],\n",
    "                  results['std_test_score'][candidate]))\n",
    "            print(\"Parameters: {0}\".format(results['params'][candidate]))\n",
    "            print(\"\")"
   ]
  },
  {
   "cell_type": "code",
   "execution_count": 36,
   "metadata": {},
   "outputs": [
    {
     "name": "stderr",
     "output_type": "stream",
     "text": [
      "/opt/anaconda3/envs/DM/lib/python3.8/site-packages/sklearn/model_selection/_search.py:278: UserWarning: The total space of parameters 20 is smaller than n_iter=100. Running 20 iterations. For exhaustive searches, use GridSearchCV.\n",
      "  warnings.warn(\n"
     ]
    },
    {
     "name": "stdout",
     "output_type": "stream",
     "text": [
      "Model with rank: 1\n",
      "Mean validation score: 0.832 (std: 0.000)\n",
      "Parameters: {'weights': 'uniform', 'n_neighbors': 16}\n",
      "\n",
      "Model with rank: 1\n",
      "Mean validation score: 0.832 (std: 0.000)\n",
      "Parameters: {'weights': 'uniform', 'n_neighbors': 19}\n",
      "\n",
      "Model with rank: 1\n",
      "Mean validation score: 0.832 (std: 0.000)\n",
      "Parameters: {'weights': 'uniform', 'n_neighbors': 22}\n",
      "\n",
      "Model with rank: 1\n",
      "Mean validation score: 0.832 (std: 0.000)\n",
      "Parameters: {'weights': 'uniform', 'n_neighbors': 25}\n",
      "\n",
      "Model with rank: 1\n",
      "Mean validation score: 0.832 (std: 0.000)\n",
      "Parameters: {'weights': 'uniform', 'n_neighbors': 28}\n",
      "\n"
     ]
    }
   ],
   "source": [
    "param_list = {'n_neighbors': list(range(1, 31, 3)),\n",
    "    'weights': ['uniform', 'distance']\n",
    "}\n",
    "\n",
    "clf = KNeighborsClassifier(n_neighbors=1)\n",
    "\n",
    "random_search = RandomizedSearchCV(clf, param_distributions=param_list, n_iter=100)\n",
    "random_search.fit(X_train, y_train)\n",
    "report(random_search.cv_results_, n_top=3)"
   ]
  },
  {
   "cell_type": "code",
   "execution_count": 37,
   "metadata": {},
   "outputs": [
    {
     "name": "stdout",
     "output_type": "stream",
     "text": [
      "Accuracy: 0.8322 (+/- 0.00)\n",
      "F1-score: 0.4542 (+/- 0.00)\n"
     ]
    }
   ],
   "source": [
    "# we build a DT\n",
    "clf = KNeighborsClassifier(n_neighbors=16)\n",
    "#we fit out model by giving the TRAINING SET + Y LABELS\n",
    "clf.fit(X_train, y_train)\n",
    "\n",
    "scores = cross_val_score(clf, X_train, y_train, cv=10)\n",
    "print('Accuracy: %0.4f (+/- %0.2f)' % (scores.mean(), scores.std() * 2))\n",
    "\n",
    "scores = cross_val_score(clf, X_train, y_train, cv=10, scoring='f1_macro')\n",
    "print('F1-score: %0.4f (+/- %0.2f)' % (scores.mean(), scores.std() * 2))"
   ]
  },
  {
   "cell_type": "code",
   "execution_count": 38,
   "metadata": {},
   "outputs": [
    {
     "name": "stdout",
     "output_type": "stream",
     "text": [
      "Accuracy: 0.7245 (+/- 0.07)\n",
      "F1-score: 0.5056 (+/- 0.07)\n"
     ]
    }
   ],
   "source": [
    "# we build a DT\n",
    "clf = KNeighborsClassifier(n_neighbors=1)\n",
    "#we fit out model by giving the TRAINING SET + Y LABELS\n",
    "clf.fit(X_train, y_train)\n",
    "\n",
    "scores = cross_val_score(clf, X_train, y_train, cv=10)\n",
    "print('Accuracy: %0.4f (+/- %0.2f)' % (scores.mean(), scores.std() * 2))\n",
    "\n",
    "scores = cross_val_score(clf, X_train, y_train, cv=10, scoring='f1_macro')\n",
    "print('F1-score: %0.4f (+/- %0.2f)' % (scores.mean(), scores.std() * 2))"
   ]
  },
  {
   "cell_type": "code",
   "execution_count": 40,
   "metadata": {},
   "outputs": [],
   "source": [
    "y_pred = clf.predict(X_test)\n"
   ]
  },
  {
   "cell_type": "code",
   "execution_count": 41,
   "metadata": {},
   "outputs": [
    {
     "name": "stdout",
     "output_type": "stream",
     "text": [
      "Accuracy 0.7585034013605442\n",
      "F1-score [0.85940594 0.14457831]\n"
     ]
    }
   ],
   "source": [
    "print('Accuracy %s' % accuracy_score(y_test, y_pred))\n",
    "print('F1-score %s' % f1_score(y_test, y_pred, average=None))"
   ]
  },
  {
   "cell_type": "code",
   "execution_count": 42,
   "metadata": {},
   "outputs": [
    {
     "name": "stdout",
     "output_type": "stream",
     "text": [
      "              precision    recall  f1-score   support\n",
      "\n",
      "           0       0.85      0.87      0.86       249\n",
      "           1       0.16      0.13      0.14        45\n",
      "\n",
      "    accuracy                           0.76       294\n",
      "   macro avg       0.50      0.50      0.50       294\n",
      "weighted avg       0.74      0.76      0.75       294\n",
      "\n"
     ]
    }
   ],
   "source": [
    "print(classification_report(y_test, y_pred))"
   ]
  },
  {
   "cell_type": "code",
   "execution_count": null,
   "metadata": {},
   "outputs": [],
   "source": []
  }
 ],
 "metadata": {
  "kernelspec": {
   "display_name": "Python 3",
   "language": "python",
   "name": "python3"
  },
  "language_info": {
   "codemirror_mode": {
    "name": "ipython",
    "version": 3
   },
   "file_extension": ".py",
   "mimetype": "text/x-python",
   "name": "python",
   "nbconvert_exporter": "python",
   "pygments_lexer": "ipython3",
   "version": "3.8.2"
  }
 },
 "nbformat": 4,
 "nbformat_minor": 4
}
