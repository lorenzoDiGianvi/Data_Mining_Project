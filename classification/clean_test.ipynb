{
 "cells": [
  {
   "cell_type": "code",
   "execution_count": 1,
   "metadata": {},
   "outputs": [],
   "source": [
    "%matplotlib inline\n",
    "import math\n",
    "import numpy as np\n",
    "import pandas as pd\n",
    "import scipy.stats as stats\n",
    "import matplotlib.pyplot as plt\n",
    "import seaborn as sns"
   ]
  },
  {
   "cell_type": "code",
   "execution_count": 34,
   "metadata": {},
   "outputs": [],
   "source": [
    "# mettiamo il dataframe dentro la variabile df\n",
    "df = pd.read_csv('Test_NoOutliers.csv', sep=';')"
   ]
  },
  {
   "cell_type": "code",
   "execution_count": 35,
   "metadata": {},
   "outputs": [
    {
     "name": "stdout",
     "output_type": "stream",
     "text": [
      "<class 'pandas.core.frame.DataFrame'>\n",
      "RangeIndex: 200 entries, 0 to 199\n",
      "Data columns (total 33 columns):\n",
      " #   Column                    Non-Null Count  Dtype  \n",
      "---  ------                    --------------  -----  \n",
      " 0   Age                       180 non-null    float64\n",
      " 1   Attrition                 200 non-null    object \n",
      " 2   BusinessTravel            186 non-null    object \n",
      " 3   DailyRate                 200 non-null    int64  \n",
      " 4   Department                200 non-null    object \n",
      " 5   DistanceFromHome          200 non-null    int64  \n",
      " 6   Education                 200 non-null    int64  \n",
      " 7   EducationField            200 non-null    object \n",
      " 8   EnvironmentSatisfaction   200 non-null    int64  \n",
      " 9   Gender                    192 non-null    object \n",
      " 10  HourlyRate                200 non-null    int64  \n",
      " 11  JobInvolvement            200 non-null    int64  \n",
      " 12  JobLevel                  200 non-null    int64  \n",
      " 13  JobRole                   200 non-null    object \n",
      " 14  JobSatisfaction           200 non-null    int64  \n",
      " 15  MaritalStatus             200 non-null    object \n",
      " 16  MonthlyIncome             147 non-null    float64\n",
      " 17  MonthlyRate               200 non-null    int64  \n",
      " 18  NumCompaniesWorked        200 non-null    int64  \n",
      " 19  Over18                    136 non-null    object \n",
      " 20  OverTime                  200 non-null    object \n",
      " 21  PercentSalaryHike         200 non-null    int64  \n",
      " 22  PerformanceRating         178 non-null    float64\n",
      " 23  RelationshipSatisfaction  200 non-null    int64  \n",
      " 24  StandardHours             101 non-null    float64\n",
      " 25  StockOptionLevel          200 non-null    int64  \n",
      " 26  TotalWorkingYears         200 non-null    int64  \n",
      " 27  TrainingTimesLastYear     155 non-null    float64\n",
      " 28  WorkLifeBalance           200 non-null    int64  \n",
      " 29  YearsAtCompany            190 non-null    float64\n",
      " 30  YearsInCurrentRole        200 non-null    int64  \n",
      " 31  YearsSinceLastPromotion   200 non-null    int64  \n",
      " 32  YearsWithCurrManager      200 non-null    int64  \n",
      "dtypes: float64(6), int64(18), object(9)\n",
      "memory usage: 51.7+ KB\n"
     ]
    }
   ],
   "source": [
    "df.info()"
   ]
  },
  {
   "cell_type": "code",
   "execution_count": 5,
   "metadata": {},
   "outputs": [
    {
     "data": {
      "text/plain": [
       "1"
      ]
     },
     "execution_count": 5,
     "metadata": {},
     "output_type": "execute_result"
    }
   ],
   "source": [
    "i=0\n",
    "for record in df['Age']:\n",
    "    if record > 58:\n",
    "        i+=1\n",
    "i"
   ]
  },
  {
   "cell_type": "code",
   "execution_count": 6,
   "metadata": {},
   "outputs": [
    {
     "data": {
      "text/plain": [
       "18"
      ]
     },
     "execution_count": 6,
     "metadata": {},
     "output_type": "execute_result"
    }
   ],
   "source": [
    "i=0\n",
    "for record in df['MonthlyIncome']:\n",
    "    if record > 17000:\n",
    "        i+=1\n",
    "i"
   ]
  },
  {
   "cell_type": "code",
   "execution_count": 7,
   "metadata": {},
   "outputs": [
    {
     "data": {
      "text/plain": [
       "14"
      ]
     },
     "execution_count": 7,
     "metadata": {},
     "output_type": "execute_result"
    }
   ],
   "source": [
    "i=0\n",
    "for record in df['TotalWorkingYears']:\n",
    "    if record > 28:\n",
    "        i+=1\n",
    "i"
   ]
  },
  {
   "cell_type": "code",
   "execution_count": 8,
   "metadata": {},
   "outputs": [
    {
     "data": {
      "text/plain": [
       "36"
      ]
     },
     "execution_count": 8,
     "metadata": {},
     "output_type": "execute_result"
    }
   ],
   "source": [
    "i=0\n",
    "for record in df['TrainingTimesLastYear']:\n",
    "    if record >= 5:\n",
    "        i+=1\n",
    "i"
   ]
  },
  {
   "cell_type": "code",
   "execution_count": 9,
   "metadata": {},
   "outputs": [
    {
     "data": {
      "text/plain": [
       "23"
      ]
     },
     "execution_count": 9,
     "metadata": {},
     "output_type": "execute_result"
    }
   ],
   "source": [
    "i=0\n",
    "for record in df['YearsAtCompany']:\n",
    "    if record >= 18:\n",
    "        i+=1\n",
    "i"
   ]
  },
  {
   "cell_type": "code",
   "execution_count": 10,
   "metadata": {},
   "outputs": [
    {
     "data": {
      "text/plain": [
       "12"
      ]
     },
     "execution_count": 10,
     "metadata": {},
     "output_type": "execute_result"
    }
   ],
   "source": [
    "i=0\n",
    "for record in df['NumCompaniesWorked']:\n",
    "    if record > 8:\n",
    "        i+=1\n",
    "i"
   ]
  },
  {
   "cell_type": "code",
   "execution_count": 11,
   "metadata": {},
   "outputs": [
    {
     "data": {
      "text/plain": [
       "22"
      ]
     },
     "execution_count": 11,
     "metadata": {},
     "output_type": "execute_result"
    }
   ],
   "source": [
    "i=0\n",
    "for record in df['YearsSinceLastPromotion']:\n",
    "    if record > 7:\n",
    "        i+=1\n",
    "i"
   ]
  },
  {
   "cell_type": "code",
   "execution_count": 12,
   "metadata": {},
   "outputs": [
    {
     "data": {
      "text/plain": [
       "3"
      ]
     },
     "execution_count": 12,
     "metadata": {},
     "output_type": "execute_result"
    }
   ],
   "source": [
    "i=0\n",
    "for record in df['YearsWithCurrManager']:\n",
    "    if record > 13:\n",
    "        i+=1\n",
    "i"
   ]
  },
  {
   "cell_type": "code",
   "execution_count": 13,
   "metadata": {},
   "outputs": [
    {
     "data": {
      "text/plain": [
       "4"
      ]
     },
     "execution_count": 13,
     "metadata": {},
     "output_type": "execute_result"
    }
   ],
   "source": [
    "i=0\n",
    "for record in df['YearsInCurrentRole']:\n",
    "    if record > 14:\n",
    "        i+=1\n",
    "i"
   ]
  },
  {
   "cell_type": "markdown",
   "metadata": {},
   "source": [
    "missing values"
   ]
  },
  {
   "cell_type": "code",
   "execution_count": 36,
   "metadata": {},
   "outputs": [],
   "source": [
    "df[\"Age\"].fillna(df[\"Age\"].mean(), inplace=True)"
   ]
  },
  {
   "cell_type": "code",
   "execution_count": 37,
   "metadata": {},
   "outputs": [
    {
     "data": {
      "text/plain": [
       "0"
      ]
     },
     "execution_count": 37,
     "metadata": {},
     "output_type": "execute_result"
    }
   ],
   "source": [
    "i = 0\n",
    "for record in df['BusinessTravel']:\n",
    "    if not pd.notnull(record):\n",
    "        df.at[i, 'BusinessTravel'] = \"Travel_Rarely\"\n",
    "    i += 1\n",
    "df['BusinessTravel'].isnull().sum()"
   ]
  },
  {
   "cell_type": "code",
   "execution_count": 38,
   "metadata": {},
   "outputs": [
    {
     "data": {
      "text/plain": [
       "0"
      ]
     },
     "execution_count": 38,
     "metadata": {},
     "output_type": "execute_result"
    }
   ],
   "source": [
    "i = 0\n",
    "for record in df['YearsAtCompany']:\n",
    "    if not pd.notnull(record):\n",
    "        if df.at[i,'Age'] < 21:\n",
    "            df.at[i, 'YearsAtCompany']= 1\n",
    "        elif df.at[i,'Age'] < 31:\n",
    "            df.at[i, 'YearsAtCompany']= 3\n",
    "        elif df.at[i,'Age'] < 41:\n",
    "            df.at[i, 'YearsAtCompany']= 10\n",
    "        elif df.at[i,'Age'] < 51:\n",
    "            df.at[i, 'YearsAtCompany']= 8\n",
    "        elif df.at[i,'Age'] < 61:\n",
    "            df.at[i, 'YearsAtCompany']= 10\n",
    "    i += 1\n",
    "    \n",
    "df['YearsAtCompany'].isnull().sum()"
   ]
  },
  {
   "cell_type": "code",
   "execution_count": 39,
   "metadata": {},
   "outputs": [
    {
     "data": {
      "text/plain": [
       "0"
      ]
     },
     "execution_count": 39,
     "metadata": {},
     "output_type": "execute_result"
    }
   ],
   "source": [
    "i=0\n",
    "X = df.values\n",
    "for record in df['MonthlyIncome']:\n",
    "    if not pd.notnull(record):\n",
    "        record = 391.4 * X[i, 29] + 3763.8\n",
    "        df.at[i, 'MonthlyIncome'] = record\n",
    "    i += 1\n",
    "\n",
    "df['MonthlyIncome'].isnull().sum()"
   ]
  },
  {
   "cell_type": "code",
   "execution_count": 40,
   "metadata": {},
   "outputs": [
    {
     "data": {
      "text/plain": [
       "0"
      ]
     },
     "execution_count": 40,
     "metadata": {},
     "output_type": "execute_result"
    }
   ],
   "source": [
    "i = 0\n",
    "for record in df['TrainingTimesLastYear']:\n",
    "    if not pd.notnull(record):\n",
    "        if df.at[i, 'Department'] == \"Human Resources\":\n",
    "            df.at[i, 'TrainingTimesLastYear'] = 3.0\n",
    "        elif df.at[i, 'Department'] == \"Research & Development\":\n",
    "            df.at[i, 'TrainingTimesLastYear'] = 2.0\n",
    "        elif df.at[i, 'Department'] == \"Sales\":\n",
    "            df.at[i, 'TrainingTimesLastYear'] = 2.0\n",
    "    i += 1\n",
    "df['TrainingTimesLastYear'].isnull().sum()"
   ]
  },
  {
   "cell_type": "code",
   "execution_count": 41,
   "metadata": {},
   "outputs": [
    {
     "data": {
      "text/plain": [
       "0"
      ]
     },
     "execution_count": 41,
     "metadata": {},
     "output_type": "execute_result"
    }
   ],
   "source": [
    "i = 0\n",
    "for record in df['Gender']:\n",
    "    if not pd.notnull(record):\n",
    "        df.at[i, 'Gender'] = \"ND\"\n",
    "    i += 1\n",
    "df['Gender'].isnull().sum()"
   ]
  },
  {
   "cell_type": "code",
   "execution_count": 42,
   "metadata": {},
   "outputs": [],
   "source": [
    "i =0\n",
    "contand=0\n",
    "for nd in df['Gender']:\n",
    "    if nd == 'ND':\n",
    "        contand+=1\n",
    "        if contand < 32:\n",
    "            nd = df.at[i,'Gender']='Male'\n",
    "        elif contand >=32:\n",
    "            nd = df.at[i,'Gender']='Female'\n",
    "    i+=1\n"
   ]
  },
  {
   "cell_type": "code",
   "execution_count": 43,
   "metadata": {},
   "outputs": [
    {
     "data": {
      "text/plain": [
       "Age                          0\n",
       "Attrition                    0\n",
       "BusinessTravel               0\n",
       "DailyRate                    0\n",
       "Department                   0\n",
       "DistanceFromHome             0\n",
       "Education                    0\n",
       "EducationField               0\n",
       "EnvironmentSatisfaction      0\n",
       "Gender                       0\n",
       "HourlyRate                   0\n",
       "JobInvolvement               0\n",
       "JobLevel                     0\n",
       "JobRole                      0\n",
       "JobSatisfaction              0\n",
       "MaritalStatus                0\n",
       "MonthlyIncome                0\n",
       "MonthlyRate                  0\n",
       "NumCompaniesWorked           0\n",
       "Over18                      64\n",
       "OverTime                     0\n",
       "PercentSalaryHike            0\n",
       "PerformanceRating           22\n",
       "RelationshipSatisfaction     0\n",
       "StandardHours               99\n",
       "StockOptionLevel             0\n",
       "TotalWorkingYears            0\n",
       "TrainingTimesLastYear        0\n",
       "WorkLifeBalance              0\n",
       "YearsAtCompany               0\n",
       "YearsInCurrentRole           0\n",
       "YearsSinceLastPromotion      0\n",
       "YearsWithCurrManager         0\n",
       "dtype: int64"
      ]
     },
     "execution_count": 43,
     "metadata": {},
     "output_type": "execute_result"
    }
   ],
   "source": [
    "df.isnull().sum()"
   ]
  },
  {
   "cell_type": "code",
   "execution_count": null,
   "metadata": {},
   "outputs": [],
   "source": []
  },
  {
   "cell_type": "code",
   "execution_count": 44,
   "metadata": {},
   "outputs": [],
   "source": [
    "i = 0\n",
    "for record in df['Age']:\n",
    "    if record < (df.at[i, 'TotalWorkingYears'] + 18):\n",
    "        df.at[i, 'TotalWorkingYears'] = record - 18\n",
    "    i += 1\n",
    "\n",
    "# ------------------------------------------------------------------------------------\n",
    "i = 0\n",
    "for record in df['YearsAtCompany']:\n",
    "    if record > df.at[i, 'TotalWorkingYears'] and df.at[i, 'NumCompaniesWorked'] == 0:\n",
    "        sostituzione = df.at[i, 'TotalWorkingYears']\n",
    "        df.at[i, 'YearsAtCompany'] = sostituzione\n",
    "    i += 1\n",
    "\n",
    "i = 0\n",
    "for record in df['YearsAtCompany']:\n",
    "    if record > df.at[i, 'TotalWorkingYears'] and df.at[i, 'NumCompaniesWorked'] != 0:\n",
    "        sostituzione = df.at[i, 'TotalWorkingYears']\n",
    "        df.at[i, 'YearsAtCompany'] = sostituzione\n",
    "        df.at[i, 'NumCompaniesWorked'] = 0\n",
    "    i += 1\n",
    "# ------------------------------------------------------------------------------------    \n",
    "i = 0\n",
    "for record in df['YearsWithCurrManager']:\n",
    "    if record > df.at[i, 'YearsAtCompany']:\n",
    "        sostituzione = df.at[i, 'YearsAtCompany']\n",
    "        df.at[i, 'YearsWithCurrManager'] = sostituzione\n",
    "    i += 1\n",
    "    \n",
    "i = 0\n",
    "for record in df['YearsSinceLastPromotion']:\n",
    "    if record > df.at[i, 'YearsAtCompany']:\n",
    "        sostituzione = df.at[i, 'YearsAtCompany']\n",
    "        df.at[i, 'YearsSinceLastPromotion'] = sostituzione\n",
    "    i += 1\n",
    "    \n",
    "i = 0\n",
    "for record in df['YearsInCurrentRole']:\n",
    "    if record > df.at[i, 'YearsAtCompany']:\n",
    "        sostituzione = df.at[i, 'YearsAtCompany']\n",
    "        df.at[i, 'YearsInCurrentRole'] = sostituzione\n",
    "    i += 1"
   ]
  },
  {
   "cell_type": "code",
   "execution_count": 45,
   "metadata": {},
   "outputs": [],
   "source": [
    "df.to_csv('Test_NoOut_ConErroriSemantici.csv', index=False)"
   ]
  },
  {
   "cell_type": "code",
   "execution_count": null,
   "metadata": {},
   "outputs": [],
   "source": []
  }
 ],
 "metadata": {
  "kernelspec": {
   "display_name": "Python 3",
   "language": "python",
   "name": "python3"
  },
  "language_info": {
   "codemirror_mode": {
    "name": "ipython",
    "version": 3
   },
   "file_extension": ".py",
   "mimetype": "text/x-python",
   "name": "python",
   "nbconvert_exporter": "python",
   "pygments_lexer": "ipython3",
   "version": "3.8.2"
  }
 },
 "nbformat": 4,
 "nbformat_minor": 4
}
