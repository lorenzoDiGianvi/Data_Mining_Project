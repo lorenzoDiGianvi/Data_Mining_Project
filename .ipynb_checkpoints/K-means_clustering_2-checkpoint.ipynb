{
 "cells": [
  {
   "cell_type": "code",
   "execution_count": 1,
   "metadata": {},
   "outputs": [],
   "source": [
    "# to show an image automatically within the browser without using show()\n",
    "%matplotlib inline \n",
    "\n",
    "import math\n",
    "import numpy as np # for working with arrays\n",
    "import pandas as pd # for working with tables\n",
    "import scipy.stats as stats\n",
    "import matplotlib.pyplot as plt # for visualization (creating plots)\n",
    "\n",
    "import statistics as sts # statistic module for variance"
   ]
  },
  {
   "cell_type": "code",
   "execution_count": 2,
   "metadata": {},
   "outputs": [],
   "source": [
    "from sklearn.preprocessing import StandardScaler, MinMaxScaler, RobustScaler"
   ]
  },
  {
   "cell_type": "code",
   "execution_count": 26,
   "metadata": {},
   "outputs": [],
   "source": [
    "from sklearn.cluster import KMeans\n",
    "from sklearn.metrics import silhouette_score"
   ]
  },
  {
   "cell_type": "code",
   "execution_count": 3,
   "metadata": {},
   "outputs": [],
   "source": [
    "df = pd.read_csv('Train_newColumns.csv')"
   ]
  },
  {
   "cell_type": "code",
   "execution_count": 4,
   "metadata": {},
   "outputs": [],
   "source": [
    "#droppiamo un po di colonne\n",
    "dfnew = df.drop(columns=['Attrition','JobRole','EducationField','BusinessTravel','Department','EnvironmentSatisfaction','Education' ,'Gender','JobInvolvement','JobSatisfaction','MaritalStatus','OverTime','RelationshipSatisfaction','StockOptionLevel', 'WorkLifeBalance' ])"
   ]
  },
  {
   "cell_type": "code",
   "execution_count": 5,
   "metadata": {},
   "outputs": [],
   "source": [
    "#creiamo 5 sotto-dataframe prendendo le variabili che riteniamo più importanti ai fini di individuare \n",
    "#i cluster migliori. stiamo calcolando l'ATTRITION!!!"
   ]
  },
  {
   "cell_type": "code",
   "execution_count": 6,
   "metadata": {},
   "outputs": [
    {
     "name": "stdout",
     "output_type": "stream",
     "text": [
      "<class 'pandas.core.frame.DataFrame'>\n",
      "RangeIndex: 1013 entries, 0 to 1012\n",
      "Data columns (total 10 columns):\n",
      " #   Column                 Non-Null Count  Dtype\n",
      "---  ------                 --------------  -----\n",
      " 0   Age                    1013 non-null   int64\n",
      " 1   DistanceFromHome       1013 non-null   int64\n",
      " 2   MonthlyIncome          1013 non-null   int64\n",
      " 3   NumCompaniesWorked     1013 non-null   int64\n",
      " 4   PercentSalaryHike      1013 non-null   int64\n",
      " 5   TotalWorkingYears      1013 non-null   int64\n",
      " 6   TrainingTimesLastYear  1013 non-null   int64\n",
      " 7   YearsAtCompany         1013 non-null   int64\n",
      " 8   YearsWithCurrManager   1013 non-null   int64\n",
      " 9   Stagnation             1013 non-null   int64\n",
      "dtypes: int64(10)\n",
      "memory usage: 79.3 KB\n"
     ]
    }
   ],
   "source": [
    "dfnew.info()"
   ]
  },
  {
   "cell_type": "code",
   "execution_count": 8,
   "metadata": {},
   "outputs": [],
   "source": [
    "#MI - ST - YWCM\n",
    "df1 = dfnew.drop(columns=['Age','DistanceFromHome','NumCompaniesWorked','PercentSalaryHike','TotalWorkingYears','TrainingTimesLastYear','YearsAtCompany'])"
   ]
  },
  {
   "cell_type": "code",
   "execution_count": 12,
   "metadata": {},
   "outputs": [],
   "source": [
    "#ST -YAC -TWY\n",
    "df2 = dfnew.drop(columns=['Age','DistanceFromHome','NumCompaniesWorked','MonthlyIncome','PercentSalaryHike','TrainingTimesLastYear','YearsWithCurrManager'])"
   ]
  },
  {
   "cell_type": "code",
   "execution_count": 14,
   "metadata": {},
   "outputs": [],
   "source": [
    "#MI - TWY - ST\n",
    "df3 = dfnew.drop(columns=['Age','DistanceFromHome','NumCompaniesWorked','PercentSalaryHike','TrainingTimesLastYear','YearsWithCurrManager','YearsAtCompany'])"
   ]
  },
  {
   "cell_type": "code",
   "execution_count": 16,
   "metadata": {},
   "outputs": [],
   "source": [
    "#YWMC - TWY - TTLY\n",
    "df4 = dfnew.drop(columns=['Age','DistanceFromHome','NumCompaniesWorked','MonthlyIncome','Stagnation','PercentSalaryHike','YearsAtCompany'])"
   ]
  },
  {
   "cell_type": "code",
   "execution_count": 18,
   "metadata": {},
   "outputs": [],
   "source": [
    "#MI - YAC - TWY\n",
    "df5 = dfnew.drop(columns=['Age','DistanceFromHome','NumCompaniesWorked','Stagnation','PercentSalaryHike','TrainingTimesLastYear','YearsWithCurrManager'])"
   ]
  },
  {
   "cell_type": "code",
   "execution_count": null,
   "metadata": {},
   "outputs": [],
   "source": []
  },
  {
   "cell_type": "code",
   "execution_count": 22,
   "metadata": {},
   "outputs": [],
   "source": [
    "scaler = StandardScaler()\n",
    "df1_zscore = scaler.fit_transform(df1.values)"
   ]
  },
  {
   "cell_type": "code",
   "execution_count": 23,
   "metadata": {},
   "outputs": [
    {
     "data": {
      "text/plain": [
       "array([[-0.54006694,  0.17779098, -0.18658974],\n",
       "       [ 0.06570391,  0.57890962, -0.44938488],\n",
       "       [-0.41946365, -1.02556492, -0.44938488],\n",
       "       ...,\n",
       "       [ 0.04061922, -1.02556492, -0.44938488],\n",
       "       [-0.12444793, -1.02556492, -0.44938488],\n",
       "       [-0.35404669, -1.02556492, -0.44938488]])"
      ]
     },
     "execution_count": 23,
     "metadata": {},
     "output_type": "execute_result"
    }
   ],
   "source": [
    "df1_zscore"
   ]
  },
  {
   "cell_type": "code",
   "execution_count": 35,
   "metadata": {},
   "outputs": [
    {
     "data": {
      "text/plain": [
       "KMeans(max_iter=100, n_clusters=20, n_init=20)"
      ]
     },
     "execution_count": 35,
     "metadata": {},
     "output_type": "execute_result"
    }
   ],
   "source": [
    "kmeans = KMeans(n_clusters=20, n_init=20, max_iter=100)\n",
    "kmeans.fit(df1_zscore)"
   ]
  },
  {
   "cell_type": "code",
   "execution_count": 36,
   "metadata": {},
   "outputs": [
    {
     "name": "stdout",
     "output_type": "stream",
     "text": [
      "SSE 209.56467538098238\n",
      "Silhouette 0.4050382813988408\n"
     ]
    }
   ],
   "source": [
    "print('SSE %s' % kmeans.inertia_)\n",
    "print('Silhouette %s' % silhouette_score(df1_zscore, kmeans.labels_))"
   ]
  },
  {
   "cell_type": "code",
   "execution_count": 31,
   "metadata": {},
   "outputs": [],
   "source": [
    "#con i k.means dobbiamo determinare il miglior numero di cluster attraverso il SSE\n",
    "sse_list = list()\n",
    "#da due cluster a 50+1 perche partiamo  da 0\n",
    "max_k = 50\n",
    "for k in range(2, max_k + 1):\n",
    "    kmeans = KMeans(n_clusters=k, n_init=10, max_iter=100)\n",
    "    kmeans.fit(df1_zscore)\n",
    "    #calcoliamo il sse e lo appendiamo in una lista per plottarla\n",
    "    sse = kmeans.inertia_\n",
    "    sse_list.append(sse)"
   ]
  },
  {
   "cell_type": "code",
   "execution_count": 32,
   "metadata": {},
   "outputs": [
    {
     "data": {
      "image/png": "[encoded data removed]",
      "text/plain": [
       "<Figure size 432x288 with 1 Axes>"
      ]
     },
     "metadata": {
      "needs_background": "light"
     },
     "output_type": "display_data"
    }
   ],
   "source": [
    "#possiamo scelgiere il valore migliore vedendo il primo punto in cui si ottiene il minor SSE\n",
    "plt.plot(range(2, len(sse_list) + 2), sse_list)\n",
    "plt.ylabel('SSE', fontsize=22)\n",
    "plt.xlabel('K', fontsize=22)\n",
    "plt.tick_params(axis='both', which='major', labelsize=22)\n",
    "plt.show()"
   ]
  },
  {
   "cell_type": "code",
   "execution_count": null,
   "metadata": {},
   "outputs": [],
   "source": []
  }
 ],
 "metadata": {
  "kernelspec": {
   "display_name": "Python 3",
   "language": "python",
   "name": "python3"
  },
  "language_info": {
   "codemirror_mode": {
    "name": "ipython",
    "version": 3
   },
   "file_extension": ".py",
   "mimetype": "text/x-python",
   "name": "python",
   "nbconvert_exporter": "python",
   "pygments_lexer": "ipython3",
   "version": "3.8.5"
  }
 },
 "nbformat": 4,
 "nbformat_minor": 4
}
