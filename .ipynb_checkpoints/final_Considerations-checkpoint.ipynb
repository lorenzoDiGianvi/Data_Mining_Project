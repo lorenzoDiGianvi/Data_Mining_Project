{
 "cells": [
  {
   "cell_type": "code",
   "execution_count": 1,
   "metadata": {},
   "outputs": [],
   "source": [
    "# to show an image automatically within the browser without using show()\n",
    "%matplotlib inline \n",
    "\n",
    "import math\n",
    "import numpy as np # for working with arrays\n",
    "import pandas as pd # for working with tables\n",
    "import scipy.stats as stats\n",
    "import matplotlib.pyplot as plt # for visualization (creating plots)\n",
    "\n",
    "from sklearn.metrics import *\n",
    "from sklearn.cluster import AgglomerativeClustering\n",
    "from sklearn.neighbors import kneighbors_graph\n",
    "\n",
    "#usiamo SCIPY e i dendogrammi \n",
    "from scipy.stats import mode\n",
    "from scipy.spatial.distance import pdist\n",
    "from scipy.cluster.hierarchy import linkage, dendrogram"
   ]
  },
  {
   "cell_type": "code",
   "execution_count": 2,
   "metadata": {},
   "outputs": [],
   "source": [
    "from sklearn.preprocessing import StandardScaler, MinMaxScaler, RobustScaler"
   ]
  },
  {
   "cell_type": "code",
   "execution_count": 3,
   "metadata": {},
   "outputs": [],
   "source": [
    "from scipy.spatial.distance import pdist, squareform"
   ]
  },
  {
   "cell_type": "code",
   "execution_count": 4,
   "metadata": {},
   "outputs": [],
   "source": [
    "df = pd.read_csv('Train_newColumns.csv')"
   ]
  },
  {
   "cell_type": "code",
   "execution_count": 5,
   "metadata": {},
   "outputs": [],
   "source": [
    "df5 = df[['MonthlyIncome', 'Stagnation', 'YearsAtCompany']]"
   ]
  },
  {
   "cell_type": "code",
   "execution_count": 6,
   "metadata": {},
   "outputs": [],
   "source": [
    "#il MinMaxScaler fa una normalizzazione nel range 0 e 1\n",
    "#lo standardScaler media 0 dvstd 1\n",
    "scaler = StandardScaler()\n",
    "#il metodo fa il fit e poi trasforma\n",
    "df_zscore = scaler.fit_transform(df5.values) #x = dataset normalizzato"
   ]
  },
  {
   "cell_type": "code",
   "execution_count": 7,
   "metadata": {},
   "outputs": [
    {
     "data": {
      "text/plain": [
       "AgglomerativeClustering(affinity='manhattan', linkage='complete', n_clusters=4)"
      ]
     },
     "execution_count": 7,
     "metadata": {},
     "output_type": "execute_result"
    }
   ],
   "source": [
    "\n",
    "complete_linkage = AgglomerativeClustering(n_clusters=4, linkage='complete', affinity='manhattan')\n",
    "complete_linkage.fit(df_zscore)\n",
    "\n",
    "                                              "
   ]
  },
  {
   "cell_type": "code",
   "execution_count": 8,
   "metadata": {},
   "outputs": [
    {
     "data": {
      "text/plain": [
       "array([0, 0, 0, ..., 0, 0, 0])"
      ]
     },
     "execution_count": 8,
     "metadata": {},
     "output_type": "execute_result"
    }
   ],
   "source": [
    "complete_linkage.labels_"
   ]
  },
  {
   "cell_type": "code",
   "execution_count": 9,
   "metadata": {},
   "outputs": [],
   "source": [
    "df['Hierarchical_Labels'] = complete_linkage.labels_"
   ]
  },
  {
   "cell_type": "code",
   "execution_count": 10,
   "metadata": {},
   "outputs": [
    {
     "name": "stdout",
     "output_type": "stream",
     "text": [
      "<class 'pandas.core.frame.DataFrame'>\n",
      "RangeIndex: 1013 entries, 0 to 1012\n",
      "Data columns (total 26 columns):\n",
      " #   Column                    Non-Null Count  Dtype \n",
      "---  ------                    --------------  ----- \n",
      " 0   Age                       1013 non-null   int64 \n",
      " 1   Attrition                 1013 non-null   int64 \n",
      " 2   BusinessTravel            1013 non-null   object\n",
      " 3   Department                1013 non-null   object\n",
      " 4   DistanceFromHome          1013 non-null   int64 \n",
      " 5   Education                 1013 non-null   int64 \n",
      " 6   EducationField            1013 non-null   object\n",
      " 7   EnvironmentSatisfaction   1013 non-null   int64 \n",
      " 8   Gender                    1013 non-null   int64 \n",
      " 9   JobInvolvement            1013 non-null   int64 \n",
      " 10  JobRole                   1013 non-null   object\n",
      " 11  JobSatisfaction           1013 non-null   int64 \n",
      " 12  MaritalStatus             1013 non-null   object\n",
      " 13  MonthlyIncome             1013 non-null   int64 \n",
      " 14  NumCompaniesWorked        1013 non-null   int64 \n",
      " 15  OverTime                  1013 non-null   int64 \n",
      " 16  PercentSalaryHike         1013 non-null   int64 \n",
      " 17  RelationshipSatisfaction  1013 non-null   int64 \n",
      " 18  StockOptionLevel          1013 non-null   int64 \n",
      " 19  TotalWorkingYears         1013 non-null   int64 \n",
      " 20  TrainingTimesLastYear     1013 non-null   int64 \n",
      " 21  WorkLifeBalance           1013 non-null   int64 \n",
      " 22  YearsAtCompany            1013 non-null   int64 \n",
      " 23  YearsWithCurrManager      1013 non-null   int64 \n",
      " 24  Stagnation                1013 non-null   int64 \n",
      " 25  Hierarchical_Labels       1013 non-null   int64 \n",
      "dtypes: int64(21), object(5)\n",
      "memory usage: 205.9+ KB\n"
     ]
    }
   ],
   "source": [
    "df.info()"
   ]
  },
  {
   "cell_type": "code",
   "execution_count": 44,
   "metadata": {},
   "outputs": [],
   "source": [
    "df_con_hier = df.to_csv('con_hierarchical_labels.csv', index = False)"
   ]
  },
  {
   "cell_type": "code",
   "execution_count": 46,
   "metadata": {},
   "outputs": [
    {
     "data": {
      "text/plain": [
       "Text(0, 0.5, 'Attrition')"
      ]
     },
     "execution_count": 46,
     "metadata": {},
     "output_type": "execute_result"
    },
    {
     "data": {
      "image/png": "[encoded data removed]",
      "text/plain": [
       "<Figure size 432x288 with 1 Axes>"
      ]
     },
     "metadata": {},
     "output_type": "display_data"
    }
   ],
   "source": [
    "embarked_val_xt = pd.crosstab(df['Hierarchical_Labels'], df['Attrition'])\n",
    "embarked_val_xt.plot(kind='bar', stacked=True)\n",
    "plt.title('')\n",
    "plt.xlabel('numero di clusters')\n",
    "plt.ylabel('Attrition')"
   ]
  },
  {
   "cell_type": "code",
   "execution_count": 41,
   "metadata": {},
   "outputs": [
    {
     "data": {
      "text/plain": [
       "Text(0, 0.5, 'Survival Rate')"
      ]
     },
     "execution_count": 41,
     "metadata": {},
     "output_type": "execute_result"
    },
    {
     "data": {
      "image/png": "[encoded data removed]",
      "text/plain": [
       "<Figure size 432x288 with 1 Axes>"
      ]
     },
     "metadata": {},
     "output_type": "display_data"
    }
   ],
   "source": [
    "embarked_val_xt = pd.crosstab(df['Hierarchical_Labels'], df['Attrition'])\n",
    "#embarked_val_xt_pct = \\\n",
    " #   embarked_val_xt.div(embarked_val_xt.sum(1).astype(float), axis=0)\n",
    "embarked_val_xt.plot(kind='bar', stacked=True)\n",
    "plt.title('Survival Rate by Port of Embarkation')\n",
    "plt.xlabel('Port of Embarkation')\n",
    "plt.ylabel('Survival Rate')"
   ]
  },
  {
   "cell_type": "code",
   "execution_count": 12,
   "metadata": {},
   "outputs": [],
   "source": [
    "df_con_KMLab = pd.read_csv('con_kmeans_Labels.csv')"
   ]
  },
  {
   "cell_type": "code",
   "execution_count": 13,
   "metadata": {},
   "outputs": [
    {
     "name": "stdout",
     "output_type": "stream",
     "text": [
      "<class 'pandas.core.frame.DataFrame'>\n",
      "RangeIndex: 1013 entries, 0 to 1012\n",
      "Data columns (total 26 columns):\n",
      " #   Column                    Non-Null Count  Dtype \n",
      "---  ------                    --------------  ----- \n",
      " 0   Age                       1013 non-null   int64 \n",
      " 1   Attrition                 1013 non-null   int64 \n",
      " 2   BusinessTravel            1013 non-null   object\n",
      " 3   Department                1013 non-null   object\n",
      " 4   DistanceFromHome          1013 non-null   int64 \n",
      " 5   Education                 1013 non-null   int64 \n",
      " 6   EducationField            1013 non-null   object\n",
      " 7   EnvironmentSatisfaction   1013 non-null   int64 \n",
      " 8   Gender                    1013 non-null   int64 \n",
      " 9   JobInvolvement            1013 non-null   int64 \n",
      " 10  JobRole                   1013 non-null   object\n",
      " 11  JobSatisfaction           1013 non-null   int64 \n",
      " 12  MaritalStatus             1013 non-null   object\n",
      " 13  MonthlyIncome             1013 non-null   int64 \n",
      " 14  NumCompaniesWorked        1013 non-null   int64 \n",
      " 15  OverTime                  1013 non-null   int64 \n",
      " 16  PercentSalaryHike         1013 non-null   int64 \n",
      " 17  RelationshipSatisfaction  1013 non-null   int64 \n",
      " 18  StockOptionLevel          1013 non-null   int64 \n",
      " 19  TotalWorkingYears         1013 non-null   int64 \n",
      " 20  TrainingTimesLastYear     1013 non-null   int64 \n",
      " 21  WorkLifeBalance           1013 non-null   int64 \n",
      " 22  YearsAtCompany            1013 non-null   int64 \n",
      " 23  YearsWithCurrManager      1013 non-null   int64 \n",
      " 24  Stagnation                1013 non-null   int64 \n",
      " 25  KmeansCluster             1013 non-null   int64 \n",
      "dtypes: int64(21), object(5)\n",
      "memory usage: 205.9+ KB\n"
     ]
    }
   ],
   "source": [
    "df_con_KMLab.info()"
   ]
  },
  {
   "cell_type": "code",
   "execution_count": 31,
   "metadata": {},
   "outputs": [
    {
     "data": {
      "text/plain": [
       "Text(0, 0.5, 'Attrition')"
      ]
     },
     "execution_count": 31,
     "metadata": {},
     "output_type": "execute_result"
    },
    {
     "data": {
      "image/png": "[encoded data removed]",
      "text/plain": [
       "<Figure size 432x288 with 1 Axes>"
      ]
     },
     "metadata": {},
     "output_type": "display_data"
    }
   ],
   "source": [
    "embarked_val_xt = pd.crosstab(df_con_KMLab['KmeansCluster'], df_con_KMLab['Attrition'] )\n",
    "embarked_val_xt.plot(kind='bar', stacked=True)\n",
    "plt.title('')\n",
    "plt.xlabel('numero di clusters')\n",
    "plt.ylabel('Attrition')"
   ]
  },
  {
   "cell_type": "code",
   "execution_count": 66,
   "metadata": {},
   "outputs": [],
   "source": [
    "tab_KM = pd.crosstab(df_con_KMLab['KmeansCluster'],df_con_KMLab['Attrition'])"
   ]
  },
  {
   "cell_type": "code",
   "execution_count": 67,
   "metadata": {},
   "outputs": [],
   "source": [
    "tab_HI = pd.crosstab(df['Hierarchical_Labels'],df['Attrition'])"
   ]
  },
  {
   "cell_type": "code",
   "execution_count": 70,
   "metadata": {},
   "outputs": [],
   "source": [
    "tab_DB = pd.crosstab(df_con_DBLab['DBscanCluster'],df_con_DBLab['Attrition'])"
   ]
  },
  {
   "cell_type": "code",
   "execution_count": 15,
   "metadata": {},
   "outputs": [],
   "source": [
    "df_con_DBLab= pd.read_csv('con_col_dbscanCluster.csv')"
   ]
  },
  {
   "cell_type": "code",
   "execution_count": 58,
   "metadata": {},
   "outputs": [
    {
     "data": {
      "text/plain": [
       "Text(0, 0.5, 'Attrition')"
      ]
     },
     "execution_count": 58,
     "metadata": {},
     "output_type": "execute_result"
    },
    {
     "data": {
      "image/png": "[encoded data removed]",
      "text/plain": [
       "<Figure size 432x288 with 1 Axes>"
      ]
     },
     "metadata": {},
     "output_type": "display_data"
    }
   ],
   "source": [
    "embarked_val_xt = pd.crosstab(df_con_DBLab['DBscanCluster'], df_con_DBLab['Attrition'])\n",
    "embarked_val_xt.plot(kind='bar', stacked=True)\n",
    "plt.title('')\n",
    "plt.xlabel('numero di clusters')\n",
    "plt.ylabel('Attrition')"
   ]
  },
  {
   "cell_type": "code",
   "execution_count": null,
   "metadata": {},
   "outputs": [],
   "source": []
  },
  {
   "cell_type": "code",
   "execution_count": 71,
   "metadata": {},
   "outputs": [
    {
     "data": {
      "text/plain": [
       "<AxesSubplot:xlabel='KmeansCluster'>"
      ]
     },
     "execution_count": 71,
     "metadata": {},
     "output_type": "execute_result"
    },
    {
     "data": {
      "image/png": "[encoded data removed]",
      "text/plain": [
       "<Figure size 432x288 with 1 Axes>"
      ]
     },
     "metadata": {},
     "output_type": "display_data"
    }
   ],
   "source": [
    "#kmeans\n",
    "tab_KM.plot(kind='bar')"
   ]
  },
  {
   "cell_type": "code",
   "execution_count": 73,
   "metadata": {},
   "outputs": [
    {
     "data": {
      "text/plain": [
       "<AxesSubplot:xlabel='DBscanCluster'>"
      ]
     },
     "execution_count": 73,
     "metadata": {},
     "output_type": "execute_result"
    },
    {
     "data": {
      "image/png": "[encoded data removed]",
      "text/plain": [
       "<Figure size 432x288 with 1 Axes>"
      ]
     },
     "metadata": {},
     "output_type": "display_data"
    }
   ],
   "source": [
    "#dbscan\n",
    "tab_DB.plot(kind='bar')"
   ]
  },
  {
   "cell_type": "code",
   "execution_count": 72,
   "metadata": {},
   "outputs": [
    {
     "data": {
      "text/plain": [
       "<AxesSubplot:xlabel='Hierarchical_Labels'>"
      ]
     },
     "execution_count": 72,
     "metadata": {},
     "output_type": "execute_result"
    },
    {
     "data": {
      "image/png": "[encoded data removed]",
      "text/plain": [
       "<Figure size 432x288 with 1 Axes>"
      ]
     },
     "metadata": {},
     "output_type": "display_data"
    }
   ],
   "source": [
    "#hierarchical\n",
    "tab_HI.plot(kind='bar')"
   ]
  },
  {
   "cell_type": "code",
   "execution_count": null,
   "metadata": {},
   "outputs": [],
   "source": []
  },
  {
   "cell_type": "code",
   "execution_count": null,
   "metadata": {},
   "outputs": [],
   "source": []
  },
  {
   "cell_type": "code",
   "execution_count": null,
   "metadata": {},
   "outputs": [],
   "source": []
  },
  {
   "cell_type": "code",
   "execution_count": null,
   "metadata": {},
   "outputs": [],
   "source": []
  }
 ],
 "metadata": {
  "kernelspec": {
   "display_name": "Python 3",
   "language": "python",
   "name": "python3"
  },
  "language_info": {
   "codemirror_mode": {
    "name": "ipython",
    "version": 3
   },
   "file_extension": ".py",
   "mimetype": "text/x-python",
   "name": "python",
   "nbconvert_exporter": "python",
   "pygments_lexer": "ipython3",
   "version": "3.8.5"
  }
 },
 "nbformat": 4,
 "nbformat_minor": 4
}
