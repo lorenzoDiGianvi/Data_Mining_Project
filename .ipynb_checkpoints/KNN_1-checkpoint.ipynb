{
 "cells": [
  {
   "cell_type": "code",
   "execution_count": 3,
   "metadata": {},
   "outputs": [],
   "source": [
    "%matplotlib inline\n",
    "\n",
    "import numpy as np\n",
    "import pandas as pd\n",
    "import matplotlib.pyplot as plt\n",
    "\n",
    "from sklearn.metrics import confusion_matrix\n",
    "from sklearn.metrics import accuracy_score, f1_score, classification_report\n",
    "\n",
    "from sklearn.model_selection import train_test_split\n",
    "from sklearn.preprocessing import LabelEncoder\n",
    "\n",
    "from sklearn.model_selection import GridSearchCV\n",
    "from sklearn.model_selection import RandomizedSearchCV"
   ]
  },
  {
   "cell_type": "code",
   "execution_count": 2,
   "metadata": {},
   "outputs": [],
   "source": [
    "df = pd.read_csv('Train_Attrition_Cat.csv', sep=\";\")\n",
    "test_set = pd.read_csv('Test_pulito.csv')"
   ]
  },
  {
   "cell_type": "code",
   "execution_count": 10,
   "metadata": {},
   "outputs": [
    {
     "name": "stdout",
     "output_type": "stream",
     "text": [
      "<class 'pandas.core.frame.DataFrame'>\n",
      "RangeIndex: 1013 entries, 0 to 1012\n",
      "Data columns (total 25 columns):\n",
      " #   Column                    Non-Null Count  Dtype \n",
      "---  ------                    --------------  ----- \n",
      " 0   Age                       1013 non-null   int64 \n",
      " 1   Attrition                 1013 non-null   object\n",
      " 2   BusinessTravel            1013 non-null   object\n",
      " 3   Department                1013 non-null   object\n",
      " 4   DistanceFromHome          1013 non-null   int64 \n",
      " 5   Education                 1013 non-null   int64 \n",
      " 6   EducationField            1013 non-null   object\n",
      " 7   EnvironmentSatisfaction   1013 non-null   int64 \n",
      " 8   Gender                    1013 non-null   int64 \n",
      " 9   JobInvolvement            1013 non-null   int64 \n",
      " 10  JobRole                   1013 non-null   object\n",
      " 11  JobSatisfaction           1013 non-null   int64 \n",
      " 12  MaritalStatus             1013 non-null   object\n",
      " 13  MonthlyIncome             1013 non-null   int64 \n",
      " 14  NumCompaniesWorked        1013 non-null   int64 \n",
      " 15  OverTime                  1013 non-null   int64 \n",
      " 16  PercentSalaryHike         1013 non-null   int64 \n",
      " 17  RelationshipSatisfaction  1013 non-null   int64 \n",
      " 18  StockOptionLevel          1013 non-null   int64 \n",
      " 19  TotalWorkingYears         1013 non-null   int64 \n",
      " 20  TrainingTimesLastYear     1013 non-null   int64 \n",
      " 21  WorkLifeBalance           1013 non-null   int64 \n",
      " 22  YearsAtCompany            1013 non-null   int64 \n",
      " 23  YearsWithCurrManager      1013 non-null   int64 \n",
      " 24  Stagnation                1013 non-null   int64 \n",
      "dtypes: int64(19), object(6)\n",
      "memory usage: 198.0+ KB\n"
     ]
    }
   ],
   "source": [
    "df.info()"
   ]
  },
  {
   "cell_type": "code",
   "execution_count": 11,
   "metadata": {},
   "outputs": [],
   "source": [
    "label_encoders = dict()\n",
    "column2encode = ['BusinessTravel','Department','EducationField','MaritalStatus','JobRole']\n",
    "\n",
    "for col in column2encode:\n",
    "    le = LabelEncoder()\n",
    "    df[col] = le.fit_transform(df[col])\n",
    "    label_encoders[col] = le"
   ]
  },
  {
   "cell_type": "code",
   "execution_count": null,
   "metadata": {},
   "outputs": [],
   "source": []
  },
  {
   "cell_type": "code",
   "execution_count": 12,
   "metadata": {},
   "outputs": [],
   "source": [
    "attributes = [col for col in df.columns if col != 'Attrition']\n",
    "X = df[attributes].values\n",
    "#il target class\n",
    "y = df['Attrition']"
   ]
  },
  {
   "cell_type": "code",
   "execution_count": 8,
   "metadata": {},
   "outputs": [],
   "source": [
    "from sklearn.neighbors import KNeighborsClassifier\n",
    "from sklearn.model_selection import cross_val_score"
   ]
  },
  {
   "cell_type": "code",
   "execution_count": 31,
   "metadata": {},
   "outputs": [
    {
     "name": "stdout",
     "output_type": "stream",
     "text": [
      "Accuracy: 0.8302 (+/- 0.01)\n",
      "F1-score: 0.4536 (+/- 0.00)\n"
     ]
    }
   ],
   "source": [
    "clf = KNeighborsClassifier(n_neighbors=10)\n",
    "\n",
    "scores = cross_val_score(clf, X, y, cv=10)\n",
    "print('Accuracy: %0.4f (+/- %0.2f)' % (scores.mean(), scores.std() * 2))\n",
    "\n",
    "scores = cross_val_score(clf, X, y, cv=10, scoring='f1_macro')\n",
    "print('F1-score: %0.4f (+/- %0.2f)' % (scores.mean(), scores.std() * 2))"
   ]
  },
  {
   "cell_type": "code",
   "execution_count": null,
   "metadata": {},
   "outputs": [],
   "source": []
  },
  {
   "cell_type": "code",
   "execution_count": null,
   "metadata": {},
   "outputs": [],
   "source": []
  },
  {
   "cell_type": "code",
   "execution_count": null,
   "metadata": {},
   "outputs": [],
   "source": []
  },
  {
   "cell_type": "code",
   "execution_count": null,
   "metadata": {},
   "outputs": [],
   "source": []
  }
 ],
 "metadata": {
  "kernelspec": {
   "display_name": "Python 3",
   "language": "python",
   "name": "python3"
  },
  "language_info": {
   "codemirror_mode": {
    "name": "ipython",
    "version": 3
   },
   "file_extension": ".py",
   "mimetype": "text/x-python",
   "name": "python",
   "nbconvert_exporter": "python",
   "pygments_lexer": "ipython3",
   "version": "3.8.2"
  }
 },
 "nbformat": 4,
 "nbformat_minor": 4
}
