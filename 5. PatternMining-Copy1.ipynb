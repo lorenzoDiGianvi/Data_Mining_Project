{
 "cells": [
  {
   "cell_type": "code",
   "execution_count": 1,
   "metadata": {},
   "outputs": [],
   "source": [
    "%matplotlib inline\n",
    "\n",
    "import numpy as np\n",
    "import pandas as pd\n",
    "import matplotlib.pyplot as plt"
   ]
  },
  {
   "cell_type": "markdown",
   "metadata": {},
   "source": [
    "Carico i dati"
   ]
  },
  {
   "cell_type": "code",
   "execution_count": 2,
   "metadata": {
    "scrolled": false
   },
   "outputs": [
    {
     "data": {
      "text/html": [
       "<div>\n",
       "<style scoped>\n",
       "    .dataframe tbody tr th:only-of-type {\n",
       "        vertical-align: middle;\n",
       "    }\n",
       "\n",
       "    .dataframe tbody tr th {\n",
       "        vertical-align: top;\n",
       "    }\n",
       "\n",
       "    .dataframe thead th {\n",
       "        text-align: right;\n",
       "    }\n",
       "</style>\n",
       "<table border=\"1\" class=\"dataframe\">\n",
       "  <thead>\n",
       "    <tr style=\"text-align: right;\">\n",
       "      <th></th>\n",
       "      <th>Age</th>\n",
       "      <th>Attrition</th>\n",
       "      <th>BusinessTravel</th>\n",
       "      <th>Department</th>\n",
       "      <th>DistanceFromHome</th>\n",
       "      <th>Education</th>\n",
       "      <th>EducationField</th>\n",
       "      <th>EnvironmentSatisfaction</th>\n",
       "      <th>Gender</th>\n",
       "      <th>JobInvolvement</th>\n",
       "      <th>...</th>\n",
       "      <th>OverTime</th>\n",
       "      <th>PercentSalaryHike</th>\n",
       "      <th>RelationshipSatisfaction</th>\n",
       "      <th>StockOptionLevel</th>\n",
       "      <th>TotalWorkingYears</th>\n",
       "      <th>TrainingTimesLastYear</th>\n",
       "      <th>WorkLifeBalance</th>\n",
       "      <th>YearsAtCompany</th>\n",
       "      <th>YearsWithCurrManager</th>\n",
       "      <th>Stagnation</th>\n",
       "    </tr>\n",
       "  </thead>\n",
       "  <tbody>\n",
       "    <tr>\n",
       "      <th>0</th>\n",
       "      <td>37</td>\n",
       "      <td>0</td>\n",
       "      <td>Travel_Rarely</td>\n",
       "      <td>Research &amp; Development</td>\n",
       "      <td>4</td>\n",
       "      <td>3</td>\n",
       "      <td>Medical</td>\n",
       "      <td>4</td>\n",
       "      <td>1</td>\n",
       "      <td>3</td>\n",
       "      <td>...</td>\n",
       "      <td>0</td>\n",
       "      <td>12</td>\n",
       "      <td>4</td>\n",
       "      <td>0</td>\n",
       "      <td>10</td>\n",
       "      <td>3</td>\n",
       "      <td>2</td>\n",
       "      <td>5</td>\n",
       "      <td>3</td>\n",
       "      <td>4</td>\n",
       "    </tr>\n",
       "    <tr>\n",
       "      <th>1</th>\n",
       "      <td>36</td>\n",
       "      <td>0</td>\n",
       "      <td>Travel_Rarely</td>\n",
       "      <td>Research &amp; Development</td>\n",
       "      <td>5</td>\n",
       "      <td>3</td>\n",
       "      <td>Technical Degree</td>\n",
       "      <td>3</td>\n",
       "      <td>0</td>\n",
       "      <td>2</td>\n",
       "      <td>...</td>\n",
       "      <td>1</td>\n",
       "      <td>13</td>\n",
       "      <td>4</td>\n",
       "      <td>1</td>\n",
       "      <td>18</td>\n",
       "      <td>2</td>\n",
       "      <td>3</td>\n",
       "      <td>4</td>\n",
       "      <td>4</td>\n",
       "      <td>0</td>\n",
       "    </tr>\n",
       "    <tr>\n",
       "      <th>2</th>\n",
       "      <td>36</td>\n",
       "      <td>1</td>\n",
       "      <td>Travel_Rarely</td>\n",
       "      <td>Research &amp; Development</td>\n",
       "      <td>11</td>\n",
       "      <td>2</td>\n",
       "      <td>Medical</td>\n",
       "      <td>1</td>\n",
       "      <td>0</td>\n",
       "      <td>1</td>\n",
       "      <td>...</td>\n",
       "      <td>0</td>\n",
       "      <td>15</td>\n",
       "      <td>1</td>\n",
       "      <td>0</td>\n",
       "      <td>15</td>\n",
       "      <td>2</td>\n",
       "      <td>1</td>\n",
       "      <td>6</td>\n",
       "      <td>0</td>\n",
       "      <td>0</td>\n",
       "    </tr>\n",
       "    <tr>\n",
       "      <th>3</th>\n",
       "      <td>24</td>\n",
       "      <td>0</td>\n",
       "      <td>Travel_Rarely</td>\n",
       "      <td>Research &amp; Development</td>\n",
       "      <td>11</td>\n",
       "      <td>2</td>\n",
       "      <td>Medical</td>\n",
       "      <td>3</td>\n",
       "      <td>0</td>\n",
       "      <td>3</td>\n",
       "      <td>...</td>\n",
       "      <td>1</td>\n",
       "      <td>12</td>\n",
       "      <td>4</td>\n",
       "      <td>0</td>\n",
       "      <td>6</td>\n",
       "      <td>3</td>\n",
       "      <td>2</td>\n",
       "      <td>6</td>\n",
       "      <td>1</td>\n",
       "      <td>0</td>\n",
       "    </tr>\n",
       "    <tr>\n",
       "      <th>4</th>\n",
       "      <td>58</td>\n",
       "      <td>0</td>\n",
       "      <td>Travel_Rarely</td>\n",
       "      <td>Research &amp; Development</td>\n",
       "      <td>1</td>\n",
       "      <td>4</td>\n",
       "      <td>Medical</td>\n",
       "      <td>1</td>\n",
       "      <td>1</td>\n",
       "      <td>2</td>\n",
       "      <td>...</td>\n",
       "      <td>0</td>\n",
       "      <td>20</td>\n",
       "      <td>3</td>\n",
       "      <td>0</td>\n",
       "      <td>23</td>\n",
       "      <td>3</td>\n",
       "      <td>2</td>\n",
       "      <td>6</td>\n",
       "      <td>6</td>\n",
       "      <td>36</td>\n",
       "    </tr>\n",
       "  </tbody>\n",
       "</table>\n",
       "<p>5 rows × 25 columns</p>\n",
       "</div>"
      ],
      "text/plain": [
       "   Age  Attrition BusinessTravel              Department  DistanceFromHome  \\\n",
       "0   37          0  Travel_Rarely  Research & Development                 4   \n",
       "1   36          0  Travel_Rarely  Research & Development                 5   \n",
       "2   36          1  Travel_Rarely  Research & Development                11   \n",
       "3   24          0  Travel_Rarely  Research & Development                11   \n",
       "4   58          0  Travel_Rarely  Research & Development                 1   \n",
       "\n",
       "   Education    EducationField  EnvironmentSatisfaction  Gender  \\\n",
       "0          3           Medical                        4       1   \n",
       "1          3  Technical Degree                        3       0   \n",
       "2          2           Medical                        1       0   \n",
       "3          2           Medical                        3       0   \n",
       "4          4           Medical                        1       1   \n",
       "\n",
       "   JobInvolvement  ... OverTime  PercentSalaryHike RelationshipSatisfaction  \\\n",
       "0               3  ...        0                 12                        4   \n",
       "1               2  ...        1                 13                        4   \n",
       "2               1  ...        0                 15                        1   \n",
       "3               3  ...        1                 12                        4   \n",
       "4               2  ...        0                 20                        3   \n",
       "\n",
       "   StockOptionLevel  TotalWorkingYears  TrainingTimesLastYear  \\\n",
       "0                 0                 10                      3   \n",
       "1                 1                 18                      2   \n",
       "2                 0                 15                      2   \n",
       "3                 0                  6                      3   \n",
       "4                 0                 23                      3   \n",
       "\n",
       "   WorkLifeBalance  YearsAtCompany  YearsWithCurrManager  Stagnation  \n",
       "0                2               5                     3           4  \n",
       "1                3               4                     4           0  \n",
       "2                1               6                     0           0  \n",
       "3                2               6                     1           0  \n",
       "4                2               6                     6          36  \n",
       "\n",
       "[5 rows x 25 columns]"
      ]
     },
     "execution_count": 2,
     "metadata": {},
     "output_type": "execute_result"
    }
   ],
   "source": [
    "df = pd.read_csv(\"Train_newColumns.csv\", \n",
    "                 skipinitialspace=True, sep=',', nrows=2000)\n",
    "df.head()"
   ]
  },
  {
   "cell_type": "code",
   "execution_count": 3,
   "metadata": {},
   "outputs": [
    {
     "name": "stdout",
     "output_type": "stream",
     "text": [
      "<class 'pandas.core.frame.DataFrame'>\n",
      "RangeIndex: 1013 entries, 0 to 1012\n",
      "Data columns (total 25 columns):\n",
      " #   Column                    Non-Null Count  Dtype \n",
      "---  ------                    --------------  ----- \n",
      " 0   Age                       1013 non-null   int64 \n",
      " 1   Attrition                 1013 non-null   int64 \n",
      " 2   BusinessTravel            1013 non-null   object\n",
      " 3   Department                1013 non-null   object\n",
      " 4   DistanceFromHome          1013 non-null   int64 \n",
      " 5   Education                 1013 non-null   int64 \n",
      " 6   EducationField            1013 non-null   object\n",
      " 7   EnvironmentSatisfaction   1013 non-null   int64 \n",
      " 8   Gender                    1013 non-null   int64 \n",
      " 9   JobInvolvement            1013 non-null   int64 \n",
      " 10  JobRole                   1013 non-null   object\n",
      " 11  JobSatisfaction           1013 non-null   int64 \n",
      " 12  MaritalStatus             1013 non-null   object\n",
      " 13  MonthlyIncome             1013 non-null   int64 \n",
      " 14  NumCompaniesWorked        1013 non-null   int64 \n",
      " 15  OverTime                  1013 non-null   int64 \n",
      " 16  PercentSalaryHike         1013 non-null   int64 \n",
      " 17  RelationshipSatisfaction  1013 non-null   int64 \n",
      " 18  StockOptionLevel          1013 non-null   int64 \n",
      " 19  TotalWorkingYears         1013 non-null   int64 \n",
      " 20  TrainingTimesLastYear     1013 non-null   int64 \n",
      " 21  WorkLifeBalance           1013 non-null   int64 \n",
      " 22  YearsAtCompany            1013 non-null   int64 \n",
      " 23  YearsWithCurrManager      1013 non-null   int64 \n",
      " 24  Stagnation                1013 non-null   int64 \n",
      "dtypes: int64(20), object(5)\n",
      "memory usage: 198.0+ KB\n"
     ]
    }
   ],
   "source": [
    "df.info()"
   ]
  },
  {
   "cell_type": "markdown",
   "metadata": {},
   "source": [
    "Ragioniamo sugli attributi"
   ]
  },
  {
   "cell_type": "code",
   "execution_count": 4,
   "metadata": {},
   "outputs": [
    {
     "data": {
      "text/plain": [
       "{18,\n",
       " 19,\n",
       " 20,\n",
       " 21,\n",
       " 22,\n",
       " 23,\n",
       " 24,\n",
       " 25,\n",
       " 26,\n",
       " 27,\n",
       " 28,\n",
       " 29,\n",
       " 30,\n",
       " 31,\n",
       " 32,\n",
       " 33,\n",
       " 34,\n",
       " 35,\n",
       " 36,\n",
       " 37,\n",
       " 38,\n",
       " 39,\n",
       " 40,\n",
       " 41,\n",
       " 42,\n",
       " 43,\n",
       " 44,\n",
       " 45,\n",
       " 46,\n",
       " 47,\n",
       " 48,\n",
       " 49,\n",
       " 50,\n",
       " 51,\n",
       " 52,\n",
       " 53,\n",
       " 54,\n",
       " 55,\n",
       " 56,\n",
       " 57,\n",
       " 58}"
      ]
     },
     "execution_count": 4,
     "metadata": {},
     "output_type": "execute_result"
    }
   ],
   "source": [
    "set(df['Age'])"
   ]
  },
  {
   "cell_type": "code",
   "execution_count": 5,
   "metadata": {
    "scrolled": true
   },
   "outputs": [
    {
     "data": {
      "image/png": "[encoded data removed]",
      "text/plain": [
       "<Figure size 432x288 with 1 Axes>"
      ]
     },
     "metadata": {
      "needs_background": "light"
     },
     "output_type": "display_data"
    }
   ],
   "source": [
    "df['Stagnation'].plot(kind='hist', bins=[0, 20, 50, 130])\n",
    "plt.show()"
   ]
  },
  {
   "cell_type": "markdown",
   "metadata": {},
   "source": [
    "# Pre-processing"
   ]
  },
  {
   "cell_type": "code",
   "execution_count": 6,
   "metadata": {},
   "outputs": [
    {
     "data": {
      "text/plain": [
       "0        [28.0, 38.0)_Age\n",
       "1        [28.0, 38.0)_Age\n",
       "2        [28.0, 38.0)_Age\n",
       "3        [18.0, 28.0)_Age\n",
       "4       [48.0, 58.04)_Age\n",
       "              ...        \n",
       "1008     [28.0, 38.0)_Age\n",
       "1009     [28.0, 38.0)_Age\n",
       "1010     [38.0, 48.0)_Age\n",
       "1011     [28.0, 38.0)_Age\n",
       "1012     [38.0, 48.0)_Age\n",
       "Name: AgeBin, Length: 1013, dtype: object"
      ]
     },
     "execution_count": 6,
     "metadata": {},
     "output_type": "execute_result"
    }
   ],
   "source": [
    "df['AgeBin'] = pd.cut(df['Age'].astype(int), 4, right=False)\n",
    "df['AgeBin'] = df['AgeBin'].astype(str) + '_Age'\n",
    "\n",
    "df['AgeBin']"
   ]
  },
  {
   "cell_type": "code",
   "execution_count": 7,
   "metadata": {
    "scrolled": false
   },
   "outputs": [
    {
     "data": {
      "text/plain": [
       "0        No_Attr\n",
       "1        No_Attr\n",
       "2       Yes_Attr\n",
       "3        No_Attr\n",
       "4        No_Attr\n",
       "          ...   \n",
       "1008     No_Attr\n",
       "1009    Yes_Attr\n",
       "1010    Yes_Attr\n",
       "1011    Yes_Attr\n",
       "1012    Yes_Attr\n",
       "Name: AttritionCat, Length: 1013, dtype: object"
      ]
     },
     "execution_count": 7,
     "metadata": {},
     "output_type": "execute_result"
    }
   ],
   "source": [
    "i = 0\n",
    "df['AttritionCat'] = df['Attrition'].astype(str)\n",
    "for record in df['AttritionCat']:\n",
    "    if df.at[i, 'Attrition'] == 0:\n",
    "        df.at[i, 'AttritionCat'] = 'No_Attr'\n",
    "    elif df.at[i,'Attrition'] == 1:\n",
    "        df.at[i,'AttritionCat'] = 'Yes_Attr'\n",
    "    i += 1\n",
    "    \n",
    "df['AttritionCat']"
   ]
  },
  {
   "cell_type": "code",
   "execution_count": 8,
   "metadata": {
    "scrolled": true
   },
   "outputs": [
    {
     "data": {
      "text/plain": [
       "0         near_Dist\n",
       "1         near_Dist\n",
       "2       medium_Dist\n",
       "3       medium_Dist\n",
       "4         near_Dist\n",
       "           ...     \n",
       "1008      near_Dist\n",
       "1009      near_Dist\n",
       "1010      near_Dist\n",
       "1011      near_Dist\n",
       "1012    medium_Dist\n",
       "Name: DistanceFromHomeBin, Length: 1013, dtype: object"
      ]
     },
     "execution_count": 8,
     "metadata": {},
     "output_type": "execute_result"
    }
   ],
   "source": [
    "i = 0\n",
    "df['DistanceFromHomeBin'] = df['DistanceFromHome'].astype(str)\n",
    "for record in df['DistanceFromHomeBin']:\n",
    "    if df.at[i, 'DistanceFromHome'] < 10:\n",
    "        df.at[i, 'DistanceFromHomeBin'] = 'near_Dist'\n",
    "    elif df.at[i,'DistanceFromHome'] < 20 and df.at[i,'DistanceFromHome'] >= 10 :\n",
    "        df.at[i,'DistanceFromHomeBin'] = 'medium_Dist'\n",
    "    elif df.at[i,'DistanceFromHome'] >= 20:\n",
    "        df.at[i,'DistanceFromHomeBin'] = 'far_Dist'\n",
    "    i += 1\n",
    "    \n",
    "df['DistanceFromHomeBin']"
   ]
  },
  {
   "cell_type": "code",
   "execution_count": 9,
   "metadata": {
    "scrolled": true
   },
   "outputs": [
    {
     "data": {
      "text/plain": [
       "0            Bachelor\n",
       "1            Bachelor\n",
       "2             College\n",
       "3             College\n",
       "4              Master\n",
       "            ...      \n",
       "1008    Below College\n",
       "1009         Bachelor\n",
       "1010         Bachelor\n",
       "1011    Below College\n",
       "1012         Bachelor\n",
       "Name: EducationCat, Length: 1013, dtype: object"
      ]
     },
     "execution_count": 9,
     "metadata": {},
     "output_type": "execute_result"
    }
   ],
   "source": [
    "df['EducationCat'] = df['Education'].map(\n",
    "    {1: 'Below College', 2: 'College', 3: 'Bachelor', 4:'Master', 5:'Doctor'}).astype(str)\n",
    "\n",
    "df['EducationCat']"
   ]
  },
  {
   "cell_type": "code",
   "execution_count": 10,
   "metadata": {
    "scrolled": false
   },
   "outputs": [
    {
     "data": {
      "text/plain": [
       "0       Very High_Sat\n",
       "1            High_Sat\n",
       "2             Low_Sat\n",
       "3            High_Sat\n",
       "4             Low_Sat\n",
       "            ...      \n",
       "1008         High_Sat\n",
       "1009    Very High_Sat\n",
       "1010         High_Sat\n",
       "1011       Medium_Sat\n",
       "1012         High_Sat\n",
       "Name: EnvironmentSatisfactionCat, Length: 1013, dtype: object"
      ]
     },
     "execution_count": 10,
     "metadata": {},
     "output_type": "execute_result"
    }
   ],
   "source": [
    "df['EnvironmentSatisfactionCat'] = df['EnvironmentSatisfaction'].map(\n",
    "    {1: 'Low_Sat', 2: 'Medium_Sat', 3: 'High_Sat', 4:'Very High_Sat'}).astype(str)\n",
    "\n",
    "df['EnvironmentSatisfactionCat']"
   ]
  },
  {
   "cell_type": "code",
   "execution_count": 11,
   "metadata": {
    "scrolled": true
   },
   "outputs": [
    {
     "data": {
      "text/plain": [
       "0       Female\n",
       "1         Male\n",
       "2         Male\n",
       "3         Male\n",
       "4       Female\n",
       "         ...  \n",
       "1008      Male\n",
       "1009      Male\n",
       "1010      Male\n",
       "1011    Female\n",
       "1012    Female\n",
       "Name: GenderCat, Length: 1013, dtype: object"
      ]
     },
     "execution_count": 11,
     "metadata": {},
     "output_type": "execute_result"
    }
   ],
   "source": [
    "df['GenderCat'] = df['Gender'].map(\n",
    "    {0: 'Male', 1: 'Female'}).astype(str)\n",
    "\n",
    "df['GenderCat']"
   ]
  },
  {
   "cell_type": "code",
   "execution_count": 12,
   "metadata": {
    "scrolled": true
   },
   "outputs": [
    {
     "data": {
      "text/plain": [
       "0            High_JobInv\n",
       "1          Medium_JobInv\n",
       "2             Low_JobInv\n",
       "3            High_JobInv\n",
       "4          Medium_JobInv\n",
       "              ...       \n",
       "1008         High_JobInv\n",
       "1009         High_JobInv\n",
       "1010       Medium_JobInv\n",
       "1011         High_JobInv\n",
       "1012    Very High_JobInv\n",
       "Name: JobInvolvementCat, Length: 1013, dtype: object"
      ]
     },
     "execution_count": 12,
     "metadata": {},
     "output_type": "execute_result"
    }
   ],
   "source": [
    "df['JobInvolvementCat'] = df['JobInvolvement'].map(\n",
    "    {1: 'Low_JobInv', 2: 'Medium_JobInv', 3: 'High_JobInv', 4:'Very High_JobInv'}).astype(str)\n",
    "\n",
    "df['JobInvolvementCat']"
   ]
  },
  {
   "cell_type": "code",
   "execution_count": 13,
   "metadata": {
    "scrolled": true
   },
   "outputs": [
    {
     "data": {
      "text/plain": [
       "0          Medium_JobSat\n",
       "1          Medium_JobSat\n",
       "2          Medium_JobSat\n",
       "3             Low_JobSat\n",
       "4             Low_JobSat\n",
       "              ...       \n",
       "1008       Medium_JobSat\n",
       "1009         High_JobSat\n",
       "1010    Very High_JobSat\n",
       "1011       Medium_JobSat\n",
       "1012       Medium_JobSat\n",
       "Name: JobSatisfactionCat, Length: 1013, dtype: object"
      ]
     },
     "execution_count": 13,
     "metadata": {},
     "output_type": "execute_result"
    }
   ],
   "source": [
    "df['JobSatisfactionCat'] = df['JobSatisfaction'].map(\n",
    "    {1: 'Low_JobSat', 2: 'Medium_JobSat', 3: 'High_JobSat', 4:'Very High_JobSat'}).astype(str)\n",
    "\n",
    "df['JobSatisfactionCat']"
   ]
  },
  {
   "cell_type": "code",
   "execution_count": 14,
   "metadata": {},
   "outputs": [
    {
     "data": {
      "image/png": "[encoded data removed]",
      "text/plain": [
       "<Figure size 432x288 with 1 Axes>"
      ]
     },
     "metadata": {
      "needs_background": "light"
     },
     "output_type": "display_data"
    }
   ],
   "source": [
    "df['MonthlyIncome'].plot(kind='hist')\n",
    "plt.show()"
   ]
  },
  {
   "cell_type": "code",
   "execution_count": 15,
   "metadata": {},
   "outputs": [
    {
     "data": {
      "text/plain": [
       "0          low_Inc\n",
       "1          low_Inc\n",
       "2          low_Inc\n",
       "3          low_Inc\n",
       "4       medium_Inc\n",
       "           ...    \n",
       "1008       low_Inc\n",
       "1009       low_Inc\n",
       "1010       low_Inc\n",
       "1011       low_Inc\n",
       "1012       low_Inc\n",
       "Name: MonthlyIncomeBin, Length: 1013, dtype: object"
      ]
     },
     "execution_count": 15,
     "metadata": {},
     "output_type": "execute_result"
    }
   ],
   "source": [
    "i = 0\n",
    "df['MonthlyIncomeBin'] = df['MonthlyIncome'].astype(str)\n",
    "for record in df['MonthlyIncomeBin']:\n",
    "    if df.at[i, 'MonthlyIncome'] < 10000:\n",
    "        df.at[i, 'MonthlyIncomeBin'] = 'low_Inc'\n",
    "    elif df.at[i,'MonthlyIncome'] < 30000 and df.at[i,'MonthlyIncome'] >= 10000 :\n",
    "        df.at[i,'MonthlyIncomeBin'] = 'medium_Inc'\n",
    "    elif df.at[i,'MonthlyIncome'] >= 30000:\n",
    "        df.at[i,'MonthlyIncomeBin'] = 'high_Inc'\n",
    "    i += 1\n",
    "    \n",
    "df['MonthlyIncomeBin']"
   ]
  },
  {
   "cell_type": "code",
   "execution_count": 16,
   "metadata": {
    "scrolled": true
   },
   "outputs": [
    {
     "data": {
      "text/plain": [
       "0       many_Comp\n",
       "1       some_Comp\n",
       "2       many_Comp\n",
       "3       some_Comp\n",
       "4       some_Comp\n",
       "          ...    \n",
       "1008    none_Comp\n",
       "1009    none_Comp\n",
       "1010    none_Comp\n",
       "1011    some_Comp\n",
       "1012    none_Comp\n",
       "Name: NumCompaniesWorkedBin, Length: 1013, dtype: object"
      ]
     },
     "execution_count": 16,
     "metadata": {},
     "output_type": "execute_result"
    }
   ],
   "source": [
    "i = 0\n",
    "df['NumCompaniesWorkedBin'] = df['NumCompaniesWorked'].astype(str)\n",
    "for record in df['NumCompaniesWorkedBin']:\n",
    "    if df.at[i, 'NumCompaniesWorked'] == 0:\n",
    "        df.at[i, 'NumCompaniesWorkedBin'] = 'none_Comp'\n",
    "    elif df.at[i,'NumCompaniesWorked'] <= 4 and df.at[i,'NumCompaniesWorked'] >= 1:\n",
    "        df.at[i,'NumCompaniesWorkedBin'] = 'some_Comp'\n",
    "    elif df.at[i,'NumCompaniesWorked'] >= 5:\n",
    "        df.at[i,'NumCompaniesWorkedBin'] = 'many_Comp'\n",
    "    i += 1\n",
    "    \n",
    "df['NumCompaniesWorkedBin']"
   ]
  },
  {
   "cell_type": "code",
   "execution_count": 17,
   "metadata": {
    "scrolled": false
   },
   "outputs": [
    {
     "data": {
      "text/plain": [
       "0        No_OT\n",
       "1       Yes_OT\n",
       "2        No_OT\n",
       "3       Yes_OT\n",
       "4        No_OT\n",
       "         ...  \n",
       "1008     No_OT\n",
       "1009    Yes_OT\n",
       "1010     No_OT\n",
       "1011     No_OT\n",
       "1012     No_OT\n",
       "Name: OverTimeCat, Length: 1013, dtype: object"
      ]
     },
     "execution_count": 17,
     "metadata": {},
     "output_type": "execute_result"
    }
   ],
   "source": [
    "df['OverTimeCat'] = df['OverTime'].map(\n",
    "    {0: 'No_OT', 1: 'Yes_OT'}).astype(str)\n",
    "\n",
    "df['OverTimeCat']"
   ]
  },
  {
   "cell_type": "code",
   "execution_count": 18,
   "metadata": {},
   "outputs": [
    {
     "data": {
      "text/plain": [
       "{11, 12, 13, 14, 15, 16, 17, 18, 19, 20, 21, 22, 23, 24, 25}"
      ]
     },
     "execution_count": 18,
     "metadata": {},
     "output_type": "execute_result"
    }
   ],
   "source": [
    "set(df['PercentSalaryHike'])"
   ]
  },
  {
   "cell_type": "code",
   "execution_count": 19,
   "metadata": {
    "scrolled": true
   },
   "outputs": [
    {
     "data": {
      "text/plain": [
       "14.0"
      ]
     },
     "execution_count": 19,
     "metadata": {},
     "output_type": "execute_result"
    }
   ],
   "source": [
    "df['PercentSalaryHike'].median()"
   ]
  },
  {
   "cell_type": "code",
   "execution_count": 20,
   "metadata": {
    "scrolled": true
   },
   "outputs": [
    {
     "data": {
      "text/plain": [
       "0        low_PSH\n",
       "1        low_PSH\n",
       "2       high_PSH\n",
       "3        low_PSH\n",
       "4       high_PSH\n",
       "          ...   \n",
       "1008    high_PSH\n",
       "1009     low_PSH\n",
       "1010     low_PSH\n",
       "1011     low_PSH\n",
       "1012    high_PSH\n",
       "Name: PercentSalaryHikeBin, Length: 1013, dtype: object"
      ]
     },
     "execution_count": 20,
     "metadata": {},
     "output_type": "execute_result"
    }
   ],
   "source": [
    "i = 0\n",
    "df['PercentSalaryHikeBin'] = df['PercentSalaryHike'].astype(str)\n",
    "for record in df['PercentSalaryHikeBin']:\n",
    "    if df.at[i, 'PercentSalaryHike'] <= 14:\n",
    "        df.at[i, 'PercentSalaryHikeBin'] = 'low_PSH'\n",
    "    elif df.at[i,'PercentSalaryHike'] >= 15:\n",
    "        df.at[i,'PercentSalaryHikeBin'] = 'high_PSH'\n",
    "    i += 1\n",
    "    \n",
    "df['PercentSalaryHikeBin']"
   ]
  },
  {
   "cell_type": "code",
   "execution_count": 21,
   "metadata": {
    "scrolled": true
   },
   "outputs": [
    {
     "data": {
      "text/plain": [
       "0       Very High_RelSat\n",
       "1       Very High_RelSat\n",
       "2             Low_RelSat\n",
       "3       Very High_RelSat\n",
       "4            High_RelSat\n",
       "              ...       \n",
       "1008          Low_RelSat\n",
       "1009       Medium_RelSat\n",
       "1010         High_RelSat\n",
       "1011       Medium_RelSat\n",
       "1012    Very High_RelSat\n",
       "Name: RelationshipSatisfactionCat, Length: 1013, dtype: object"
      ]
     },
     "execution_count": 21,
     "metadata": {},
     "output_type": "execute_result"
    }
   ],
   "source": [
    "df['RelationshipSatisfactionCat'] = df['RelationshipSatisfaction'].map(\n",
    "    {1: 'Low_RelSat', 2: 'Medium_RelSat', 3: 'High_RelSat', 4:'Very High_RelSat'}).astype(str)\n",
    "\n",
    "df['RelationshipSatisfactionCat']"
   ]
  },
  {
   "cell_type": "code",
   "execution_count": 22,
   "metadata": {
    "scrolled": true
   },
   "outputs": [
    {
     "data": {
      "text/plain": [
       "{0, 1, 2, 3}"
      ]
     },
     "execution_count": 22,
     "metadata": {},
     "output_type": "execute_result"
    }
   ],
   "source": [
    "set(df['StockOptionLevel'])"
   ]
  },
  {
   "cell_type": "code",
   "execution_count": 23,
   "metadata": {
    "scrolled": false
   },
   "outputs": [
    {
     "data": {
      "text/plain": [
       "0             0_StockLevel\n",
       "1       1_StockLevelRelSat\n",
       "2             0_StockLevel\n",
       "3             0_StockLevel\n",
       "4             0_StockLevel\n",
       "               ...        \n",
       "1008    1_StockLevelRelSat\n",
       "1009          0_StockLevel\n",
       "1010          0_StockLevel\n",
       "1011          0_StockLevel\n",
       "1012          0_StockLevel\n",
       "Name: StockOptionLevelCat, Length: 1013, dtype: object"
      ]
     },
     "execution_count": 23,
     "metadata": {},
     "output_type": "execute_result"
    }
   ],
   "source": [
    "df['StockOptionLevelCat'] = df['StockOptionLevel'].map(\n",
    "    {0: '0_StockLevel', 1: '1_StockLevelRelSat', 2: '2_StockLevelRelSat', 3:'3_StockLevelRelSat'}).astype(str)\n",
    "\n",
    "df['StockOptionLevelCat']"
   ]
  },
  {
   "cell_type": "code",
   "execution_count": 24,
   "metadata": {
    "scrolled": true
   },
   "outputs": [
    {
     "data": {
      "text/plain": [
       "0         10-20 years_TWY\n",
       "1         10-20 years_TWY\n",
       "2         10-20 years_TWY\n",
       "3       less 10 years_TWY\n",
       "4       more 20 years_TWY\n",
       "              ...        \n",
       "1008    less 10 years_TWY\n",
       "1009    less 10 years_TWY\n",
       "1010    less 10 years_TWY\n",
       "1011    less 10 years_TWY\n",
       "1012    less 10 years_TWY\n",
       "Name: TotalWorkingYearsBin, Length: 1013, dtype: object"
      ]
     },
     "execution_count": 24,
     "metadata": {},
     "output_type": "execute_result"
    }
   ],
   "source": [
    "i = 0\n",
    "df['TotalWorkingYearsBin'] = df['TotalWorkingYears'].astype(str)\n",
    "for record in df['TotalWorkingYearsBin']:\n",
    "    if df.at[i, 'TotalWorkingYears'] < 10:\n",
    "        df.at[i, 'TotalWorkingYearsBin'] = 'less 10 years_TWY'\n",
    "    elif df.at[i,'TotalWorkingYears'] >= 10 and df.at[i,'TotalWorkingYears'] <20:\n",
    "        df.at[i,'TotalWorkingYearsBin'] = '10-20 years_TWY'\n",
    "    elif df.at[i,'TotalWorkingYears'] >= 20:\n",
    "        df.at[i,'TotalWorkingYearsBin'] = 'more 20 years_TWY'\n",
    "    i += 1\n",
    "    \n",
    "df['TotalWorkingYearsBin']"
   ]
  },
  {
   "cell_type": "code",
   "execution_count": 25,
   "metadata": {},
   "outputs": [
    {
     "data": {
      "text/plain": [
       "{0, 1, 2, 3, 4, 5, 6}"
      ]
     },
     "execution_count": 25,
     "metadata": {},
     "output_type": "execute_result"
    }
   ],
   "source": [
    "set(df['TrainingTimesLastYear'])"
   ]
  },
  {
   "cell_type": "code",
   "execution_count": 26,
   "metadata": {
    "scrolled": true
   },
   "outputs": [
    {
     "data": {
      "text/plain": [
       "0       yes_TrainTimesLY\n",
       "1       yes_TrainTimesLY\n",
       "2       yes_TrainTimesLY\n",
       "3       yes_TrainTimesLY\n",
       "4       yes_TrainTimesLY\n",
       "              ...       \n",
       "1008    yes_TrainTimesLY\n",
       "1009    yes_TrainTimesLY\n",
       "1010    yes_TrainTimesLY\n",
       "1011    yes_TrainTimesLY\n",
       "1012    yes_TrainTimesLY\n",
       "Name: TrainingTimesLastYearBin, Length: 1013, dtype: object"
      ]
     },
     "execution_count": 26,
     "metadata": {},
     "output_type": "execute_result"
    }
   ],
   "source": [
    "i = 0\n",
    "df['TrainingTimesLastYearBin'] = df['TrainingTimesLastYear'].astype(str)\n",
    "for record in df['TrainingTimesLastYearBin']:\n",
    "    if df.at[i, 'TrainingTimesLastYear'] == 0:\n",
    "        df.at[i, 'TrainingTimesLastYearBin'] = 'no_TrainTimesLY'\n",
    "    elif df.at[i,'TrainingTimesLastYear'] > 0 and df.at[i,'TrainingTimesLastYear'] < 7:\n",
    "        df.at[i,'TrainingTimesLastYearBin'] = 'yes_TrainTimesLY'\n",
    "    i += 1\n",
    "    \n",
    "df['TrainingTimesLastYearBin']"
   ]
  },
  {
   "cell_type": "code",
   "execution_count": 27,
   "metadata": {
    "scrolled": true
   },
   "outputs": [
    {
     "data": {
      "text/plain": [
       "{1, 2, 3, 4}"
      ]
     },
     "execution_count": 27,
     "metadata": {},
     "output_type": "execute_result"
    }
   ],
   "source": [
    "set(df['WorkLifeBalance'])"
   ]
  },
  {
   "cell_type": "code",
   "execution_count": 28,
   "metadata": {
    "scrolled": true
   },
   "outputs": [
    {
     "data": {
      "text/plain": [
       "0         Good_WorkLifeBal\n",
       "1       Better_WorkLifeBal\n",
       "2          Bad_WorkLifeBal\n",
       "3         Good_WorkLifeBal\n",
       "4         Good_WorkLifeBal\n",
       "               ...        \n",
       "1008    Better_WorkLifeBal\n",
       "1009    Better_WorkLifeBal\n",
       "1010      Best_WorkLifeBal\n",
       "1011    Better_WorkLifeBal\n",
       "1012    Better_WorkLifeBal\n",
       "Name: WorkLifeBalanceCat, Length: 1013, dtype: object"
      ]
     },
     "execution_count": 28,
     "metadata": {},
     "output_type": "execute_result"
    }
   ],
   "source": [
    "df['WorkLifeBalanceCat'] = df['WorkLifeBalance'].map(\n",
    "    {1: 'Bad_WorkLifeBal', 2: 'Good_WorkLifeBal', 3: 'Better_WorkLifeBal', 4:'Best_WorkLifeBal'}).astype(str)\n",
    "\n",
    "df['WorkLifeBalanceCat']"
   ]
  },
  {
   "cell_type": "code",
   "execution_count": 29,
   "metadata": {},
   "outputs": [
    {
     "data": {
      "text/plain": [
       "0       less 10 years_YAT\n",
       "1       less 10 years_YAT\n",
       "2       less 10 years_YAT\n",
       "3       less 10 years_YAT\n",
       "4       less 10 years_YAT\n",
       "              ...        \n",
       "1008    less 10 years_YAT\n",
       "1009    less 10 years_YAT\n",
       "1010    less 10 years_YAT\n",
       "1011    less 10 years_YAT\n",
       "1012    less 10 years_YAT\n",
       "Name: YearsAtCompanyBin, Length: 1013, dtype: object"
      ]
     },
     "execution_count": 29,
     "metadata": {},
     "output_type": "execute_result"
    }
   ],
   "source": [
    "i = 0\n",
    "df['YearsAtCompanyBin'] = df['YearsAtCompany'].astype(str)\n",
    "for record in df['YearsAtCompanyBin']:\n",
    "    if df.at[i, 'YearsAtCompany'] <= 10:\n",
    "        df.at[i, 'YearsAtCompanyBin'] = 'less 10 years_YAT'\n",
    "    elif df.at[i,'YearsAtCompany'] > 10:\n",
    "        df.at[i,'YearsAtCompanyBin'] = 'more 11 years_YAT'\n",
    "    i += 1\n",
    "    \n",
    "df['YearsAtCompanyBin']"
   ]
  },
  {
   "cell_type": "code",
   "execution_count": 30,
   "metadata": {
    "scrolled": true
   },
   "outputs": [
    {
     "data": {
      "text/plain": [
       "0       0-3 years_YWCM\n",
       "1       4-9 years_YWCM\n",
       "2       0-3 years_YWCM\n",
       "3       0-3 years_YWCM\n",
       "4       4-9 years_YWCM\n",
       "             ...      \n",
       "1008    0-3 years_YWCM\n",
       "1009    0-3 years_YWCM\n",
       "1010    0-3 years_YWCM\n",
       "1011    0-3 years_YWCM\n",
       "1012    0-3 years_YWCM\n",
       "Name: YearsWithCurrManagerBin, Length: 1013, dtype: object"
      ]
     },
     "execution_count": 30,
     "metadata": {},
     "output_type": "execute_result"
    }
   ],
   "source": [
    "i = 0\n",
    "df['YearsWithCurrManagerBin'] = df['YearsWithCurrManager'].astype(str)\n",
    "for record in df['YearsWithCurrManagerBin']:\n",
    "    if df.at[i, 'YearsWithCurrManager'] <= 3:\n",
    "        df.at[i, 'YearsWithCurrManagerBin'] = '0-3 years_YWCM'\n",
    "    elif df.at[i,'YearsWithCurrManager'] > 3 and df.at[i,'YearsWithCurrManager'] <= 9:\n",
    "        df.at[i,'YearsWithCurrManagerBin'] = '4-9 years_YWCM'\n",
    "    elif df.at[i,'YearsWithCurrManager'] > 9:\n",
    "         df.at[i,'YearsWithCurrManagerBin'] = 'more 9 years_YWCM'\n",
    "    i += 1\n",
    "    \n",
    "df['YearsWithCurrManagerBin']"
   ]
  },
  {
   "cell_type": "code",
   "execution_count": 31,
   "metadata": {
    "scrolled": true
   },
   "outputs": [
    {
     "data": {
      "text/plain": [
       "0          low_Stag\n",
       "1          low_Stag\n",
       "2          low_Stag\n",
       "3          low_Stag\n",
       "4       medium_Stag\n",
       "           ...     \n",
       "1008       low_Stag\n",
       "1009       low_Stag\n",
       "1010       low_Stag\n",
       "1011       low_Stag\n",
       "1012       low_Stag\n",
       "Name: StagnationBin, Length: 1013, dtype: object"
      ]
     },
     "execution_count": 31,
     "metadata": {},
     "output_type": "execute_result"
    }
   ],
   "source": [
    "i = 0\n",
    "df['StagnationBin'] = df['Stagnation'].astype(str)\n",
    "for record in df['StagnationBin']:\n",
    "    if df.at[i, 'Stagnation'] < 20:\n",
    "        df.at[i, 'StagnationBin'] = 'low_Stag'\n",
    "    elif df.at[i,'Stagnation'] >= 20 and df.at[i,'Stagnation'] <= 50:\n",
    "        df.at[i,'StagnationBin'] = 'medium_Stag'\n",
    "    elif df.at[i,'Stagnation'] > 50:\n",
    "         df.at[i,'StagnationBin'] = 'high_Stag'\n",
    "    i += 1\n",
    "    \n",
    "df['StagnationBin']"
   ]
  },
  {
   "cell_type": "code",
   "execution_count": 32,
   "metadata": {},
   "outputs": [],
   "source": [
    "df_pattern = df.drop(columns=['Age', 'Attrition', 'DistanceFromHome',\n",
    "       'Education', 'EnvironmentSatisfaction', 'Gender',\n",
    "       'JobInvolvement', 'JobSatisfaction',\n",
    "       'MonthlyIncome', 'NumCompaniesWorked', 'OverTime', 'PercentSalaryHike',\n",
    "       'RelationshipSatisfaction', 'StockOptionLevel', 'TotalWorkingYears',\n",
    "       'TrainingTimesLastYear', 'WorkLifeBalance', 'YearsAtCompany',\n",
    "       'YearsWithCurrManager', 'Stagnation'])"
   ]
  },
  {
   "cell_type": "code",
   "execution_count": 33,
   "metadata": {
    "scrolled": true
   },
   "outputs": [
    {
     "name": "stdout",
     "output_type": "stream",
     "text": [
      "<class 'pandas.core.frame.DataFrame'>\n",
      "RangeIndex: 1013 entries, 0 to 1012\n",
      "Data columns (total 25 columns):\n",
      " #   Column                       Non-Null Count  Dtype \n",
      "---  ------                       --------------  ----- \n",
      " 0   BusinessTravel               1013 non-null   object\n",
      " 1   Department                   1013 non-null   object\n",
      " 2   EducationField               1013 non-null   object\n",
      " 3   JobRole                      1013 non-null   object\n",
      " 4   MaritalStatus                1013 non-null   object\n",
      " 5   AgeBin                       1013 non-null   object\n",
      " 6   AttritionCat                 1013 non-null   object\n",
      " 7   DistanceFromHomeBin          1013 non-null   object\n",
      " 8   EducationCat                 1013 non-null   object\n",
      " 9   EnvironmentSatisfactionCat   1013 non-null   object\n",
      " 10  GenderCat                    1013 non-null   object\n",
      " 11  JobInvolvementCat            1013 non-null   object\n",
      " 12  JobSatisfactionCat           1013 non-null   object\n",
      " 13  MonthlyIncomeBin             1013 non-null   object\n",
      " 14  NumCompaniesWorkedBin        1013 non-null   object\n",
      " 15  OverTimeCat                  1013 non-null   object\n",
      " 16  PercentSalaryHikeBin         1013 non-null   object\n",
      " 17  RelationshipSatisfactionCat  1013 non-null   object\n",
      " 18  StockOptionLevelCat          1013 non-null   object\n",
      " 19  TotalWorkingYearsBin         1013 non-null   object\n",
      " 20  TrainingTimesLastYearBin     1013 non-null   object\n",
      " 21  WorkLifeBalanceCat           1013 non-null   object\n",
      " 22  YearsAtCompanyBin            1013 non-null   object\n",
      " 23  YearsWithCurrManagerBin      1013 non-null   object\n",
      " 24  StagnationBin                1013 non-null   object\n",
      "dtypes: object(25)\n",
      "memory usage: 198.0+ KB\n"
     ]
    }
   ],
   "source": [
    "df_pattern.info()"
   ]
  },
  {
   "cell_type": "code",
   "execution_count": 34,
   "metadata": {},
   "outputs": [],
   "source": [
    "from fim import apriori"
   ]
  },
  {
   "cell_type": "code",
   "execution_count": 35,
   "metadata": {},
   "outputs": [
    {
     "name": "stdout",
     "output_type": "stream",
     "text": [
      "Help on built-in function apriori in module fim:\n",
      "\n",
      "apriori(...)\n",
      "    apriori (tracts, target='s', supp=10, zmin=1, zmax=None, report='a',\n",
      "             eval='x', agg='x', thresh=10, prune=None, algo='b', mode='',\n",
      "             border=None)\n",
      "    Find frequent item sets with the Apriori algorithm.\n",
      "    tracts  transaction database to mine (mandatory)\n",
      "            The database must be an iterable of transactions;\n",
      "            each transaction must be an iterable of items;\n",
      "            each item must be a hashable object.\n",
      "            If the database is a dictionary, the transactions are\n",
      "            the keys, the values their (integer) multiplicities.\n",
      "    target  type of frequent item sets to find     (default: s)\n",
      "            s/a   sets/all   all     frequent item sets\n",
      "            c     closed     closed  frequent item sets\n",
      "            m     maximal    maximal frequent item sets\n",
      "            g     gens       generators\n",
      "            r     rules      association rules\n",
      "    supp    minimum support of an item set         (default: 10)\n",
      "            (positive: percentage, negative: absolute number)\n",
      "    conf    minimum confidence of an assoc. rule   (default: 80%)\n",
      "    zmin    minimum number of items per item set   (default: 1)\n",
      "    zmax    maximum number of items per item set   (default: no limit)\n",
      "    report  values to report with an item set      (default: a)\n",
      "            a     absolute item set support (number of transactions)\n",
      "            s     relative item set support as a fraction\n",
      "            S     relative item set support as a percentage\n",
      "            e     value of item set evaluation measure\n",
      "            E     value of item set evaluation measure as a percentage\n",
      "            (     combine values in a tuple (must be first character)\n",
      "            [     combine values in a list  (must be first character)\n",
      "            #     pattern spectrum as a dictionary  (no patterns)\n",
      "            =     pattern spectrum as a list        (no patterns)\n",
      "            |     pattern spectrum as three columns (no patterns)\n",
      "            for target 'r' (association rules) also available:\n",
      "            b     absolute body set  support (number of transactions)\n",
      "            x     relative body set  support as a fraction\n",
      "            X     relative body set  support as a percentage\n",
      "            h     absolute head item support (number of transactions)\n",
      "            y     relative head item support as a fraction\n",
      "            Y     relative head item support as a percentage\n",
      "            c     rule confidence as a fraction\n",
      "            C     rule confidence as a percentage\n",
      "            l     lift value of a rule (confidence/prior)\n",
      "            L     lift value of a rule as a percentage\n",
      "            Q     support of the empty set (total number of transactions)\n",
      "    eval    measure for item set evaluation        (default: x)\n",
      "            x     none       no measure / zero (default)\n",
      "            b     ldratio    binary logarithm of support quotient       (+)\n",
      "            c     conf       rule confidence                            (+)\n",
      "            d     confdiff   absolute confidence difference to prior    (+)\n",
      "            l     lift       lift value (confidence divided by prior)   (+)\n",
      "            a     liftdiff   absolute difference of lift value to 1     (+)\n",
      "            q     liftquot   difference of lift quotient to 1           (+)\n",
      "            v     cvct       conviction (inverse lift negated head)     (+)\n",
      "            e     cvctdiff   absolute difference of conviction to 1     (+)\n",
      "            r     cvctquot   difference of conviction quotient to 1     (+)\n",
      "            k     cprob      conditional probability ratio              (+)\n",
      "            j     import     importance (binary log. of prob. ratio)    (+)\n",
      "            z     cert       certainty factor (relative conf. change)   (+)\n",
      "            n     chi2       normalized chi^2 measure                   (+)\n",
      "            p     chi2pval   p-value f/ (unnormalized) chi^2 measure    (-)\n",
      "            y     yates      normalized chi^2 with Yates' correction    (+)\n",
      "            t     yatespval  p-value f/ Yates-corrected chi^2 measure   (-)\n",
      "            i     info       information difference to prior            (+)\n",
      "            g     infopval   p-value f/ G statistic/info. difference    (-)\n",
      "            f     fetprob    Fisher's exact test (table probability)    (-)\n",
      "            h     fetchi2    Fisher's exact test (chi^2 measure)        (-)\n",
      "            m     fetinfo    Fisher's exact test (mutual information)   (-)\n",
      "            s     fetsupp    Fisher's exact test (support)              (-)\n",
      "            Measures marked with (+) must meet or exceed the threshold,\n",
      "            measures marked with (-) must not exceed the threshold\n",
      "            in order for the item set to be reported.\n",
      "    agg     evaluation measure aggregation mode    (default: x)\n",
      "            x     none       no aggregation (use first value)\n",
      "            m     min        minimum of individual measure values\n",
      "            n     max        maximum of individual measure values\n",
      "            a     avg        average of individual measure values\n",
      "    thresh  threshold for evaluation measure       (default: 10%)\n",
      "    prune   min. size for evaluation filtering     (default: no pruning)\n",
      "            = 0   backward filtering       (no subset check)\n",
      "            < 0   weak   forward filtering (one subset  must qualify)\n",
      "            > 0   strong forward filtering (all subsets must qualify)\n",
      "    algo    algorithm variant to use               (default: a)\n",
      "            b     basic      standard algorithm (only choice)\n",
      "    mode    operation mode indicators/flags        (default: None)\n",
      "            x     do not use perfect extension pruning\n",
      "            t/T   do not organize transactions as a prefix tree\n",
      "            y     a-posteriori pruning of infrequent item sets\n",
      "            z     invalidate evaluation below expected support\n",
      "            o     use original rule support definition (body & head)\n",
      "    border  support border for filtering item sets (default: None)\n",
      "            Must be a list or tuple of (absolute) minimum support values\n",
      "            per item set size (by which the list/tuple is indexed).\n",
      "    appear  dictionary mapping items to item appearance indicators,\n",
      "            with the key None referring to the default item appearance.\n",
      "            (If None does not occur as a key or no dictionary is given,\n",
      "            the default item appearance indicator is 'both'.)\n",
      "            This parameter is only used if the target type is rules.\n",
      "            * item may not appear anywhere in a rule:\n",
      "              '-', 'n', 'none', 'neither', 'ignore'\n",
      "            * item may appear only in rule body/antecedent:\n",
      "              'i', 'in', 'inp', 'input', 'b', 'body',\n",
      "              'a', 'ante', 'antecedent'\n",
      "            * item may appear only in rule head/consequent:\n",
      "              'o', 'out',      'output', 'h', 'head',\n",
      "              'c', 'cons', 'consequent'\n",
      "            * item may appear anywhere in a rule:\n",
      "              'io', 'i&o', 'inout', 'in&out', 'bh', 'b&h', 'both'\n",
      "    returns if report is not in ['#','=','|']:\n",
      "              if the target is association rules:\n",
      "                a list of rules (i.e. tuples with two or more elements),\n",
      "                each consisting of a head/consequent item, a tuple with\n",
      "                a body/antecedent item set, and the values selected by\n",
      "                the parameter 'report', which may be combined into a\n",
      "                tuple or a list if report[0] is '(' or '[', respectively.\n",
      "              if the target is a type of item sets:\n",
      "                a list of patterns (i.e. tuples with one or more elements),\n",
      "                each consisting of a tuple with a found frequent item set\n",
      "                and the values selected by the parameter 'report', which\n",
      "                may be combined into a tuple or list if report[0] is '('\n",
      "                or '[', respectively\n",
      "            if report in ['#','=','|']:\n",
      "              a pattern spectrum as a dictionary mapping pattern sizes\n",
      "              to the corresponding occurrence support ranges, as a list\n",
      "              of triplets (size, min. support, max. support) or as three\n",
      "              columns for sizes and minimum and maximum support values\n",
      "\n"
     ]
    }
   ],
   "source": [
    "help(apriori)"
   ]
  },
  {
   "cell_type": "code",
   "execution_count": 36,
   "metadata": {},
   "outputs": [],
   "source": [
    "baskets = df_pattern.values.tolist()"
   ]
  },
  {
   "cell_type": "code",
   "execution_count": 37,
   "metadata": {},
   "outputs": [],
   "source": [
    "supp_gridsearch = [70,80,90]\n",
    "zmin_gridsearch = [2,3,4,5,6,7,8,9,10,11,12,13,14,15]\n",
    "type_gridsearch = ['a', 'c', 'm']"
   ]
  },
  {
   "cell_type": "code",
   "execution_count": 38,
   "metadata": {},
   "outputs": [],
   "source": [
    "conf_gridsearch = [70,80,90]\n",
    "def report_regole(lista):\n",
    "    for item in lista:\n",
    "        print()\n",
    "        print(\"Target: \" + str(item[0]))\n",
    "        print(\"Support: \" + str(item[1]))\n",
    "        print(\"Zmin: \" + str(item[2]))\n",
    "        print(\"Confidence: \" + str(item[3]))\n",
    "        print()"
   ]
  },
  {
   "cell_type": "code",
   "execution_count": 39,
   "metadata": {},
   "outputs": [],
   "source": [
    "def report(lista):\n",
    "    for item in lista:\n",
    "        print()\n",
    "        print(\"Support: \" + str(item[0]))\n",
    "        print(\"Zmin: \" + str(item[1]))\n",
    "        if item[2] == 'a':\n",
    "            print(\"Type: frequent itemsets\")\n",
    "        elif item[2] == 'c':\n",
    "            print(\"Type: closed itemsets\")\n",
    "        elif item[2] == 'm':\n",
    "            print(\"Type: maximal itemsets\")\n",
    "        print(\"Len(Itemset): \" + str(item[3]))\n",
    "        print()"
   ]
  },
  {
   "cell_type": "code",
   "execution_count": 40,
   "metadata": {},
   "outputs": [],
   "source": [
    "results_rules = list()\n",
    "for i in range(len(supp_gridsearch)):\n",
    "    for j in range(len(zmin_gridsearch)):\n",
    "        for k in range(len(conf_gridsearch)):\n",
    "            rules = apriori(baskets, supp=supp_gridsearch[i], zmin=zmin_gridsearch[j], target='r', conf=conf_gridsearch[k], \n",
    "                report='ascl')\n",
    "            for r in rules:\n",
    "                if r[5] > 1.05 or r[5] < 0.95:\n",
    "                    results_rules.append(tuple((r, supp_gridsearch[i],zmin_gridsearch[j],conf_gridsearch[k])))"
   ]
  },
  {
   "cell_type": "code",
   "execution_count": 41,
   "metadata": {},
   "outputs": [
    {
     "data": {
      "text/plain": [
       "95"
      ]
     },
     "execution_count": 41,
     "metadata": {},
     "output_type": "execute_result"
    }
   ],
   "source": [
    "len(results_rules)"
   ]
  },
  {
   "cell_type": "code",
   "execution_count": 42,
   "metadata": {},
   "outputs": [
    {
     "name": "stdout",
     "output_type": "stream",
     "text": [
      "\n",
      "Target: ('No_OT', ('No_Attr', 'low_Stag', 'less 10 years_YAT'), 549, 0.5419545903257651, 0.7667597765363129, 1.078788407821229)\n",
      "Support: 70\n",
      "Zmin: 2\n",
      "Confidence: 70\n",
      "\n",
      "\n",
      "Target: ('No_OT', ('No_Attr', 'low_Stag', 'yes_TrainTimesLY'), 541, 0.5340572556762093, 0.7619718309859155, 1.072052034428795)\n",
      "Support: 70\n",
      "Zmin: 2\n",
      "Confidence: 70\n",
      "\n",
      "\n",
      "Target: ('No_OT', ('No_Attr', 'low_Stag'), 557, 0.5498519249753209, 0.763013698630137, 1.073517884322679)\n",
      "Support: 70\n",
      "Zmin: 2\n",
      "Confidence: 70\n",
      "\n",
      "\n",
      "Target: ('No_OT', ('No_Attr', 'less 10 years_YAT', 'yes_TrainTimesLY'), 606, 0.5982230997038499, 0.7690355329949239, 1.0819902707275804)\n",
      "Support: 70\n",
      "Zmin: 2\n",
      "Confidence: 70\n",
      "\n",
      "\n",
      "Target: ('No_OT', ('No_Attr', 'less 10 years_YAT'), 625, 0.6169792694965449, 0.7678132678132679, 1.0802706115206115)\n",
      "Support: 70\n",
      "Zmin: 2\n",
      "Confidence: 70\n",
      "\n",
      "\n",
      "Target: ('No_OT', ('No_Attr', 'yes_TrainTimesLY'), 625, 0.6169792694965449, 0.7649938800489596, 1.0763038895688835)\n",
      "Support: 70\n",
      "Zmin: 2\n",
      "Confidence: 70\n",
      "\n",
      "\n",
      "Target: ('No_Attr', ('No_OT',), 644, 0.6357354392892399, 0.8944444444444445, 1.0748187689468829)\n",
      "Support: 70\n",
      "Zmin: 2\n",
      "Confidence: 70\n",
      "\n",
      "\n",
      "Target: ('No_OT', ('No_Attr',), 644, 0.6357354392892399, 0.763938315539739, 1.0748187689468829)\n",
      "Support: 70\n",
      "Zmin: 2\n",
      "Confidence: 70\n",
      "\n",
      "\n",
      "Target: ('0-3 years_YWCM', ('No_Attr', 'low_Stag', 'less 10 years_YAT'), 587, 0.579466929911155, 0.8198324022346368, 1.113257672203334)\n",
      "Support: 70\n",
      "Zmin: 2\n",
      "Confidence: 70\n",
      "\n",
      "\n",
      "Target: ('0-3 years_YWCM', ('No_Attr', 'low_Stag', 'yes_TrainTimesLY'), 577, 0.5695952615992103, 0.8126760563380282, 1.103540006796813)\n",
      "Support: 70\n",
      "Zmin: 2\n",
      "Confidence: 70\n",
      "\n",
      "\n",
      "Target: ('0-3 years_YWCM', ('No_Attr', 'low_Stag'), 594, 0.5863770977295163, 0.8136986301369863, 1.1049285688053179)\n",
      "Support: 70\n",
      "Zmin: 2\n",
      "Confidence: 70\n",
      "\n",
      "\n",
      "Target: ('low_Stag', ('0-3 years_YWCM', 'less 10 years_YAT', 'yes_TrainTimesLY'), 709, 0.6999012833168805, 0.9874651810584958, 1.1239350881036587)\n",
      "Support: 70\n",
      "Zmin: 2\n",
      "Confidence: 70\n",
      "\n",
      "\n",
      "Target: ('0-3 years_YWCM', ('low_Stag', 'less 10 years_YAT', 'yes_TrainTimesLY'), 709, 0.6999012833168805, 0.8321596244131455, 1.129996916260746)\n",
      "Support: 70\n",
      "Zmin: 2\n",
      "Confidence: 70\n",
      "\n",
      "\n",
      "Target: ('low_Stag', ('0-3 years_YWCM', 'less 10 years_YAT'), 728, 0.7186574531095755, 0.9877883310719131, 1.1243028981751102)\n",
      "Support: 70\n",
      "Zmin: 2\n",
      "Confidence: 70\n",
      "\n",
      "\n",
      "Target: ('0-3 years_YWCM', ('low_Stag', 'less 10 years_YAT'), 728, 0.7186574531095755, 0.8329519450800915, 1.1310728155041994)\n",
      "Support: 70\n",
      "Zmin: 2\n",
      "Confidence: 70\n",
      "\n",
      "\n",
      "Target: ('low_Stag', ('0-3 years_YWCM', 'yes_TrainTimesLY'), 717, 0.7077986179664363, 0.9862448418156808, 1.1225460952351514)\n",
      "Support: 70\n",
      "Zmin: 2\n",
      "Confidence: 70\n",
      "\n",
      "\n",
      "Target: ('0-3 years_YWCM', ('low_Stag', 'yes_TrainTimesLY'), 717, 0.7077986179664363, 0.826036866359447, 1.1216827689304556)\n",
      "Support: 70\n",
      "Zmin: 2\n",
      "Confidence: 70\n",
      "\n",
      "\n",
      "Target: ('low_Stag', ('0-3 years_YWCM',), 736, 0.7265547877591313, 0.9865951742627346, 1.1229448444136518)\n",
      "Support: 70\n",
      "Zmin: 2\n",
      "Confidence: 70\n",
      "\n",
      "\n",
      "Target: ('0-3 years_YWCM', ('low_Stag',), 736, 0.7265547877591313, 0.8269662921348314, 1.1229448444136518)\n",
      "Support: 70\n",
      "Zmin: 2\n",
      "Confidence: 70\n",
      "\n",
      "\n",
      "Target: ('No_Attr', ('No_OT',), 644, 0.6357354392892399, 0.8944444444444445, 1.0748187689468829)\n",
      "Support: 70\n",
      "Zmin: 2\n",
      "Confidence: 80\n",
      "\n",
      "\n",
      "Target: ('0-3 years_YWCM', ('No_Attr', 'low_Stag', 'less 10 years_YAT'), 587, 0.579466929911155, 0.8198324022346368, 1.113257672203334)\n",
      "Support: 70\n",
      "Zmin: 2\n",
      "Confidence: 80\n",
      "\n",
      "\n",
      "Target: ('0-3 years_YWCM', ('No_Attr', 'low_Stag', 'yes_TrainTimesLY'), 577, 0.5695952615992103, 0.8126760563380282, 1.103540006796813)\n",
      "Support: 70\n",
      "Zmin: 2\n",
      "Confidence: 80\n",
      "\n",
      "\n",
      "Target: ('0-3 years_YWCM', ('No_Attr', 'low_Stag'), 594, 0.5863770977295163, 0.8136986301369863, 1.1049285688053179)\n",
      "Support: 70\n",
      "Zmin: 2\n",
      "Confidence: 80\n",
      "\n",
      "\n",
      "Target: ('low_Stag', ('0-3 years_YWCM', 'less 10 years_YAT', 'yes_TrainTimesLY'), 709, 0.6999012833168805, 0.9874651810584958, 1.1239350881036587)\n",
      "Support: 70\n",
      "Zmin: 2\n",
      "Confidence: 80\n",
      "\n",
      "\n",
      "Target: ('0-3 years_YWCM', ('low_Stag', 'less 10 years_YAT', 'yes_TrainTimesLY'), 709, 0.6999012833168805, 0.8321596244131455, 1.129996916260746)\n",
      "Support: 70\n",
      "Zmin: 2\n",
      "Confidence: 80\n",
      "\n",
      "\n",
      "Target: ('low_Stag', ('0-3 years_YWCM', 'less 10 years_YAT'), 728, 0.7186574531095755, 0.9877883310719131, 1.1243028981751102)\n",
      "Support: 70\n",
      "Zmin: 2\n",
      "Confidence: 80\n",
      "\n",
      "\n",
      "Target: ('0-3 years_YWCM', ('low_Stag', 'less 10 years_YAT'), 728, 0.7186574531095755, 0.8329519450800915, 1.1310728155041994)\n",
      "Support: 70\n",
      "Zmin: 2\n",
      "Confidence: 80\n",
      "\n",
      "\n",
      "Target: ('low_Stag', ('0-3 years_YWCM', 'yes_TrainTimesLY'), 717, 0.7077986179664363, 0.9862448418156808, 1.1225460952351514)\n",
      "Support: 70\n",
      "Zmin: 2\n",
      "Confidence: 80\n",
      "\n",
      "\n",
      "Target: ('0-3 years_YWCM', ('low_Stag', 'yes_TrainTimesLY'), 717, 0.7077986179664363, 0.826036866359447, 1.1216827689304556)\n",
      "Support: 70\n",
      "Zmin: 2\n",
      "Confidence: 80\n",
      "\n",
      "\n",
      "Target: ('low_Stag', ('0-3 years_YWCM',), 736, 0.7265547877591313, 0.9865951742627346, 1.1229448444136518)\n",
      "Support: 70\n",
      "Zmin: 2\n",
      "Confidence: 80\n",
      "\n",
      "\n",
      "Target: ('0-3 years_YWCM', ('low_Stag',), 736, 0.7265547877591313, 0.8269662921348314, 1.1229448444136518)\n",
      "Support: 70\n",
      "Zmin: 2\n",
      "Confidence: 80\n",
      "\n",
      "\n",
      "Target: ('low_Stag', ('0-3 years_YWCM', 'less 10 years_YAT', 'yes_TrainTimesLY'), 709, 0.6999012833168805, 0.9874651810584958, 1.1239350881036587)\n",
      "Support: 70\n",
      "Zmin: 2\n",
      "Confidence: 90\n",
      "\n",
      "\n",
      "Target: ('low_Stag', ('0-3 years_YWCM', 'less 10 years_YAT'), 728, 0.7186574531095755, 0.9877883310719131, 1.1243028981751102)\n",
      "Support: 70\n",
      "Zmin: 2\n",
      "Confidence: 90\n",
      "\n",
      "\n",
      "Target: ('low_Stag', ('0-3 years_YWCM', 'yes_TrainTimesLY'), 717, 0.7077986179664363, 0.9862448418156808, 1.1225460952351514)\n",
      "Support: 70\n",
      "Zmin: 2\n",
      "Confidence: 90\n",
      "\n",
      "\n",
      "Target: ('low_Stag', ('0-3 years_YWCM',), 736, 0.7265547877591313, 0.9865951742627346, 1.1229448444136518)\n",
      "Support: 70\n",
      "Zmin: 2\n",
      "Confidence: 90\n",
      "\n",
      "\n",
      "Target: ('No_OT', ('No_Attr', 'low_Stag', 'less 10 years_YAT'), 549, 0.5419545903257651, 0.7667597765363129, 1.078788407821229)\n",
      "Support: 70\n",
      "Zmin: 3\n",
      "Confidence: 70\n",
      "\n",
      "\n",
      "Target: ('No_OT', ('No_Attr', 'low_Stag', 'yes_TrainTimesLY'), 541, 0.5340572556762093, 0.7619718309859155, 1.072052034428795)\n",
      "Support: 70\n",
      "Zmin: 3\n",
      "Confidence: 70\n",
      "\n",
      "\n",
      "Target: ('No_OT', ('No_Attr', 'low_Stag'), 557, 0.5498519249753209, 0.763013698630137, 1.073517884322679)\n",
      "Support: 70\n",
      "Zmin: 3\n",
      "Confidence: 70\n",
      "\n",
      "\n",
      "Target: ('No_OT', ('No_Attr', 'less 10 years_YAT', 'yes_TrainTimesLY'), 606, 0.5982230997038499, 0.7690355329949239, 1.0819902707275804)\n",
      "Support: 70\n",
      "Zmin: 3\n",
      "Confidence: 70\n",
      "\n",
      "\n",
      "Target: ('No_OT', ('No_Attr', 'less 10 years_YAT'), 625, 0.6169792694965449, 0.7678132678132679, 1.0802706115206115)\n",
      "Support: 70\n",
      "Zmin: 3\n",
      "Confidence: 70\n",
      "\n",
      "\n",
      "Target: ('No_OT', ('No_Attr', 'yes_TrainTimesLY'), 625, 0.6169792694965449, 0.7649938800489596, 1.0763038895688835)\n",
      "Support: 70\n",
      "Zmin: 3\n",
      "Confidence: 70\n",
      "\n",
      "\n",
      "Target: ('0-3 years_YWCM', ('No_Attr', 'low_Stag', 'less 10 years_YAT'), 587, 0.579466929911155, 0.8198324022346368, 1.113257672203334)\n",
      "Support: 70\n",
      "Zmin: 3\n",
      "Confidence: 70\n",
      "\n",
      "\n",
      "Target: ('0-3 years_YWCM', ('No_Attr', 'low_Stag', 'yes_TrainTimesLY'), 577, 0.5695952615992103, 0.8126760563380282, 1.103540006796813)\n",
      "Support: 70\n",
      "Zmin: 3\n",
      "Confidence: 70\n",
      "\n",
      "\n",
      "Target: ('0-3 years_YWCM', ('No_Attr', 'low_Stag'), 594, 0.5863770977295163, 0.8136986301369863, 1.1049285688053179)\n",
      "Support: 70\n",
      "Zmin: 3\n",
      "Confidence: 70\n",
      "\n",
      "\n",
      "Target: ('low_Stag', ('0-3 years_YWCM', 'less 10 years_YAT', 'yes_TrainTimesLY'), 709, 0.6999012833168805, 0.9874651810584958, 1.1239350881036587)\n",
      "Support: 70\n",
      "Zmin: 3\n",
      "Confidence: 70\n",
      "\n",
      "\n",
      "Target: ('0-3 years_YWCM', ('low_Stag', 'less 10 years_YAT', 'yes_TrainTimesLY'), 709, 0.6999012833168805, 0.8321596244131455, 1.129996916260746)\n",
      "Support: 70\n",
      "Zmin: 3\n",
      "Confidence: 70\n",
      "\n",
      "\n",
      "Target: ('low_Stag', ('0-3 years_YWCM', 'less 10 years_YAT'), 728, 0.7186574531095755, 0.9877883310719131, 1.1243028981751102)\n",
      "Support: 70\n",
      "Zmin: 3\n",
      "Confidence: 70\n",
      "\n",
      "\n",
      "Target: ('0-3 years_YWCM', ('low_Stag', 'less 10 years_YAT'), 728, 0.7186574531095755, 0.8329519450800915, 1.1310728155041994)\n",
      "Support: 70\n",
      "Zmin: 3\n",
      "Confidence: 70\n",
      "\n",
      "\n",
      "Target: ('low_Stag', ('0-3 years_YWCM', 'yes_TrainTimesLY'), 717, 0.7077986179664363, 0.9862448418156808, 1.1225460952351514)\n",
      "Support: 70\n",
      "Zmin: 3\n",
      "Confidence: 70\n",
      "\n",
      "\n",
      "Target: ('0-3 years_YWCM', ('low_Stag', 'yes_TrainTimesLY'), 717, 0.7077986179664363, 0.826036866359447, 1.1216827689304556)\n",
      "Support: 70\n",
      "Zmin: 3\n",
      "Confidence: 70\n",
      "\n",
      "\n",
      "Target: ('0-3 years_YWCM', ('No_Attr', 'low_Stag', 'less 10 years_YAT'), 587, 0.579466929911155, 0.8198324022346368, 1.113257672203334)\n",
      "Support: 70\n",
      "Zmin: 3\n",
      "Confidence: 80\n",
      "\n",
      "\n",
      "Target: ('0-3 years_YWCM', ('No_Attr', 'low_Stag', 'yes_TrainTimesLY'), 577, 0.5695952615992103, 0.8126760563380282, 1.103540006796813)\n",
      "Support: 70\n",
      "Zmin: 3\n",
      "Confidence: 80\n",
      "\n",
      "\n",
      "Target: ('0-3 years_YWCM', ('No_Attr', 'low_Stag'), 594, 0.5863770977295163, 0.8136986301369863, 1.1049285688053179)\n",
      "Support: 70\n",
      "Zmin: 3\n",
      "Confidence: 80\n",
      "\n",
      "\n",
      "Target: ('low_Stag', ('0-3 years_YWCM', 'less 10 years_YAT', 'yes_TrainTimesLY'), 709, 0.6999012833168805, 0.9874651810584958, 1.1239350881036587)\n",
      "Support: 70\n",
      "Zmin: 3\n",
      "Confidence: 80\n",
      "\n",
      "\n",
      "Target: ('0-3 years_YWCM', ('low_Stag', 'less 10 years_YAT', 'yes_TrainTimesLY'), 709, 0.6999012833168805, 0.8321596244131455, 1.129996916260746)\n",
      "Support: 70\n",
      "Zmin: 3\n",
      "Confidence: 80\n",
      "\n",
      "\n",
      "Target: ('low_Stag', ('0-3 years_YWCM', 'less 10 years_YAT'), 728, 0.7186574531095755, 0.9877883310719131, 1.1243028981751102)\n",
      "Support: 70\n",
      "Zmin: 3\n",
      "Confidence: 80\n",
      "\n",
      "\n",
      "Target: ('0-3 years_YWCM', ('low_Stag', 'less 10 years_YAT'), 728, 0.7186574531095755, 0.8329519450800915, 1.1310728155041994)\n",
      "Support: 70\n",
      "Zmin: 3\n",
      "Confidence: 80\n",
      "\n",
      "\n",
      "Target: ('low_Stag', ('0-3 years_YWCM', 'yes_TrainTimesLY'), 717, 0.7077986179664363, 0.9862448418156808, 1.1225460952351514)\n",
      "Support: 70\n",
      "Zmin: 3\n",
      "Confidence: 80\n",
      "\n",
      "\n",
      "Target: ('0-3 years_YWCM', ('low_Stag', 'yes_TrainTimesLY'), 717, 0.7077986179664363, 0.826036866359447, 1.1216827689304556)\n",
      "Support: 70\n",
      "Zmin: 3\n",
      "Confidence: 80\n",
      "\n",
      "\n",
      "Target: ('low_Stag', ('0-3 years_YWCM', 'less 10 years_YAT', 'yes_TrainTimesLY'), 709, 0.6999012833168805, 0.9874651810584958, 1.1239350881036587)\n",
      "Support: 70\n",
      "Zmin: 3\n",
      "Confidence: 90\n",
      "\n",
      "\n",
      "Target: ('low_Stag', ('0-3 years_YWCM', 'less 10 years_YAT'), 728, 0.7186574531095755, 0.9877883310719131, 1.1243028981751102)\n",
      "Support: 70\n",
      "Zmin: 3\n",
      "Confidence: 90\n",
      "\n",
      "\n",
      "Target: ('low_Stag', ('0-3 years_YWCM', 'yes_TrainTimesLY'), 717, 0.7077986179664363, 0.9862448418156808, 1.1225460952351514)\n",
      "Support: 70\n",
      "Zmin: 3\n",
      "Confidence: 90\n",
      "\n",
      "\n",
      "Target: ('No_OT', ('No_Attr', 'low_Stag', 'less 10 years_YAT'), 549, 0.5419545903257651, 0.7667597765363129, 1.078788407821229)\n",
      "Support: 70\n",
      "Zmin: 4\n",
      "Confidence: 70\n",
      "\n",
      "\n",
      "Target: ('No_OT', ('No_Attr', 'low_Stag', 'yes_TrainTimesLY'), 541, 0.5340572556762093, 0.7619718309859155, 1.072052034428795)\n",
      "Support: 70\n",
      "Zmin: 4\n",
      "Confidence: 70\n",
      "\n",
      "\n",
      "Target: ('No_OT', ('No_Attr', 'less 10 years_YAT', 'yes_TrainTimesLY'), 606, 0.5982230997038499, 0.7690355329949239, 1.0819902707275804)\n",
      "Support: 70\n",
      "Zmin: 4\n",
      "Confidence: 70\n",
      "\n",
      "\n",
      "Target: ('0-3 years_YWCM', ('No_Attr', 'low_Stag', 'less 10 years_YAT'), 587, 0.579466929911155, 0.8198324022346368, 1.113257672203334)\n",
      "Support: 70\n",
      "Zmin: 4\n",
      "Confidence: 70\n",
      "\n",
      "\n",
      "Target: ('0-3 years_YWCM', ('No_Attr', 'low_Stag', 'yes_TrainTimesLY'), 577, 0.5695952615992103, 0.8126760563380282, 1.103540006796813)\n",
      "Support: 70\n",
      "Zmin: 4\n",
      "Confidence: 70\n",
      "\n",
      "\n",
      "Target: ('low_Stag', ('0-3 years_YWCM', 'less 10 years_YAT', 'yes_TrainTimesLY'), 709, 0.6999012833168805, 0.9874651810584958, 1.1239350881036587)\n",
      "Support: 70\n",
      "Zmin: 4\n",
      "Confidence: 70\n",
      "\n",
      "\n",
      "Target: ('0-3 years_YWCM', ('low_Stag', 'less 10 years_YAT', 'yes_TrainTimesLY'), 709, 0.6999012833168805, 0.8321596244131455, 1.129996916260746)\n",
      "Support: 70\n",
      "Zmin: 4\n",
      "Confidence: 70\n",
      "\n",
      "\n",
      "Target: ('0-3 years_YWCM', ('No_Attr', 'low_Stag', 'less 10 years_YAT'), 587, 0.579466929911155, 0.8198324022346368, 1.113257672203334)\n",
      "Support: 70\n",
      "Zmin: 4\n",
      "Confidence: 80\n",
      "\n",
      "\n",
      "Target: ('0-3 years_YWCM', ('No_Attr', 'low_Stag', 'yes_TrainTimesLY'), 577, 0.5695952615992103, 0.8126760563380282, 1.103540006796813)\n",
      "Support: 70\n",
      "Zmin: 4\n",
      "Confidence: 80\n",
      "\n",
      "\n",
      "Target: ('low_Stag', ('0-3 years_YWCM', 'less 10 years_YAT', 'yes_TrainTimesLY'), 709, 0.6999012833168805, 0.9874651810584958, 1.1239350881036587)\n",
      "Support: 70\n",
      "Zmin: 4\n",
      "Confidence: 80\n",
      "\n",
      "\n",
      "Target: ('0-3 years_YWCM', ('low_Stag', 'less 10 years_YAT', 'yes_TrainTimesLY'), 709, 0.6999012833168805, 0.8321596244131455, 1.129996916260746)\n",
      "Support: 70\n",
      "Zmin: 4\n",
      "Confidence: 80\n",
      "\n",
      "\n",
      "Target: ('low_Stag', ('0-3 years_YWCM', 'less 10 years_YAT', 'yes_TrainTimesLY'), 709, 0.6999012833168805, 0.9874651810584958, 1.1239350881036587)\n",
      "Support: 70\n",
      "Zmin: 4\n",
      "Confidence: 90\n",
      "\n",
      "\n",
      "Target: ('No_OT', ('No_Attr', 'less 10 years_YAT'), 625, 0.6169792694965449, 0.7678132678132679, 1.0802706115206115)\n",
      "Support: 80\n",
      "Zmin: 2\n",
      "Confidence: 70\n",
      "\n",
      "\n",
      "Target: ('No_OT', ('No_Attr', 'yes_TrainTimesLY'), 625, 0.6169792694965449, 0.7649938800489596, 1.0763038895688835)\n",
      "Support: 80\n",
      "Zmin: 2\n",
      "Confidence: 70\n",
      "\n",
      "\n",
      "Target: ('No_OT', ('No_Attr',), 644, 0.6357354392892399, 0.763938315539739, 1.0748187689468829)\n",
      "Support: 80\n",
      "Zmin: 2\n",
      "Confidence: 70\n",
      "\n",
      "\n",
      "Target: ('0-3 years_YWCM', ('low_Stag', 'less 10 years_YAT', 'yes_TrainTimesLY'), 709, 0.6999012833168805, 0.8321596244131455, 1.129996916260746)\n",
      "Support: 80\n",
      "Zmin: 2\n",
      "Confidence: 70\n",
      "\n",
      "\n",
      "Target: ('0-3 years_YWCM', ('low_Stag', 'less 10 years_YAT'), 728, 0.7186574531095755, 0.8329519450800915, 1.1310728155041994)\n",
      "Support: 80\n",
      "Zmin: 2\n",
      "Confidence: 70\n",
      "\n",
      "\n",
      "Target: ('0-3 years_YWCM', ('low_Stag', 'yes_TrainTimesLY'), 717, 0.7077986179664363, 0.826036866359447, 1.1216827689304556)\n",
      "Support: 80\n",
      "Zmin: 2\n",
      "Confidence: 70\n",
      "\n",
      "\n",
      "Target: ('0-3 years_YWCM', ('low_Stag',), 736, 0.7265547877591313, 0.8269662921348314, 1.1229448444136518)\n",
      "Support: 80\n",
      "Zmin: 2\n",
      "Confidence: 70\n",
      "\n",
      "\n",
      "Target: ('0-3 years_YWCM', ('low_Stag', 'less 10 years_YAT', 'yes_TrainTimesLY'), 709, 0.6999012833168805, 0.8321596244131455, 1.129996916260746)\n",
      "Support: 80\n",
      "Zmin: 2\n",
      "Confidence: 80\n",
      "\n",
      "\n",
      "Target: ('0-3 years_YWCM', ('low_Stag', 'less 10 years_YAT'), 728, 0.7186574531095755, 0.8329519450800915, 1.1310728155041994)\n",
      "Support: 80\n",
      "Zmin: 2\n",
      "Confidence: 80\n",
      "\n",
      "\n",
      "Target: ('0-3 years_YWCM', ('low_Stag', 'yes_TrainTimesLY'), 717, 0.7077986179664363, 0.826036866359447, 1.1216827689304556)\n",
      "Support: 80\n",
      "Zmin: 2\n",
      "Confidence: 80\n",
      "\n",
      "\n",
      "Target: ('0-3 years_YWCM', ('low_Stag',), 736, 0.7265547877591313, 0.8269662921348314, 1.1229448444136518)\n",
      "Support: 80\n",
      "Zmin: 2\n",
      "Confidence: 80\n",
      "\n",
      "\n",
      "Target: ('No_OT', ('No_Attr', 'less 10 years_YAT'), 625, 0.6169792694965449, 0.7678132678132679, 1.0802706115206115)\n",
      "Support: 80\n",
      "Zmin: 3\n",
      "Confidence: 70\n",
      "\n",
      "\n",
      "Target: ('No_OT', ('No_Attr', 'yes_TrainTimesLY'), 625, 0.6169792694965449, 0.7649938800489596, 1.0763038895688835)\n",
      "Support: 80\n",
      "Zmin: 3\n",
      "Confidence: 70\n",
      "\n",
      "\n",
      "Target: ('0-3 years_YWCM', ('low_Stag', 'less 10 years_YAT', 'yes_TrainTimesLY'), 709, 0.6999012833168805, 0.8321596244131455, 1.129996916260746)\n",
      "Support: 80\n",
      "Zmin: 3\n",
      "Confidence: 70\n",
      "\n",
      "\n",
      "Target: ('0-3 years_YWCM', ('low_Stag', 'less 10 years_YAT'), 728, 0.7186574531095755, 0.8329519450800915, 1.1310728155041994)\n",
      "Support: 80\n",
      "Zmin: 3\n",
      "Confidence: 70\n",
      "\n",
      "\n",
      "Target: ('0-3 years_YWCM', ('low_Stag', 'yes_TrainTimesLY'), 717, 0.7077986179664363, 0.826036866359447, 1.1216827689304556)\n",
      "Support: 80\n",
      "Zmin: 3\n",
      "Confidence: 70\n",
      "\n",
      "\n",
      "Target: ('0-3 years_YWCM', ('low_Stag', 'less 10 years_YAT', 'yes_TrainTimesLY'), 709, 0.6999012833168805, 0.8321596244131455, 1.129996916260746)\n",
      "Support: 80\n",
      "Zmin: 3\n",
      "Confidence: 80\n",
      "\n",
      "\n",
      "Target: ('0-3 years_YWCM', ('low_Stag', 'less 10 years_YAT'), 728, 0.7186574531095755, 0.8329519450800915, 1.1310728155041994)\n",
      "Support: 80\n",
      "Zmin: 3\n",
      "Confidence: 80\n",
      "\n",
      "\n",
      "Target: ('0-3 years_YWCM', ('low_Stag', 'yes_TrainTimesLY'), 717, 0.7077986179664363, 0.826036866359447, 1.1216827689304556)\n",
      "Support: 80\n",
      "Zmin: 3\n",
      "Confidence: 80\n",
      "\n",
      "\n",
      "Target: ('0-3 years_YWCM', ('low_Stag', 'less 10 years_YAT', 'yes_TrainTimesLY'), 709, 0.6999012833168805, 0.8321596244131455, 1.129996916260746)\n",
      "Support: 80\n",
      "Zmin: 4\n",
      "Confidence: 70\n",
      "\n",
      "\n",
      "Target: ('0-3 years_YWCM', ('low_Stag', 'less 10 years_YAT', 'yes_TrainTimesLY'), 709, 0.6999012833168805, 0.8321596244131455, 1.129996916260746)\n",
      "Support: 80\n",
      "Zmin: 4\n",
      "Confidence: 80\n",
      "\n"
     ]
    }
   ],
   "source": [
    "report_regole(results_rules)"
   ]
  },
  {
   "cell_type": "code",
   "execution_count": null,
   "metadata": {},
   "outputs": [],
   "source": []
  },
  {
   "cell_type": "code",
   "execution_count": null,
   "metadata": {},
   "outputs": [],
   "source": [
    "dataset ridotto "
   ]
  },
  {
   "cell_type": "code",
   "execution_count": 43,
   "metadata": {},
   "outputs": [
    {
     "name": "stdout",
     "output_type": "stream",
     "text": [
      "<class 'pandas.core.frame.DataFrame'>\n",
      "RangeIndex: 1013 entries, 0 to 1012\n",
      "Data columns (total 25 columns):\n",
      " #   Column                       Non-Null Count  Dtype \n",
      "---  ------                       --------------  ----- \n",
      " 0   BusinessTravel               1013 non-null   object\n",
      " 1   Department                   1013 non-null   object\n",
      " 2   EducationField               1013 non-null   object\n",
      " 3   JobRole                      1013 non-null   object\n",
      " 4   MaritalStatus                1013 non-null   object\n",
      " 5   AgeBin                       1013 non-null   object\n",
      " 6   AttritionCat                 1013 non-null   object\n",
      " 7   DistanceFromHomeBin          1013 non-null   object\n",
      " 8   EducationCat                 1013 non-null   object\n",
      " 9   EnvironmentSatisfactionCat   1013 non-null   object\n",
      " 10  GenderCat                    1013 non-null   object\n",
      " 11  JobInvolvementCat            1013 non-null   object\n",
      " 12  JobSatisfactionCat           1013 non-null   object\n",
      " 13  MonthlyIncomeBin             1013 non-null   object\n",
      " 14  NumCompaniesWorkedBin        1013 non-null   object\n",
      " 15  OverTimeCat                  1013 non-null   object\n",
      " 16  PercentSalaryHikeBin         1013 non-null   object\n",
      " 17  RelationshipSatisfactionCat  1013 non-null   object\n",
      " 18  StockOptionLevelCat          1013 non-null   object\n",
      " 19  TotalWorkingYearsBin         1013 non-null   object\n",
      " 20  TrainingTimesLastYearBin     1013 non-null   object\n",
      " 21  WorkLifeBalanceCat           1013 non-null   object\n",
      " 22  YearsAtCompanyBin            1013 non-null   object\n",
      " 23  YearsWithCurrManagerBin      1013 non-null   object\n",
      " 24  StagnationBin                1013 non-null   object\n",
      "dtypes: object(25)\n",
      "memory usage: 198.0+ KB\n"
     ]
    }
   ],
   "source": [
    "df_pattern.info()"
   ]
  },
  {
   "cell_type": "code",
   "execution_count": 48,
   "metadata": {},
   "outputs": [],
   "source": [
    "sub_df = df_pattern.drop(columns=['AgeBin', 'StockOptionLevelCat', 'RelationshipSatisfactionCat',\n",
    "'PercentSalaryHikeBin', 'JobSatisfactionCat', 'JobInvolvementCat',\n",
    "'GenderCat', 'EnvironmentSatisfactionCat', 'EducationCat',\n",
    "'DistanceFromHomeBin', 'MaritalStatus', 'JobRole', 'EducationField',\n",
    "'Department', 'BusinessTravel','OverTimeCat','WorkLifeBalanceCat'])"
   ]
  },
  {
   "cell_type": "code",
   "execution_count": 49,
   "metadata": {},
   "outputs": [
    {
     "name": "stdout",
     "output_type": "stream",
     "text": [
      "<class 'pandas.core.frame.DataFrame'>\n",
      "RangeIndex: 1013 entries, 0 to 1012\n",
      "Data columns (total 8 columns):\n",
      " #   Column                    Non-Null Count  Dtype \n",
      "---  ------                    --------------  ----- \n",
      " 0   AttritionCat              1013 non-null   object\n",
      " 1   MonthlyIncomeBin          1013 non-null   object\n",
      " 2   NumCompaniesWorkedBin     1013 non-null   object\n",
      " 3   TotalWorkingYearsBin      1013 non-null   object\n",
      " 4   TrainingTimesLastYearBin  1013 non-null   object\n",
      " 5   YearsAtCompanyBin         1013 non-null   object\n",
      " 6   YearsWithCurrManagerBin   1013 non-null   object\n",
      " 7   StagnationBin             1013 non-null   object\n",
      "dtypes: object(8)\n",
      "memory usage: 63.4+ KB\n"
     ]
    }
   ],
   "source": [
    "sub_df.info()"
   ]
  },
  {
   "cell_type": "code",
   "execution_count": 50,
   "metadata": {},
   "outputs": [],
   "source": [
    "baskets = sub_df.values.tolist()"
   ]
  },
  {
   "cell_type": "code",
   "execution_count": 51,
   "metadata": {},
   "outputs": [],
   "source": [
    "supp_gridsearch = [70,80,90]\n",
    "zmin_gridsearch = [2,3,4,5,6,7,8,9,10,11,12,13,14,15]\n",
    "type_gridsearch = ['a', 'c', 'm']"
   ]
  },
  {
   "cell_type": "code",
   "execution_count": 52,
   "metadata": {},
   "outputs": [],
   "source": [
    "conf_gridsearch = [70,80,90]\n",
    "def report_regole(lista):\n",
    "    for item in lista:\n",
    "        print()\n",
    "        print(\"Target: \" + str(item[0]))\n",
    "        print(\"Support: \" + str(item[1]))\n",
    "        print(\"Zmin: \" + str(item[2]))\n",
    "        print(\"Confidence: \" + str(item[3]))\n",
    "        print()"
   ]
  },
  {
   "cell_type": "code",
   "execution_count": 53,
   "metadata": {},
   "outputs": [],
   "source": [
    "def report(lista):\n",
    "    for item in lista:\n",
    "        print()\n",
    "        print(\"Support: \" + str(item[0]))\n",
    "        print(\"Zmin: \" + str(item[1]))\n",
    "        if item[2] == 'a':\n",
    "            print(\"Type: frequent itemsets\")\n",
    "        elif item[2] == 'c':\n",
    "            print(\"Type: closed itemsets\")\n",
    "        elif item[2] == 'm':\n",
    "            print(\"Type: maximal itemsets\")\n",
    "        print(\"Len(Itemset): \" + str(item[3]))\n",
    "        print()"
   ]
  },
  {
   "cell_type": "code",
   "execution_count": 54,
   "metadata": {},
   "outputs": [],
   "source": [
    "results_rules = list()\n",
    "for i in range(len(supp_gridsearch)):\n",
    "    for j in range(len(zmin_gridsearch)):\n",
    "        for k in range(len(conf_gridsearch)):\n",
    "            rules = apriori(baskets, supp=supp_gridsearch[i], zmin=zmin_gridsearch[j], target='r', conf=conf_gridsearch[k], \n",
    "                report='ascl')\n",
    "            for r in rules:\n",
    "                if r[5] > 1.05 or r[5] < 0.95:\n",
    "                    results_rules.append(tuple((r, supp_gridsearch[i],zmin_gridsearch[j],conf_gridsearch[k])))"
   ]
  },
  {
   "cell_type": "code",
   "execution_count": 55,
   "metadata": {},
   "outputs": [
    {
     "data": {
      "text/plain": [
       "72"
      ]
     },
     "execution_count": 55,
     "metadata": {},
     "output_type": "execute_result"
    }
   ],
   "source": [
    "len(results_rules)"
   ]
  },
  {
   "cell_type": "code",
   "execution_count": 56,
   "metadata": {},
   "outputs": [
    {
     "name": "stdout",
     "output_type": "stream",
     "text": [
      "\n",
      "Target: ('0-3 years_YWCM', ('No_Attr', 'low_Stag', 'less 10 years_YAT'), 587, 0.579466929911155, 0.8198324022346368, 1.113257672203334)\n",
      "Support: 70\n",
      "Zmin: 2\n",
      "Confidence: 70\n",
      "\n",
      "\n",
      "Target: ('0-3 years_YWCM', ('No_Attr', 'low_Stag', 'yes_TrainTimesLY'), 577, 0.5695952615992103, 0.8126760563380282, 1.103540006796813)\n",
      "Support: 70\n",
      "Zmin: 2\n",
      "Confidence: 70\n",
      "\n",
      "\n",
      "Target: ('0-3 years_YWCM', ('No_Attr', 'low_Stag'), 594, 0.5863770977295163, 0.8136986301369863, 1.1049285688053179)\n",
      "Support: 70\n",
      "Zmin: 2\n",
      "Confidence: 70\n",
      "\n",
      "\n",
      "Target: ('low_Stag', ('0-3 years_YWCM', 'less 10 years_YAT', 'yes_TrainTimesLY'), 709, 0.6999012833168805, 0.9874651810584958, 1.1239350881036587)\n",
      "Support: 70\n",
      "Zmin: 2\n",
      "Confidence: 70\n",
      "\n",
      "\n",
      "Target: ('0-3 years_YWCM', ('low_Stag', 'less 10 years_YAT', 'yes_TrainTimesLY'), 709, 0.6999012833168805, 0.8321596244131455, 1.129996916260746)\n",
      "Support: 70\n",
      "Zmin: 2\n",
      "Confidence: 70\n",
      "\n",
      "\n",
      "Target: ('low_Stag', ('0-3 years_YWCM', 'less 10 years_YAT'), 728, 0.7186574531095755, 0.9877883310719131, 1.1243028981751102)\n",
      "Support: 70\n",
      "Zmin: 2\n",
      "Confidence: 70\n",
      "\n",
      "\n",
      "Target: ('0-3 years_YWCM', ('low_Stag', 'less 10 years_YAT'), 728, 0.7186574531095755, 0.8329519450800915, 1.1310728155041994)\n",
      "Support: 70\n",
      "Zmin: 2\n",
      "Confidence: 70\n",
      "\n",
      "\n",
      "Target: ('low_Stag', ('0-3 years_YWCM', 'yes_TrainTimesLY'), 717, 0.7077986179664363, 0.9862448418156808, 1.1225460952351514)\n",
      "Support: 70\n",
      "Zmin: 2\n",
      "Confidence: 70\n",
      "\n",
      "\n",
      "Target: ('0-3 years_YWCM', ('low_Stag', 'yes_TrainTimesLY'), 717, 0.7077986179664363, 0.826036866359447, 1.1216827689304556)\n",
      "Support: 70\n",
      "Zmin: 2\n",
      "Confidence: 70\n",
      "\n",
      "\n",
      "Target: ('low_Stag', ('0-3 years_YWCM',), 736, 0.7265547877591313, 0.9865951742627346, 1.1229448444136518)\n",
      "Support: 70\n",
      "Zmin: 2\n",
      "Confidence: 70\n",
      "\n",
      "\n",
      "Target: ('0-3 years_YWCM', ('low_Stag',), 736, 0.7265547877591313, 0.8269662921348314, 1.1229448444136518)\n",
      "Support: 70\n",
      "Zmin: 2\n",
      "Confidence: 70\n",
      "\n",
      "\n",
      "Target: ('0-3 years_YWCM', ('No_Attr', 'low_Stag', 'less 10 years_YAT'), 587, 0.579466929911155, 0.8198324022346368, 1.113257672203334)\n",
      "Support: 70\n",
      "Zmin: 2\n",
      "Confidence: 80\n",
      "\n",
      "\n",
      "Target: ('0-3 years_YWCM', ('No_Attr', 'low_Stag', 'yes_TrainTimesLY'), 577, 0.5695952615992103, 0.8126760563380282, 1.103540006796813)\n",
      "Support: 70\n",
      "Zmin: 2\n",
      "Confidence: 80\n",
      "\n",
      "\n",
      "Target: ('0-3 years_YWCM', ('No_Attr', 'low_Stag'), 594, 0.5863770977295163, 0.8136986301369863, 1.1049285688053179)\n",
      "Support: 70\n",
      "Zmin: 2\n",
      "Confidence: 80\n",
      "\n",
      "\n",
      "Target: ('low_Stag', ('0-3 years_YWCM', 'less 10 years_YAT', 'yes_TrainTimesLY'), 709, 0.6999012833168805, 0.9874651810584958, 1.1239350881036587)\n",
      "Support: 70\n",
      "Zmin: 2\n",
      "Confidence: 80\n",
      "\n",
      "\n",
      "Target: ('0-3 years_YWCM', ('low_Stag', 'less 10 years_YAT', 'yes_TrainTimesLY'), 709, 0.6999012833168805, 0.8321596244131455, 1.129996916260746)\n",
      "Support: 70\n",
      "Zmin: 2\n",
      "Confidence: 80\n",
      "\n",
      "\n",
      "Target: ('low_Stag', ('0-3 years_YWCM', 'less 10 years_YAT'), 728, 0.7186574531095755, 0.9877883310719131, 1.1243028981751102)\n",
      "Support: 70\n",
      "Zmin: 2\n",
      "Confidence: 80\n",
      "\n",
      "\n",
      "Target: ('0-3 years_YWCM', ('low_Stag', 'less 10 years_YAT'), 728, 0.7186574531095755, 0.8329519450800915, 1.1310728155041994)\n",
      "Support: 70\n",
      "Zmin: 2\n",
      "Confidence: 80\n",
      "\n",
      "\n",
      "Target: ('low_Stag', ('0-3 years_YWCM', 'yes_TrainTimesLY'), 717, 0.7077986179664363, 0.9862448418156808, 1.1225460952351514)\n",
      "Support: 70\n",
      "Zmin: 2\n",
      "Confidence: 80\n",
      "\n",
      "\n",
      "Target: ('0-3 years_YWCM', ('low_Stag', 'yes_TrainTimesLY'), 717, 0.7077986179664363, 0.826036866359447, 1.1216827689304556)\n",
      "Support: 70\n",
      "Zmin: 2\n",
      "Confidence: 80\n",
      "\n",
      "\n",
      "Target: ('low_Stag', ('0-3 years_YWCM',), 736, 0.7265547877591313, 0.9865951742627346, 1.1229448444136518)\n",
      "Support: 70\n",
      "Zmin: 2\n",
      "Confidence: 80\n",
      "\n",
      "\n",
      "Target: ('0-3 years_YWCM', ('low_Stag',), 736, 0.7265547877591313, 0.8269662921348314, 1.1229448444136518)\n",
      "Support: 70\n",
      "Zmin: 2\n",
      "Confidence: 80\n",
      "\n",
      "\n",
      "Target: ('low_Stag', ('0-3 years_YWCM', 'less 10 years_YAT', 'yes_TrainTimesLY'), 709, 0.6999012833168805, 0.9874651810584958, 1.1239350881036587)\n",
      "Support: 70\n",
      "Zmin: 2\n",
      "Confidence: 90\n",
      "\n",
      "\n",
      "Target: ('low_Stag', ('0-3 years_YWCM', 'less 10 years_YAT'), 728, 0.7186574531095755, 0.9877883310719131, 1.1243028981751102)\n",
      "Support: 70\n",
      "Zmin: 2\n",
      "Confidence: 90\n",
      "\n",
      "\n",
      "Target: ('low_Stag', ('0-3 years_YWCM', 'yes_TrainTimesLY'), 717, 0.7077986179664363, 0.9862448418156808, 1.1225460952351514)\n",
      "Support: 70\n",
      "Zmin: 2\n",
      "Confidence: 90\n",
      "\n",
      "\n",
      "Target: ('low_Stag', ('0-3 years_YWCM',), 736, 0.7265547877591313, 0.9865951742627346, 1.1229448444136518)\n",
      "Support: 70\n",
      "Zmin: 2\n",
      "Confidence: 90\n",
      "\n",
      "\n",
      "Target: ('0-3 years_YWCM', ('No_Attr', 'low_Stag', 'less 10 years_YAT'), 587, 0.579466929911155, 0.8198324022346368, 1.113257672203334)\n",
      "Support: 70\n",
      "Zmin: 3\n",
      "Confidence: 70\n",
      "\n",
      "\n",
      "Target: ('0-3 years_YWCM', ('No_Attr', 'low_Stag', 'yes_TrainTimesLY'), 577, 0.5695952615992103, 0.8126760563380282, 1.103540006796813)\n",
      "Support: 70\n",
      "Zmin: 3\n",
      "Confidence: 70\n",
      "\n",
      "\n",
      "Target: ('0-3 years_YWCM', ('No_Attr', 'low_Stag'), 594, 0.5863770977295163, 0.8136986301369863, 1.1049285688053179)\n",
      "Support: 70\n",
      "Zmin: 3\n",
      "Confidence: 70\n",
      "\n",
      "\n",
      "Target: ('low_Stag', ('0-3 years_YWCM', 'less 10 years_YAT', 'yes_TrainTimesLY'), 709, 0.6999012833168805, 0.9874651810584958, 1.1239350881036587)\n",
      "Support: 70\n",
      "Zmin: 3\n",
      "Confidence: 70\n",
      "\n",
      "\n",
      "Target: ('0-3 years_YWCM', ('low_Stag', 'less 10 years_YAT', 'yes_TrainTimesLY'), 709, 0.6999012833168805, 0.8321596244131455, 1.129996916260746)\n",
      "Support: 70\n",
      "Zmin: 3\n",
      "Confidence: 70\n",
      "\n",
      "\n",
      "Target: ('low_Stag', ('0-3 years_YWCM', 'less 10 years_YAT'), 728, 0.7186574531095755, 0.9877883310719131, 1.1243028981751102)\n",
      "Support: 70\n",
      "Zmin: 3\n",
      "Confidence: 70\n",
      "\n",
      "\n",
      "Target: ('0-3 years_YWCM', ('low_Stag', 'less 10 years_YAT'), 728, 0.7186574531095755, 0.8329519450800915, 1.1310728155041994)\n",
      "Support: 70\n",
      "Zmin: 3\n",
      "Confidence: 70\n",
      "\n",
      "\n",
      "Target: ('low_Stag', ('0-3 years_YWCM', 'yes_TrainTimesLY'), 717, 0.7077986179664363, 0.9862448418156808, 1.1225460952351514)\n",
      "Support: 70\n",
      "Zmin: 3\n",
      "Confidence: 70\n",
      "\n",
      "\n",
      "Target: ('0-3 years_YWCM', ('low_Stag', 'yes_TrainTimesLY'), 717, 0.7077986179664363, 0.826036866359447, 1.1216827689304556)\n",
      "Support: 70\n",
      "Zmin: 3\n",
      "Confidence: 70\n",
      "\n",
      "\n",
      "Target: ('0-3 years_YWCM', ('No_Attr', 'low_Stag', 'less 10 years_YAT'), 587, 0.579466929911155, 0.8198324022346368, 1.113257672203334)\n",
      "Support: 70\n",
      "Zmin: 3\n",
      "Confidence: 80\n",
      "\n",
      "\n",
      "Target: ('0-3 years_YWCM', ('No_Attr', 'low_Stag', 'yes_TrainTimesLY'), 577, 0.5695952615992103, 0.8126760563380282, 1.103540006796813)\n",
      "Support: 70\n",
      "Zmin: 3\n",
      "Confidence: 80\n",
      "\n",
      "\n",
      "Target: ('0-3 years_YWCM', ('No_Attr', 'low_Stag'), 594, 0.5863770977295163, 0.8136986301369863, 1.1049285688053179)\n",
      "Support: 70\n",
      "Zmin: 3\n",
      "Confidence: 80\n",
      "\n",
      "\n",
      "Target: ('low_Stag', ('0-3 years_YWCM', 'less 10 years_YAT', 'yes_TrainTimesLY'), 709, 0.6999012833168805, 0.9874651810584958, 1.1239350881036587)\n",
      "Support: 70\n",
      "Zmin: 3\n",
      "Confidence: 80\n",
      "\n",
      "\n",
      "Target: ('0-3 years_YWCM', ('low_Stag', 'less 10 years_YAT', 'yes_TrainTimesLY'), 709, 0.6999012833168805, 0.8321596244131455, 1.129996916260746)\n",
      "Support: 70\n",
      "Zmin: 3\n",
      "Confidence: 80\n",
      "\n",
      "\n",
      "Target: ('low_Stag', ('0-3 years_YWCM', 'less 10 years_YAT'), 728, 0.7186574531095755, 0.9877883310719131, 1.1243028981751102)\n",
      "Support: 70\n",
      "Zmin: 3\n",
      "Confidence: 80\n",
      "\n",
      "\n",
      "Target: ('0-3 years_YWCM', ('low_Stag', 'less 10 years_YAT'), 728, 0.7186574531095755, 0.8329519450800915, 1.1310728155041994)\n",
      "Support: 70\n",
      "Zmin: 3\n",
      "Confidence: 80\n",
      "\n",
      "\n",
      "Target: ('low_Stag', ('0-3 years_YWCM', 'yes_TrainTimesLY'), 717, 0.7077986179664363, 0.9862448418156808, 1.1225460952351514)\n",
      "Support: 70\n",
      "Zmin: 3\n",
      "Confidence: 80\n",
      "\n",
      "\n",
      "Target: ('0-3 years_YWCM', ('low_Stag', 'yes_TrainTimesLY'), 717, 0.7077986179664363, 0.826036866359447, 1.1216827689304556)\n",
      "Support: 70\n",
      "Zmin: 3\n",
      "Confidence: 80\n",
      "\n",
      "\n",
      "Target: ('low_Stag', ('0-3 years_YWCM', 'less 10 years_YAT', 'yes_TrainTimesLY'), 709, 0.6999012833168805, 0.9874651810584958, 1.1239350881036587)\n",
      "Support: 70\n",
      "Zmin: 3\n",
      "Confidence: 90\n",
      "\n",
      "\n",
      "Target: ('low_Stag', ('0-3 years_YWCM', 'less 10 years_YAT'), 728, 0.7186574531095755, 0.9877883310719131, 1.1243028981751102)\n",
      "Support: 70\n",
      "Zmin: 3\n",
      "Confidence: 90\n",
      "\n",
      "\n",
      "Target: ('low_Stag', ('0-3 years_YWCM', 'yes_TrainTimesLY'), 717, 0.7077986179664363, 0.9862448418156808, 1.1225460952351514)\n",
      "Support: 70\n",
      "Zmin: 3\n",
      "Confidence: 90\n",
      "\n",
      "\n",
      "Target: ('0-3 years_YWCM', ('No_Attr', 'low_Stag', 'less 10 years_YAT'), 587, 0.579466929911155, 0.8198324022346368, 1.113257672203334)\n",
      "Support: 70\n",
      "Zmin: 4\n",
      "Confidence: 70\n",
      "\n",
      "\n",
      "Target: ('0-3 years_YWCM', ('No_Attr', 'low_Stag', 'yes_TrainTimesLY'), 577, 0.5695952615992103, 0.8126760563380282, 1.103540006796813)\n",
      "Support: 70\n",
      "Zmin: 4\n",
      "Confidence: 70\n",
      "\n",
      "\n",
      "Target: ('low_Stag', ('0-3 years_YWCM', 'less 10 years_YAT', 'yes_TrainTimesLY'), 709, 0.6999012833168805, 0.9874651810584958, 1.1239350881036587)\n",
      "Support: 70\n",
      "Zmin: 4\n",
      "Confidence: 70\n",
      "\n",
      "\n",
      "Target: ('0-3 years_YWCM', ('low_Stag', 'less 10 years_YAT', 'yes_TrainTimesLY'), 709, 0.6999012833168805, 0.8321596244131455, 1.129996916260746)\n",
      "Support: 70\n",
      "Zmin: 4\n",
      "Confidence: 70\n",
      "\n",
      "\n",
      "Target: ('0-3 years_YWCM', ('No_Attr', 'low_Stag', 'less 10 years_YAT'), 587, 0.579466929911155, 0.8198324022346368, 1.113257672203334)\n",
      "Support: 70\n",
      "Zmin: 4\n",
      "Confidence: 80\n",
      "\n",
      "\n",
      "Target: ('0-3 years_YWCM', ('No_Attr', 'low_Stag', 'yes_TrainTimesLY'), 577, 0.5695952615992103, 0.8126760563380282, 1.103540006796813)\n",
      "Support: 70\n",
      "Zmin: 4\n",
      "Confidence: 80\n",
      "\n",
      "\n",
      "Target: ('low_Stag', ('0-3 years_YWCM', 'less 10 years_YAT', 'yes_TrainTimesLY'), 709, 0.6999012833168805, 0.9874651810584958, 1.1239350881036587)\n",
      "Support: 70\n",
      "Zmin: 4\n",
      "Confidence: 80\n",
      "\n",
      "\n",
      "Target: ('0-3 years_YWCM', ('low_Stag', 'less 10 years_YAT', 'yes_TrainTimesLY'), 709, 0.6999012833168805, 0.8321596244131455, 1.129996916260746)\n",
      "Support: 70\n",
      "Zmin: 4\n",
      "Confidence: 80\n",
      "\n",
      "\n",
      "Target: ('low_Stag', ('0-3 years_YWCM', 'less 10 years_YAT', 'yes_TrainTimesLY'), 709, 0.6999012833168805, 0.9874651810584958, 1.1239350881036587)\n",
      "Support: 70\n",
      "Zmin: 4\n",
      "Confidence: 90\n",
      "\n",
      "\n",
      "Target: ('0-3 years_YWCM', ('low_Stag', 'less 10 years_YAT', 'yes_TrainTimesLY'), 709, 0.6999012833168805, 0.8321596244131455, 1.129996916260746)\n",
      "Support: 80\n",
      "Zmin: 2\n",
      "Confidence: 70\n",
      "\n",
      "\n",
      "Target: ('0-3 years_YWCM', ('low_Stag', 'less 10 years_YAT'), 728, 0.7186574531095755, 0.8329519450800915, 1.1310728155041994)\n",
      "Support: 80\n",
      "Zmin: 2\n",
      "Confidence: 70\n",
      "\n",
      "\n",
      "Target: ('0-3 years_YWCM', ('low_Stag', 'yes_TrainTimesLY'), 717, 0.7077986179664363, 0.826036866359447, 1.1216827689304556)\n",
      "Support: 80\n",
      "Zmin: 2\n",
      "Confidence: 70\n",
      "\n",
      "\n",
      "Target: ('0-3 years_YWCM', ('low_Stag',), 736, 0.7265547877591313, 0.8269662921348314, 1.1229448444136518)\n",
      "Support: 80\n",
      "Zmin: 2\n",
      "Confidence: 70\n",
      "\n",
      "\n",
      "Target: ('0-3 years_YWCM', ('low_Stag', 'less 10 years_YAT', 'yes_TrainTimesLY'), 709, 0.6999012833168805, 0.8321596244131455, 1.129996916260746)\n",
      "Support: 80\n",
      "Zmin: 2\n",
      "Confidence: 80\n",
      "\n",
      "\n",
      "Target: ('0-3 years_YWCM', ('low_Stag', 'less 10 years_YAT'), 728, 0.7186574531095755, 0.8329519450800915, 1.1310728155041994)\n",
      "Support: 80\n",
      "Zmin: 2\n",
      "Confidence: 80\n",
      "\n",
      "\n",
      "Target: ('0-3 years_YWCM', ('low_Stag', 'yes_TrainTimesLY'), 717, 0.7077986179664363, 0.826036866359447, 1.1216827689304556)\n",
      "Support: 80\n",
      "Zmin: 2\n",
      "Confidence: 80\n",
      "\n",
      "\n",
      "Target: ('0-3 years_YWCM', ('low_Stag',), 736, 0.7265547877591313, 0.8269662921348314, 1.1229448444136518)\n",
      "Support: 80\n",
      "Zmin: 2\n",
      "Confidence: 80\n",
      "\n",
      "\n",
      "Target: ('0-3 years_YWCM', ('low_Stag', 'less 10 years_YAT', 'yes_TrainTimesLY'), 709, 0.6999012833168805, 0.8321596244131455, 1.129996916260746)\n",
      "Support: 80\n",
      "Zmin: 3\n",
      "Confidence: 70\n",
      "\n",
      "\n",
      "Target: ('0-3 years_YWCM', ('low_Stag', 'less 10 years_YAT'), 728, 0.7186574531095755, 0.8329519450800915, 1.1310728155041994)\n",
      "Support: 80\n",
      "Zmin: 3\n",
      "Confidence: 70\n",
      "\n",
      "\n",
      "Target: ('0-3 years_YWCM', ('low_Stag', 'yes_TrainTimesLY'), 717, 0.7077986179664363, 0.826036866359447, 1.1216827689304556)\n",
      "Support: 80\n",
      "Zmin: 3\n",
      "Confidence: 70\n",
      "\n",
      "\n",
      "Target: ('0-3 years_YWCM', ('low_Stag', 'less 10 years_YAT', 'yes_TrainTimesLY'), 709, 0.6999012833168805, 0.8321596244131455, 1.129996916260746)\n",
      "Support: 80\n",
      "Zmin: 3\n",
      "Confidence: 80\n",
      "\n",
      "\n",
      "Target: ('0-3 years_YWCM', ('low_Stag', 'less 10 years_YAT'), 728, 0.7186574531095755, 0.8329519450800915, 1.1310728155041994)\n",
      "Support: 80\n",
      "Zmin: 3\n",
      "Confidence: 80\n",
      "\n",
      "\n",
      "Target: ('0-3 years_YWCM', ('low_Stag', 'yes_TrainTimesLY'), 717, 0.7077986179664363, 0.826036866359447, 1.1216827689304556)\n",
      "Support: 80\n",
      "Zmin: 3\n",
      "Confidence: 80\n",
      "\n",
      "\n",
      "Target: ('0-3 years_YWCM', ('low_Stag', 'less 10 years_YAT', 'yes_TrainTimesLY'), 709, 0.6999012833168805, 0.8321596244131455, 1.129996916260746)\n",
      "Support: 80\n",
      "Zmin: 4\n",
      "Confidence: 70\n",
      "\n",
      "\n",
      "Target: ('0-3 years_YWCM', ('low_Stag', 'less 10 years_YAT', 'yes_TrainTimesLY'), 709, 0.6999012833168805, 0.8321596244131455, 1.129996916260746)\n",
      "Support: 80\n",
      "Zmin: 4\n",
      "Confidence: 80\n",
      "\n"
     ]
    }
   ],
   "source": [
    "report_regole(results_rules)"
   ]
  },
  {
   "cell_type": "code",
   "execution_count": 58,
   "metadata": {},
   "outputs": [],
   "source": [
    "sotto_sotto_df = df_pattern.drop(columns=['JobRole','DistanceFromHomeBin','EducationCat','EnvironmentSatisfactionCat',\n",
    "                                         'GenderCat', 'JobInvolvementCat','JobSatisfactionCat', 'NumCompaniesWorkedBin',\n",
    "                                         'OverTimeCat', 'PercentSalaryHikeBin','StockOptionLevelCat', 'YearsAtCompanyBin',\n",
    "                                         'YearsWithCurrManagerBin'])"
   ]
  },
  {
   "cell_type": "code",
   "execution_count": 82,
   "metadata": {},
   "outputs": [
    {
     "name": "stdout",
     "output_type": "stream",
     "text": [
      "<class 'pandas.core.frame.DataFrame'>\n",
      "RangeIndex: 1013 entries, 0 to 1012\n",
      "Data columns (total 12 columns):\n",
      " #   Column                       Non-Null Count  Dtype \n",
      "---  ------                       --------------  ----- \n",
      " 0   BusinessTravel               1013 non-null   object\n",
      " 1   Department                   1013 non-null   object\n",
      " 2   EducationField               1013 non-null   object\n",
      " 3   MaritalStatus                1013 non-null   object\n",
      " 4   AgeBin                       1013 non-null   object\n",
      " 5   AttritionCat                 1013 non-null   object\n",
      " 6   MonthlyIncomeBin             1013 non-null   object\n",
      " 7   RelationshipSatisfactionCat  1013 non-null   object\n",
      " 8   TotalWorkingYearsBin         1013 non-null   object\n",
      " 9   TrainingTimesLastYearBin     1013 non-null   object\n",
      " 10  WorkLifeBalanceCat           1013 non-null   object\n",
      " 11  StagnationBin                1013 non-null   object\n",
      "dtypes: object(12)\n",
      "memory usage: 95.1+ KB\n"
     ]
    }
   ],
   "source": [
    "sotto_sotto_df.info()"
   ]
  },
  {
   "cell_type": "code",
   "execution_count": 63,
   "metadata": {},
   "outputs": [],
   "source": [
    "baskets = sotto_sotto_df.values.tolist()"
   ]
  },
  {
   "cell_type": "code",
   "execution_count": 76,
   "metadata": {},
   "outputs": [],
   "source": [
    "supp_gridsearch = [50,60]\n",
    "zmin_gridsearch = [2,3,4,5,6,7,8,9,10,11,12,13,14,15]\n",
    "type_gridsearch = ['a', 'c', 'm']"
   ]
  },
  {
   "cell_type": "code",
   "execution_count": 77,
   "metadata": {},
   "outputs": [],
   "source": [
    "conf_gridsearch = [70,80,90]\n",
    "def report_regole(lista):\n",
    "    for item in lista:\n",
    "        print()\n",
    "        print(\"Target: \" + str(item[0]))\n",
    "        print(\"Support: \" + str(item[1]))\n",
    "        print(\"Zmin: \" + str(item[2]))\n",
    "        print(\"Confidence: \" + str(item[3]))\n",
    "        print()"
   ]
  },
  {
   "cell_type": "code",
   "execution_count": 78,
   "metadata": {},
   "outputs": [],
   "source": [
    "def report(lista):\n",
    "    for item in lista:\n",
    "        print()\n",
    "        print(\"Support: \" + str(item[0]))\n",
    "        print(\"Zmin: \" + str(item[1]))\n",
    "        if item[2] == 'a':\n",
    "            print(\"Type: frequent itemsets\")\n",
    "        elif item[2] == 'c':\n",
    "            print(\"Type: closed itemsets\")\n",
    "        elif item[2] == 'm':\n",
    "            print(\"Type: maximal itemsets\")\n",
    "        print(\"Len(Itemset): \" + str(item[3]))\n",
    "        print()"
   ]
  },
  {
   "cell_type": "code",
   "execution_count": 79,
   "metadata": {},
   "outputs": [],
   "source": [
    "results_rules = list()\n",
    "for i in range(len(supp_gridsearch)):\n",
    "    for j in range(len(zmin_gridsearch)):\n",
    "        for k in range(len(conf_gridsearch)):\n",
    "            rules = apriori(baskets, supp=supp_gridsearch[i], zmin=zmin_gridsearch[j], target='r', conf=conf_gridsearch[k], \n",
    "                report='ascl')\n",
    "            for r in rules:\n",
    "                if r[5] > 1.05 or r[5] < 0.95:\n",
    "                    results_rules.append(tuple((r, supp_gridsearch[i],zmin_gridsearch[j],conf_gridsearch[k])))"
   ]
  },
  {
   "cell_type": "code",
   "execution_count": 80,
   "metadata": {},
   "outputs": [
    {
     "data": {
      "text/plain": [
       "20"
      ]
     },
     "execution_count": 80,
     "metadata": {},
     "output_type": "execute_result"
    }
   ],
   "source": [
    "len(results_rules)"
   ]
  },
  {
   "cell_type": "code",
   "execution_count": 81,
   "metadata": {},
   "outputs": [
    {
     "name": "stdout",
     "output_type": "stream",
     "text": [
      "\n",
      "Target: ('No_Attr', ('less 10 years_TWY', 'low_Stag', 'yes_TrainTimesLY'), 420, 0.4146100691016782, 0.7763401109057301, 0.9328974286447267)\n",
      "Support: 50\n",
      "Zmin: 2\n",
      "Confidence: 70\n",
      "\n",
      "\n",
      "Target: ('No_Attr', ('less 10 years_TWY', 'low_Stag'), 433, 0.42744323790720634, 0.7787769784172662, 0.9358257166508785)\n",
      "Support: 50\n",
      "Zmin: 2\n",
      "Confidence: 70\n",
      "\n",
      "\n",
      "Target: ('No_Attr', ('less 10 years_TWY', 'yes_TrainTimesLY'), 434, 0.42843040473840077, 0.7777777777777778, 0.9346250164755503)\n",
      "Support: 50\n",
      "Zmin: 2\n",
      "Confidence: 70\n",
      "\n",
      "\n",
      "Target: ('No_Attr', ('less 10 years_TWY',), 449, 0.4432379072063179, 0.7808695652173913, 0.9383402960441487)\n",
      "Support: 50\n",
      "Zmin: 2\n",
      "Confidence: 70\n",
      "\n",
      "\n",
      "Target: ('low_Stag', ('less 10 years_TWY', 'yes_TrainTimesLY'), 541, 0.5340572556762093, 0.9695340501792115, 1.1035258346421812)\n",
      "Support: 50\n",
      "Zmin: 2\n",
      "Confidence: 70\n",
      "\n",
      "\n",
      "Target: ('low_Stag', ('less 10 years_TWY',), 556, 0.5488647581441264, 0.9669565217391304, 1.1005920859794822)\n",
      "Support: 50\n",
      "Zmin: 2\n",
      "Confidence: 70\n",
      "\n",
      "\n",
      "Target: ('low_Inc', ('[28.0, 38.0)_Age', 'yes_TrainTimesLY'), 449, 0.4432379072063179, 0.798932384341637, 1.0579326867164422)\n",
      "Support: 50\n",
      "Zmin: 2\n",
      "Confidence: 70\n",
      "\n",
      "\n",
      "Target: ('low_Inc', ('[28.0, 38.0)_Age',), 461, 0.4550839091806515, 0.7989601386481803, 1.057969438497525)\n",
      "Support: 50\n",
      "Zmin: 2\n",
      "Confidence: 70\n",
      "\n",
      "\n",
      "Target: ('low_Stag', ('less 10 years_TWY', 'yes_TrainTimesLY'), 541, 0.5340572556762093, 0.9695340501792115, 1.1035258346421812)\n",
      "Support: 50\n",
      "Zmin: 2\n",
      "Confidence: 80\n",
      "\n",
      "\n",
      "Target: ('low_Stag', ('less 10 years_TWY',), 556, 0.5488647581441264, 0.9669565217391304, 1.1005920859794822)\n",
      "Support: 50\n",
      "Zmin: 2\n",
      "Confidence: 80\n",
      "\n",
      "\n",
      "Target: ('low_Stag', ('less 10 years_TWY', 'yes_TrainTimesLY'), 541, 0.5340572556762093, 0.9695340501792115, 1.1035258346421812)\n",
      "Support: 50\n",
      "Zmin: 2\n",
      "Confidence: 90\n",
      "\n",
      "\n",
      "Target: ('low_Stag', ('less 10 years_TWY',), 556, 0.5488647581441264, 0.9669565217391304, 1.1005920859794822)\n",
      "Support: 50\n",
      "Zmin: 2\n",
      "Confidence: 90\n",
      "\n",
      "\n",
      "Target: ('No_Attr', ('less 10 years_TWY', 'low_Stag', 'yes_TrainTimesLY'), 420, 0.4146100691016782, 0.7763401109057301, 0.9328974286447267)\n",
      "Support: 50\n",
      "Zmin: 3\n",
      "Confidence: 70\n",
      "\n",
      "\n",
      "Target: ('No_Attr', ('less 10 years_TWY', 'low_Stag'), 433, 0.42744323790720634, 0.7787769784172662, 0.9358257166508785)\n",
      "Support: 50\n",
      "Zmin: 3\n",
      "Confidence: 70\n",
      "\n",
      "\n",
      "Target: ('No_Attr', ('less 10 years_TWY', 'yes_TrainTimesLY'), 434, 0.42843040473840077, 0.7777777777777778, 0.9346250164755503)\n",
      "Support: 50\n",
      "Zmin: 3\n",
      "Confidence: 70\n",
      "\n",
      "\n",
      "Target: ('low_Stag', ('less 10 years_TWY', 'yes_TrainTimesLY'), 541, 0.5340572556762093, 0.9695340501792115, 1.1035258346421812)\n",
      "Support: 50\n",
      "Zmin: 3\n",
      "Confidence: 70\n",
      "\n",
      "\n",
      "Target: ('low_Inc', ('[28.0, 38.0)_Age', 'yes_TrainTimesLY'), 449, 0.4432379072063179, 0.798932384341637, 1.0579326867164422)\n",
      "Support: 50\n",
      "Zmin: 3\n",
      "Confidence: 70\n",
      "\n",
      "\n",
      "Target: ('low_Stag', ('less 10 years_TWY', 'yes_TrainTimesLY'), 541, 0.5340572556762093, 0.9695340501792115, 1.1035258346421812)\n",
      "Support: 50\n",
      "Zmin: 3\n",
      "Confidence: 80\n",
      "\n",
      "\n",
      "Target: ('low_Stag', ('less 10 years_TWY', 'yes_TrainTimesLY'), 541, 0.5340572556762093, 0.9695340501792115, 1.1035258346421812)\n",
      "Support: 50\n",
      "Zmin: 3\n",
      "Confidence: 90\n",
      "\n",
      "\n",
      "Target: ('No_Attr', ('less 10 years_TWY', 'low_Stag', 'yes_TrainTimesLY'), 420, 0.4146100691016782, 0.7763401109057301, 0.9328974286447267)\n",
      "Support: 50\n",
      "Zmin: 4\n",
      "Confidence: 70\n",
      "\n"
     ]
    }
   ],
   "source": [
    "report_regole(results_rules)"
   ]
  },
  {
   "cell_type": "code",
   "execution_count": null,
   "metadata": {},
   "outputs": [],
   "source": []
  }
 ],
 "metadata": {
  "kernelspec": {
   "display_name": "Python 3",
   "language": "python",
   "name": "python3"
  },
  "language_info": {
   "codemirror_mode": {
    "name": "ipython",
    "version": 3
   },
   "file_extension": ".py",
   "mimetype": "text/x-python",
   "name": "python",
   "nbconvert_exporter": "python",
   "pygments_lexer": "ipython3",
   "version": "3.8.2"
  }
 },
 "nbformat": 4,
 "nbformat_minor": 4
}
